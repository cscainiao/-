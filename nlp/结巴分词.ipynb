{
 "cells": [
  {
   "cell_type": "markdown",
   "metadata": {},
   "source": [
    "## 结巴分词简单学习使用\n",
    "github地址:https://github.com/fxsjy/jieba\n",
    "\n",
    "https://blog.csdn.net/haishu_zheng/article/details/80430106"
   ]
  },
  {
   "cell_type": "markdown",
   "metadata": {},
   "source": [
    "### 安装\n",
    "pip install jieba\n",
    "### TF-IDF算法介绍及实现\n",
    "https://blog.csdn.net/asialee_bird/article/details/81486700"
   ]
  },
  {
   "cell_type": "markdown",
   "metadata": {},
   "source": [
    "## 主要功能\n",
    "### 1、分词\n",
    "结巴中文分词支持的三种分词模式包括： \n",
    "(1) 精确模式：试图将句子最精确地切开，适合文本分析； \n",
    "(2) 全模式：把句子中所有的可以成词的词语都扫描出来, 速度非常快，但是不能解决歧义问题； \n",
    "(3) 搜索引擎模式：在精确模式的基础上，对长词再次切分，提高召回率，适合用于搜索引擎分词。"
   ]
  },
  {
   "cell_type": "code",
   "execution_count": 1,
   "metadata": {},
   "outputs": [
    {
     "name": "stderr",
     "output_type": "stream",
     "text": [
      "Building prefix dict from the default dictionary ...\n",
      "Dumping model to file cache C:\\Users\\ADMINI~1\\AppData\\Local\\Temp\\jieba.cache\n",
      "Loading model cost 0.798 seconds.\n",
      "Prefix dict has been built succesfully.\n"
     ]
    },
    {
     "name": "stdout",
     "output_type": "stream",
     "text": [
      "[全模式]:  我/ 来到/ 北京/ 清华/ 清华大学/ 华大/ 大学\n",
      "[精确模式]:  我/ 来到/ 北京/ 清华大学\n",
      "[默认模式]:  我/ 来到/ 北京/ 清华大学\n",
      "[搜索引擎模式]:  我/ 来到/ 北京/ 清华/ 华大/ 大学/ 清华大学\n"
     ]
    }
   ],
   "source": [
    "import jieba\n",
    "\n",
    "# 全模式\n",
    "text = \"我来到北京清华大学\"\n",
    "seg_list = jieba.cut(text, cut_all=True)\n",
    "print(u\"[全模式]: \", \"/ \".join(seg_list))\n",
    "\n",
    "# 精确模式\n",
    "seg_list = jieba.cut(text, cut_all=False)\n",
    "print(u\"[精确模式]: \", \"/ \".join(seg_list))\n",
    "\n",
    "# 默认是精确模式\n",
    "seg_list = jieba.cut(text)\n",
    "print(u\"[默认模式]: \", \"/ \".join(seg_list))\n",
    "\n",
    "# 搜索引擎模式\n",
    "seg_list = jieba.cut_for_search(text)\n",
    "print(u\"[搜索引擎模式]: \", \"/ \".join(seg_list))"
   ]
  },
  {
   "cell_type": "markdown",
   "metadata": {},
   "source": [
    "### 2、新词识别\n"
   ]
  },
  {
   "cell_type": "code",
   "execution_count": 2,
   "metadata": {},
   "outputs": [
    {
     "name": "stdout",
     "output_type": "stream",
     "text": [
      "[新词识别]:  他/ 来到/ 了/ 网易/ 杭研/ 大厦\n"
     ]
    }
   ],
   "source": [
    "import jieba\n",
    "\n",
    "#新词识别  “杭研”并没有在词典中,但是也被Viterbi算法识别出来了\n",
    "seg_list = jieba.cut(\"他来到了网易杭研大厦\")\n",
    "print (u\"[新词识别]: \", \"/ \".join(seg_list))"
   ]
  },
  {
   "cell_type": "markdown",
   "metadata": {},
   "source": [
    "### 3、自定义词典\n",
    "先看一个例子："
   ]
  },
  {
   "cell_type": "code",
   "execution_count": 3,
   "metadata": {},
   "outputs": [
    {
     "name": "stdout",
     "output_type": "stream",
     "text": [
      "[全模式]:  故宫/ 的/ 著名/ 著名景点/ 景点/ 包括/ 乾/ 清宫/ / / 太和/ 太和殿/ 和/ 黄/ 琉璃/ 琉璃瓦/ 等\n",
      "[精确模式]:  故宫/ 的/ 著名景点/ 包括/ 乾/ 清宫/ 、/ 太和殿/ 和/ 黄/ 琉璃瓦/ 等\n",
      "[搜索引擎模式]:  故宫/ 的/ 著名/ 景点/ 著名景点/ 包括/ 乾/ 清宫/ 、/ 太和/ 太和殿/ 和/ 黄/ 琉璃/ 琉璃瓦/ 等\n"
     ]
    }
   ],
   "source": [
    "import jieba\n",
    "\n",
    "text = \"故宫的著名景点包括乾清宫、太和殿和黄琉璃瓦等\"\n",
    "\n",
    "# 全模式\n",
    "seg_list = jieba.cut(text, cut_all=True)\n",
    "print(u\"[全模式]: \", \"/ \".join(seg_list))\n",
    "\n",
    "# 精确模式\n",
    "seg_list = jieba.cut(text, cut_all=False)\n",
    "print(u\"[精确模式]: \", \"/ \".join(seg_list))\n",
    "\n",
    "# 搜索引擎模式\n",
    "seg_list = jieba.cut_for_search(text)\n",
    "print(u\"[搜索引擎模式]: \", \"/ \".join(seg_list))"
   ]
  },
  {
   "cell_type": "markdown",
   "metadata": {},
   "source": [
    "可以看到，结巴分词工具认出了专有名词”太和殿”，但没有认出”乾清宫”和”黄琉璃瓦”。 \n",
    "也就是说，专有名词”乾清宫”和”黄琉璃瓦”可能因分词而分开，这也是很多分词工具的一个缺陷。 \n",
    "为此，Jieba分词支持开发者使用自定定义的词典，以便包含jieba词库里没有的词语。虽然结巴有新词识别能力，但自行添加新词可以保证更高的正确率，尤其是专有名词。 \n",
    "基本用法：\n"
   ]
  },
  {
   "cell_type": "code",
   "execution_count": 4,
   "metadata": {},
   "outputs": [],
   "source": [
    "jieba.load_userdict('dict.txt') #file_name为自定义词典的路径"
   ]
  },
  {
   "cell_type": "code",
   "execution_count": 5,
   "metadata": {},
   "outputs": [
    {
     "name": "stdout",
     "output_type": "stream",
     "text": [
      "[全模式]:  故宫/ 的/ 著名/ 著名景点/ 景点/ 包括/ 乾清宫/ 清宫/ / / 太和/ 太和殿/ 和/ 黄琉璃瓦/ 琉璃/ 琉璃瓦/ 等\n",
      "[精确模式]:  故宫/ 的/ 著名景点/ 包括/ 乾清宫/ 、/ 太和殿/ 和/ 黄琉璃瓦/ 等\n",
      "[搜索引擎模式]:  故宫/ 的/ 著名/ 景点/ 著名景点/ 包括/ 清宫/ 乾清宫/ 、/ 太和/ 太和殿/ 和/ 琉璃/ 琉璃瓦/ 黄琉璃瓦/ 等\n"
     ]
    }
   ],
   "source": [
    "import jieba\n",
    "\n",
    "text = \"故宫的著名景点包括乾清宫、太和殿和黄琉璃瓦等\"\n",
    "\n",
    "# 全模式\n",
    "seg_list = jieba.cut(text, cut_all=True)\n",
    "print(u\"[全模式]: \", \"/ \".join(seg_list))\n",
    "\n",
    "# 精确模式\n",
    "seg_list = jieba.cut(text, cut_all=False)\n",
    "print(u\"[精确模式]: \", \"/ \".join(seg_list))\n",
    "\n",
    "# 搜索引擎模式\n",
    "seg_list = jieba.cut_for_search(text)\n",
    "print(u\"[搜索引擎模式]: \", \"/ \".join(seg_list))"
   ]
  },
  {
   "cell_type": "markdown",
   "metadata": {},
   "source": [
    "可以看到，新添加的两个专有名词已经被结巴分词工具辨别出来了。"
   ]
  },
  {
   "cell_type": "markdown",
   "metadata": {},
   "source": [
    "### 4、关键词提取\n",
    "在构建VSM向量空间模型过程或者把文本转换成数学形式计算中，你需要运用到关键词提取的技术。\n",
    "\n",
    "基本方法："
   ]
  },
  {
   "cell_type": "code",
   "execution_count": null,
   "metadata": {},
   "outputs": [],
   "source": [
    "jieba.analyse.extract_tags(sentence, topK) "
   ]
  },
  {
   "cell_type": "markdown",
   "metadata": {},
   "source": [
    "其中sentence为待提取的文本，topK为返回几个TF/IDF权重最大的关键词，默认值为20。\n",
    "\n",
    "程序：\n"
   ]
  },
  {
   "cell_type": "code",
   "execution_count": 11,
   "metadata": {},
   "outputs": [
    {
     "name": "stdout",
     "output_type": "stream",
     "text": [
      "分词结果:\n",
      "故宫/的/著名景点/包括/乾清宫/、/太和殿/和/午门/等/。/其中/乾清宫/非常/精美/，/午门/是/紫禁城/的/正门/，/午门/居中/向阳/。\n",
      "tf-idf算法提取关键词:\n",
      "午门 乾清宫 著名景点 太和殿 向阳\n",
      "TextRank算法提取关键词:\n",
      "乾清宫 午门 著名景点 故宫 包括\n"
     ]
    }
   ],
   "source": [
    "import jieba\n",
    "import jieba.analyse\n",
    "\n",
    "#导入自定义词典\n",
    "jieba.load_userdict(\"dict.txt\")\n",
    "\n",
    "#精确模式\n",
    "text = \"故宫的著名景点包括乾清宫、太和殿和午门等。其中乾清宫非常精美，午门是紫禁城的正门，午门居中向阳。\"\n",
    "seg_list = jieba.cut(text, cut_all=False)\n",
    "print (u\"分词结果:\")\n",
    "print (\"/\".join(seg_list))\n",
    "\n",
    "#获取关键词\n",
    "tags = jieba.analyse.extract_tags(text, topK=5)      # tf-idf算法提取\n",
    "tags_1 = jieba.analyse.textrank(text,topK=5)       # 基于 TextRank 算法的关键词抽取\n",
    "print (u\"tf-idf算法提取关键词:\")\n",
    "print (\" \".join(tags))\n",
    "\n",
    "print (u\"TextRank算法提取关键词:\")\n",
    "print (\" \".join(tags_1))\n"
   ]
  },
  {
   "cell_type": "markdown",
   "metadata": {},
   "source": [
    "### 5、去除停用词\n",
    "在信息检索中，为节省存储空间和提高搜索效率，在处理自然语言数据（或文本）之前或之后会自动过滤掉某些字或词，比如“的”、“是”、“而且”、“但是”、”非常“等。这些字或词即被称为Stop Words（停用词）。"
   ]
  },
  {
   "cell_type": "code",
   "execution_count": 12,
   "metadata": {},
   "outputs": [
    {
     "name": "stdout",
     "output_type": "stream",
     "text": [
      "故宫著名景点乾清宫、太和殿和午门。其中乾清宫非常精美，午门紫禁城正门。\n",
      "故宫/ 著名景点/ 乾清宫/ 、/ 太和殿/ 和/ 午门/ 。/ 其中/ 乾清宫/ 非常/ 精美/ ，/ 午门/ 紫禁城/ 正门/ 。\n"
     ]
    }
   ],
   "source": [
    "import jieba\n",
    "\n",
    "# 去除停用词\n",
    "stopwords = {}.fromkeys(['的', '包括', '等', '是'])\n",
    "text = \"故宫的著名景点包括乾清宫、太和殿和午门等。其中乾清宫非常精美，午门是紫禁城的正门。\"\n",
    "# 精确模式\n",
    "segs = jieba.cut(text, cut_all=False)\n",
    "final = ''\n",
    "for seg in segs:\n",
    "    if seg not in stopwords:\n",
    "            final += seg\n",
    "print (final)\n",
    "\n",
    "seg_list = jieba.cut(final, cut_all=False)\n",
    "print (\"/ \".join(seg_list))"
   ]
  },
  {
   "cell_type": "markdown",
   "metadata": {},
   "source": [
    "### 6、词性标注\n",
    "jieba.posseg.POSTokenizer(tokenizer=None) 新建自定义分词器，tokenizer 参数可指定内部使用的 jieba.Tokenizer 分词器。jieba.posseg.dt 为默认词性标注分词器。\n",
    "\n",
    "标注句子分词后每个词的词性，采用和 ictclas 兼容的标记法。\n",
    "\n",
    "用法示例:"
   ]
  },
  {
   "cell_type": "code",
   "execution_count": 14,
   "metadata": {},
   "outputs": [
    {
     "name": "stdout",
     "output_type": "stream",
     "text": [
      "<generator object cut at 0x00000127E6324138>\n",
      "我 r\n",
      "爱 v\n",
      "北京 ns\n",
      "天安门 ns\n"
     ]
    }
   ],
   "source": [
    "import jieba.posseg as pseg\n",
    "words = pseg.cut(\"我爱北京天安门\")\n",
    "print(words)\n",
    "for word, flag in words:\n",
    "    print('%s %s' % (word, flag))"
   ]
  },
  {
   "cell_type": "markdown",
   "metadata": {},
   "source": [
    "### 今天就先学习到这，更多用法请查看github示例"
   ]
  },
  {
   "cell_type": "markdown",
   "metadata": {},
   "source": [
    "### 7、命名实体识别"
   ]
  },
  {
   "cell_type": "markdown",
   "metadata": {},
   "source": [
    "实战一：日期识别"
   ]
  },
  {
   "cell_type": "code",
   "execution_count": 1,
   "metadata": {},
   "outputs": [
    {
     "name": "stderr",
     "output_type": "stream",
     "text": [
      "Building prefix dict from the default dictionary ...\n",
      "Dumping model to file cache C:\\Users\\ADMINI~1\\AppData\\Local\\Temp\\jieba.cache\n",
      "Loading model cost 0.806 seconds.\n",
      "Prefix dict has been built succesfully.\n"
     ]
    },
    {
     "name": "stdout",
     "output_type": "stream",
     "text": [
      "我要住到明天下午三点: ['2019-08-09 15:00:00']\n",
      "预定28号的房间: ['2019-08-28 00:00:00']\n",
      "我要从26号下午4点住到11月2号: ['2019-08-26 16:00:00', '2019-11-02 00:00:00']\n",
      "我要预订今天到30的房间: ['2019-08-08 00:00:00']\n",
      "今天30号呵呵: ['2019-08-08 00:03:00']\n"
     ]
    }
   ],
   "source": [
    "# -*- coding: utf-8 -*-\n",
    "# @Time         : 2018-07-21 23:30\n",
    "# @Author       : Jayce Wong\n",
    "# @ProjectName  : NLP\n",
    "# @FileName     : datetime_recognition.py\n",
    "# @Blog         : http://blog.51cto.com/jayce1111\n",
    "# @Github       : https://github.com/SysuJayce\n",
    "\n",
    "import re\n",
    "import jieba.posseg as psg\n",
    "from _datetime import datetime, timedelta\n",
    "import locale\n",
    "\n",
    "locale.setlocale(locale.LC_CTYPE, 'chinese')\n",
    "\n",
    "UTIL_CN_NUM = {'零': 0, '一': 1, '二': 2, '两': 2, '三': 3, '四': 4,\n",
    "               '五': 5, '六': 6, '七': 7, '八': 8, '九': 9,\n",
    "               '0': 0, '1': 1, '2': 2, '3': 3, '4': 4,\n",
    "               '5': 5, '6': 6, '7': 7, '8': 8, '9': 9}\n",
    "\n",
    "UTIL_CN_UNIT = {'十': 10, '百': 100, '千': 1000, '万': 10000}\n",
    "\n",
    "\n",
    "def cn2dig(src):\n",
    "    \"\"\"\n",
    "    从中文中提取数字\n",
    "    :param src:\n",
    "    :return:\n",
    "    \"\"\"\n",
    "    if src == \"\":\n",
    "        return None\n",
    "    # 匹配src中的数字，从字符串的起点开始匹配，遇到非数字就结束。\n",
    "    # 也就是说只有当string是由数字开始的才可能匹配成功\n",
    "    # qqq123：m为None\n",
    "    # 123qqq444：匹配成功，m.group()或m.group(0)为123，其中444被忽略，\n",
    "    # 因为遇到q就停止了匹配\n",
    "    m = re.match('\\d+', src)\n",
    "    if m:\n",
    "        return int(m.group(0))\n",
    "    rsl = 0\n",
    "    unit = 1  # 单位：个十百千万对应的数字1, 10, 100, 1000...\n",
    "    # python切片中[start:end:step]，其中step默认为1，这里忽略start和end意思是全\n",
    "    # 选中，step为-1代表反向\n",
    "    # 查找输入的src中与数字有关的内容\n",
    "    for item in src[::-1]:\n",
    "        if item in UTIL_CN_UNIT.keys():\n",
    "            unit = UTIL_CN_UNIT[item]\n",
    "        elif item in UTIL_CN_NUM.keys():\n",
    "            num = UTIL_CN_NUM[item]\n",
    "            rsl += num * unit  # 由计数单位乘数字得到数值\n",
    "        else:\n",
    "            return None\n",
    "\n",
    "    # 处理单位前面没有数字的情况，例如十来天，当成10天\n",
    "    if rsl < unit:\n",
    "        rsl += unit\n",
    "    return rsl\n",
    "\n",
    "\n",
    "def year2dig(year):\n",
    "    res = ''  # 由于年份有4位，所以用字符串\n",
    "    # 对于每一个输入的年份字符串，如果是数字那就保持，如果是汉字就改成对应的数字\n",
    "    for item in year:\n",
    "        if item in UTIL_CN_NUM.keys():\n",
    "            res += str(UTIL_CN_NUM[item])\n",
    "        else:\n",
    "            res += item\n",
    "    m = re.match('\\d+', res)\n",
    "    if m:\n",
    "        # 如果是遇到了简写，例如02年，那么应该添加2000年变成2002年\n",
    "        if len(m.group(0)) == 2:\n",
    "            # 处理19xx年的简写\n",
    "            if int(m.group(0)) > (datetime.today().year -\n",
    "                                  int(datetime.today().year/100)*100):\n",
    "                return int(datetime.today().year/100-1)*100 + int(m.group(0))\n",
    "            # 处理2000年以后的简写\n",
    "            return int(datetime.today().year/100)*100 + int(m.group(0))\n",
    "        else:\n",
    "            return int(m.group(0))\n",
    "    else:\n",
    "        return None\n",
    "\n",
    "\n",
    "def parse_datetime(msg):\n",
    "    \"\"\"\n",
    "    如果输入的msg符合日期规范就使用dateutil.parser的parse函数进行自动解析\n",
    "    否则手动解析\n",
    "    :param msg:待解析日期的字符串。\n",
    "    在经过其他函数的处理之后，msg的格式不包括以下：\n",
    "    1. 小于等于6位的纯数字:20180828 / 201822\n",
    "    2. '日'或'号'之后以纯数字结尾：2018年8月18日123123\n",
    "    :return: %Y-%m-%d %H:%M:%S   2018-8-18 18:28:55 形式的日期\n",
    "    \"\"\"\n",
    "    if msg is None or len(msg) == 0:\n",
    "        return None\n",
    "    # 不直接使用dateutil.parser.parse的原因是如果msg是2018年08月18日下午三点\n",
    "    # 这样的话就会被parse解析为2018-08-18 00:00:00，丢失了后面的时间\n",
    "    # 这个正则表达式的match表示最多匹配到秒，之后出现的字符都被忽略\n",
    "    m = re.match(r\"([0-9零一二两三四五六七八九十]+年)?\"\n",
    "                 r\"([0-9一二两三四五六七八九十]+月)?\"\n",
    "                 r\"([0-9一二两三四五六七八九十]+[号日])?\"\n",
    "                 r\"([上中下午晚早]+)?\"\n",
    "                 r\"([0-9零一二两三四五六七八九十百]+[点:.时])?\"\n",
    "                 r\"([0-9零一二三四五六七八九十百]+分?)?\"\n",
    "                 r\"([0-9零一二三四五六七八九十百]+秒)?\", msg)\n",
    "    # 仅仅判断m是否为None【也就是判断是否成功匹配】是不行的\n",
    "    # 因为上述的正则表达式全是'?'，也就是出现0次或1次\n",
    "    # 即使msg不含日期，也会匹配成功，m也不会是none\n",
    "    # 因此需要加一个条件：在匹配成功之后判断m.group(0)是否为空\n",
    "    if m is not None and m.group(0) != '':\n",
    "        # m.group(0)是匹配成功的整个字符串\n",
    "        # m.group(x)是匹配成功的第x项，对应正则表达式的第x项\n",
    "        res = {\n",
    "            'year': m.group(1),\n",
    "            'month': m.group(2),\n",
    "            'day': m.group(3),\n",
    "            'hour': m.group(5) if m.group(5) is not None else '00',\n",
    "            'minute': m.group(6) if m.group(6) is not None else '00',\n",
    "            'second': m.group(7) if m.group(7) is not None else '00',\n",
    "        }\n",
    "        params = {}\n",
    "        for name in res:\n",
    "            # 由于年月日是必需的，所以这三个key对应的value可能是None\n",
    "            if res[name] is not None and len(res[name]) != 0:\n",
    "                # 这里res字典中的value是未处理的日期时间段，如五十分、三月\n",
    "                tmp = None\n",
    "                if name == 'year':\n",
    "                    # 由于value字符串的最后一个字符是时间单位，所以舍去\n",
    "                    tmp = year2dig(res[name][:-1])\n",
    "                else:\n",
    "                    tmp = cn2dig(res[name][:-1])\n",
    "                if tmp is not None:\n",
    "                    params[name] = int(tmp)\n",
    "\n",
    "        # 用上面提取出的时间来替换一个正规日期里的相关时间\n",
    "        target_date = datetime.today().replace(**params)\n",
    "        # 处理诸如'下午'、'晚上'之类的时间，转换成24小时制\n",
    "        is_pm = m.group(4)\n",
    "        if is_pm is not None:\n",
    "            if is_pm == u'下午' or is_pm == u'晚上' or is_pm == '中午':\n",
    "                hour = target_date.time().hour\n",
    "                if hour < 12:\n",
    "                    target_date = target_date.replace(hour=hour + 12)\n",
    "        return target_date.strftime('%Y-%m-%d %H:%M:%S')\n",
    "\n",
    "    # 如果正则匹配失败则解析失败，返回None\n",
    "    else:\n",
    "        return None\n",
    "\n",
    "\n",
    "def check_time_valid(word):\n",
    "    \"\"\"\n",
    "    1. 剔除小于等于6位的纯数字日期\n",
    "    2. 将日之后以纯数字结尾的日期中的结尾数字去掉，并将号改成日\n",
    "    :param word:\n",
    "    :return:\n",
    "    \"\"\"\n",
    "    m = re.match('\\d+$', word)  # 匹配纯数字，如果word是纯数字则匹配成功\n",
    "    if m and len(word) <= 6:  # 如果word是纯数字，且只有年月，则返回None\n",
    "        return None\n",
    "    # xx号123  =====>  xx日\n",
    "    new_word = re.sub('[号日]\\d+$', '日', word)\n",
    "    \n",
    "    if new_word != word:   # 如果输入的日期的尾部是'日'加数字，\n",
    "        return check_time_valid(new_word)\n",
    "    else:\n",
    "        return new_word\n",
    "\n",
    "\n",
    "def time_extract(text):\n",
    "    time_res = []\n",
    "    word = ''\n",
    "    key_date = {'今天': 0, '明天': 1, '后天': 2}\n",
    "    for k, v in psg.cut(text):\n",
    "        # 从词性标注的结果中进行时间抽取\n",
    "        if k in key_date:\n",
    "            if word != '':  # 如果当前已经获得了一个日期时间段，如'2018年'\n",
    "                time_res.append(word)  # 那就先保存下来，避免被其他时间段覆盖\n",
    "            # 将'今明后'这些与时间相关的词转换成日期\n",
    "            # timedelta可以与datetime直接运算\n",
    "            word = (datetime.today()+timedelta(\n",
    "                days=key_date.get(k, 0))).strftime('%Y年%m月%d日')\n",
    "        elif word != '':\n",
    "            if v in ['m', 't']:  # 因为在词性标注中m表示数词，t表示时间词\n",
    "                word += k\n",
    "            else:  # 遇到时间单位的话先保存已获得的日期时间段，再清空word的值\n",
    "                time_res.append(word)\n",
    "                word = ''\n",
    "        elif v in ['m', 't']:\n",
    "            word = k\n",
    "\n",
    "    # 将循环结束后剩余的与时间相关的部分加入到列表中\n",
    "    if word != '':\n",
    "        time_res.append(word)\n",
    "\n",
    "    result = list(filter(lambda x: x is not None,\n",
    "                         [check_time_valid(w) for w in time_res]))\n",
    "    final_res = [parse_datetime(w) for w in result]\n",
    "    return [x for x in final_res if x is not None]\n",
    "\n",
    "\n",
    "if __name__ == '__main__':\n",
    "    text1 = '我要住到明天下午三点'\n",
    "    print(text1, time_extract(text1), sep=': ')\n",
    "\n",
    "    text2 = '预定28号的房间'\n",
    "    print(text2, time_extract(text2), sep=': ')\n",
    "\n",
    "    text3 = '我要从26号下午4点住到11月2号'\n",
    "    print(text3, time_extract(text3), sep=': ')\n",
    "\n",
    "    text4 = '我要预订今天到30的房间'\n",
    "    print(text4, time_extract(text4), sep=': ')\n",
    "\n",
    "    text5 = '今天30号呵呵'\n",
    "    print(text5, time_extract(text5), sep=': ')"
   ]
  },
  {
   "cell_type": "code",
   "execution_count": null,
   "metadata": {},
   "outputs": [],
   "source": []
  }
 ],
 "metadata": {
  "kernelspec": {
   "display_name": "Python 3",
   "language": "python",
   "name": "python3"
  },
  "language_info": {
   "codemirror_mode": {
    "name": "ipython",
    "version": 3
   },
   "file_extension": ".py",
   "mimetype": "text/x-python",
   "name": "python",
   "nbconvert_exporter": "python",
   "pygments_lexer": "ipython3",
   "version": "3.7.2"
  }
 },
 "nbformat": 4,
 "nbformat_minor": 2
}
