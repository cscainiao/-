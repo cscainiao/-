{
 "cells": [
  {
   "cell_type": "markdown",
   "metadata": {},
   "source": [
    "## Python NLTK 自然语言处理入门与例程\n",
    "### 参考链接https://blog.csdn.net/hzp666/article/details/79373720"
   ]
  },
  {
   "cell_type": "markdown",
   "metadata": {},
   "source": [
    "### 安装 \n",
    "pip install nltk\n",
    "\n",
    "一旦你安装了 NLTK，你可以运行下面的代码来安装 NLTK 包：\n",
    "import nltk\n",
    "nltk.download()    选择安装的包\n"
   ]
  },
  {
   "cell_type": "markdown",
   "metadata": {},
   "source": [
    "###  使用 NLTK 删除停止词，NLTK 具有大多数语言的停止词表。要获得英文停止词，你可以使用以下代码：\n"
   ]
  },
  {
   "cell_type": "code",
   "execution_count": 14,
   "metadata": {},
   "outputs": [
    {
     "name": "stdout",
     "output_type": "stream",
     "text": [
      "On:1\n",
      "top:2\n",
      "ability:1\n",
      "query:2\n",
      "relational:1\n",
      "databases,:1\n",
      "Superset:3\n",
      "ships:1\n",
      "deep:1\n",
      "integration:1\n",
      "Druid:2\n",
      "(a:1\n",
      "real:2\n",
      "time:2\n",
      "distributed:1\n",
      "column-store).:1\n",
      "When:1\n",
      "querying:1\n",
      "Druid,:1\n",
      "humongous:1\n",
      "amounts:1\n",
      "data:1\n",
      "dataset.:1\n",
      "Note:1\n",
      "require:1\n",
      "way:1\n",
      "function,:1\n",
      "simply:1\n",
      "another:1\n",
      "database:1\n",
      "backend:1\n",
      "query.:1\n"
     ]
    }
   ],
   "source": [
    "import nltk \n",
    "from nltk.corpus import stopwords \n",
    "\n",
    "text = \"On top of having the ability to query your relational databases, Superset ships with deep integration with Druid (a real time distributed column-store). When querying Druid, Superset can query humongous amounts of data on top of real time dataset. Note that Superset does not require Druid in any way to function, it's simply another database backend that it can query.\"\n",
    "tokens = [t for t in text.split()] \n",
    "clean_tokens = tokens[:] \n",
    "sr = stopwords.words('english') \n",
    "for token in tokens: \n",
    "    if token in stopwords.words('english'): \n",
    "        clean_tokens.remove(token) \n",
    "freq = nltk.FreqDist(clean_tokens) \n",
    "for key,val in freq.items(): \n",
    "    print (str(key) + ':' + str(val))"
   ]
  },
  {
   "cell_type": "code",
   "execution_count": 6,
   "metadata": {},
   "outputs": [
    {
     "data": {
      "image/png": "[encoded data removed]",
      "text/plain": [
       "<Figure size 432x288 with 1 Axes>"
      ]
     },
     "metadata": {
      "needs_background": "light"
     },
     "output_type": "display_data"
    },
    {
     "data": {
      "text/plain": [
       "<matplotlib.axes._subplots.AxesSubplot at 0x1fa0e0371d0>"
      ]
     },
     "execution_count": 6,
     "metadata": {},
     "output_type": "execute_result"
    }
   ],
   "source": [
    "freq.plot()"
   ]
  },
  {
   "cell_type": "code",
   "execution_count": 8,
   "metadata": {},
   "outputs": [
    {
     "name": "stdout",
     "output_type": "stream",
     "text": [
      "Help on method plot in module nltk.probability:\n",
      "\n",
      "plot(*args, **kwargs) method of nltk.probability.FreqDist instance\n",
      "    Plot samples from the frequency distribution\n",
      "    displaying the most frequent sample first.  If an integer\n",
      "    parameter is supplied, stop after this many samples have been\n",
      "    plotted.  For a cumulative plot, specify cumulative=True.\n",
      "    (Requires Matplotlib to be installed.)\n",
      "    \n",
      "    :param title: The title for the graph\n",
      "    :type title: str\n",
      "    :param cumulative: A flag to specify whether the plot is cumulative (default = False)\n",
      "    :type title: bool\n",
      "\n"
     ]
    }
   ],
   "source": [
    "help(freq.plot)"
   ]
  },
  {
   "cell_type": "markdown",
   "metadata": {},
   "source": [
    "### 使用 NLTK 对文本分词\n",
    "我们刚刚了解了如何使用 split( ) 函数将文本分割为标记 。现在，我们将看到如何使用 NLTK 对文本进行标记化。对文本进行标记化是很重要的，因为文本无法在没有进行标记化的情况下被处理。标记化意味着将较大的部分分隔成更小的单元。\n",
    "你可以将段落分割为句子，并根据你的需要将句子分割为单词。NLTK 具有内置的句子标记器和词语标记器。\n",
    "假设我们有如下的示例文本："
   ]
  },
  {
   "cell_type": "code",
   "execution_count": 19,
   "metadata": {},
   "outputs": [],
   "source": [
    "text1 = 'Hello Adam, how are you? I hope everything is going well.  Today is a good day, see you dude.'"
   ]
  },
  {
   "cell_type": "code",
   "execution_count": 20,
   "metadata": {},
   "outputs": [
    {
     "name": "stdout",
     "output_type": "stream",
     "text": [
      "['Hello Adam, how are you?', 'I hope everything is going well.', 'Today is a good day, see you dude.']\n"
     ]
    }
   ],
   "source": [
    "from nltk.tokenize import sent_tokenize\n",
    "print(sent_tokenize(text1))"
   ]
  },
  {
   "cell_type": "code",
   "execution_count": null,
   "metadata": {},
   "outputs": [],
   "source": []
  }
 ],
 "metadata": {
  "kernelspec": {
   "display_name": "Python 3",
   "language": "python",
   "name": "python3"
  },
  "language_info": {
   "codemirror_mode": {
    "name": "ipython",
    "version": 3
   },
   "file_extension": ".py",
   "mimetype": "text/x-python",
   "name": "python",
   "nbconvert_exporter": "python",
   "pygments_lexer": "ipython3",
   "version": "3.7.2"
  }
 },
 "nbformat": 4,
 "nbformat_minor": 2
}
