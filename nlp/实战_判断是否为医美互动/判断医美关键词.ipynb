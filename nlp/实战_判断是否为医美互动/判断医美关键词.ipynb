{
 "cells": [
  {
   "cell_type": "markdown",
   "metadata": {},
   "source": [
    "# 1、使用贝叶斯分类"
   ]
  },
  {
   "cell_type": "markdown",
   "metadata": {},
   "source": [
    "## 读取训练数据"
   ]
  },
  {
   "cell_type": "code",
   "execution_count": 103,
   "metadata": {},
   "outputs": [
    {
     "data": {
      "text/html": [
       "<div>\n",
       "<style scoped>\n",
       "    .dataframe tbody tr th:only-of-type {\n",
       "        vertical-align: middle;\n",
       "    }\n",
       "\n",
       "    .dataframe tbody tr th {\n",
       "        vertical-align: top;\n",
       "    }\n",
       "\n",
       "    .dataframe thead th {\n",
       "        text-align: right;\n",
       "    }\n",
       "</style>\n",
       "<table border=\"1\" class=\"dataframe\">\n",
       "  <thead>\n",
       "    <tr style=\"text-align: right;\">\n",
       "      <th></th>\n",
       "      <th>data</th>\n",
       "      <th>lable</th>\n",
       "    </tr>\n",
       "  </thead>\n",
       "  <tbody>\n",
       "    <tr>\n",
       "      <th>0</th>\n",
       "      <td>牙釉质是牙齿最外面的一层，牙本质是牙釉质下面的一层 牙齿矿化程度高， 牙釉质是透明的，牙本质...</td>\n",
       "      <td>1</td>\n",
       "    </tr>\n",
       "    <tr>\n",
       "      <th>1</th>\n",
       "      <td>我觉得这样很好，范冰冰不也是吗，120斤的体重，胳膊和腰都不算是细的，但人家就是很美，那种绝...</td>\n",
       "      <td>1</td>\n",
       "    </tr>\n",
       "    <tr>\n",
       "      <th>2</th>\n",
       "      <td>初粉bp的时候最喜她的声音所以最先认出她。，她的嘴有有一种地包天的感觉，但咬合又好像没有 我...</td>\n",
       "      <td>1</td>\n",
       "    </tr>\n",
       "    <tr>\n",
       "      <th>3</th>\n",
       "      <td>回复@1nnioo:看清楚了，中学时的高允真。 回复@1nnioo:自己百度。中学时眼睛小，...</td>\n",
       "      <td>1</td>\n",
       "    </tr>\n",
       "    <tr>\n",
       "      <th>4</th>\n",
       "      <td>我呢？请指教！手机不在身边暂时只有这一张，这张是原相机但是妆后，而且还凹角度捂腮了，脸大两边...</td>\n",
       "      <td>1</td>\n",
       "    </tr>\n",
       "  </tbody>\n",
       "</table>\n",
       "</div>"
      ],
      "text/plain": [
       "                                                data  lable\n",
       "0  牙釉质是牙齿最外面的一层，牙本质是牙釉质下面的一层 牙齿矿化程度高， 牙釉质是透明的，牙本质...      1\n",
       "1  我觉得这样很好，范冰冰不也是吗，120斤的体重，胳膊和腰都不算是细的，但人家就是很美，那种绝...      1\n",
       "2  初粉bp的时候最喜她的声音所以最先认出她。，她的嘴有有一种地包天的感觉，但咬合又好像没有 我...      1\n",
       "3  回复@1nnioo:看清楚了，中学时的高允真。 回复@1nnioo:自己百度。中学时眼睛小，...      1\n",
       "4  我呢？请指教！手机不在身边暂时只有这一张，这张是原相机但是妆后，而且还凹角度捂腮了，脸大两边...      1"
      ]
     },
     "execution_count": 103,
     "metadata": {},
     "output_type": "execute_result"
    }
   ],
   "source": [
    "import pandas as pd\n",
    "\n",
    "train_data = pd.read_csv('yimei_data.csv',encoding='gbk')\n",
    "train_data.head()"
   ]
  },
  {
   "cell_type": "code",
   "execution_count": 104,
   "metadata": {},
   "outputs": [
    {
     "data": {
      "text/plain": [
       "0    1\n",
       "1    1\n",
       "2    1\n",
       "3    1\n",
       "4    1\n",
       "Name: lable, dtype: int64"
      ]
     },
     "execution_count": 104,
     "metadata": {},
     "output_type": "execute_result"
    }
   ],
   "source": [
    "# 取出标签\n",
    "y_train = train_data['lable']\n",
    "y_train.head()"
   ]
  },
  {
   "cell_type": "markdown",
   "metadata": {},
   "source": [
    "### 加载停用词表"
   ]
  },
  {
   "cell_type": "code",
   "execution_count": 105,
   "metadata": {},
   "outputs": [],
   "source": [
    "stop_word = set()\n",
    "with open('stop_word.txt', encoding='utf-8') as f:\n",
    "    for word in f.readlines():\n",
    "        stop_word.add(word.replace('\\n',''))\n"
   ]
  },
  {
   "cell_type": "code",
   "execution_count": 106,
   "metadata": {},
   "outputs": [
    {
     "data": {
      "text/plain": [
       "['牙釉质 牙齿 外面 一层 ， 牙本质 牙釉质 一层   牙齿 矿化 程度 高 ，   牙釉质 透明 ， 牙本质 颜色 黄色 ， 透出 颜色 黄色 ； 矿化 程度 低 牙齿 乳白色 。 冷光 美白 牙齿 敏感 建议 做 ， 牙齿 敏感 做 情况 一年 恢复 做 美白 色度 ！ 牙齿 健康 ！',\n",
       " '， 范冰冰 ， 120 斤 体重 ， 胳膊 腰 不算 细 ， 美 ， 那种 绝食 减肥 女明星 病态 美 真的 恭维',\n",
       " '初粉 bp 最喜 声音 最先 认出 。 ， 嘴 一种 包天 感觉 ， 咬合 好像   po 主说 ， 这时候 眼睑 （ 词 ） 反弹 后遗症   李宇春 长得 态度 ， 美人 谈不上 （ 小声   曾黎   鼻子 实在 … … [ 允悲 ] 不太吃 款',\n",
       " '回复 @ 1nnioo : 看清楚 ， 中学 时 高 允真 。   回复 @ 1nnioo : 百度 。 中学 时 眼睛 ， 塌 鼻梁 ， 很丑 。 算 微整 ， 换头 说 微整 。   回复 @ hysjvg : 右边 一个整 容 韩国 明星 ， 变化很大 ， 看不出来 整容',\n",
       " '？ 请 指教 ！ 手机 身边 暂时 一张 ， 这张 原 相机 妆 ， 凹 角度 捂 腮 ， 脸大 两边 脸 对称 办法 。 想 做做 医美   回复 @ 仙女 颜究 : ， 皮肤 确实 ， 长痘 混油 ， 工作 熬夜 作息 混乱',\n",
       " '哒 ！ 谢谢 仙女 ！ 明天 剪 ～   分享 图片   剪 短发   分享 图片   仙女 想 问 ！ 脸型 适合 剪短 发 ？',\n",
       " '天生 眼袋 浮肿   贼 显老   只想去 眼袋',\n",
       " '回复 @ 柳柳 扭溜牛 : 小姐姐 鼻子 真 好看   第一种 哈哈哈 ， 平时 看马思纯 ， 一看 照片 发现 上学 短发 刘海 脸型 妥妥 马思纯 [ 允悲 ]',\n",
       " '昨天 哈哈哈哈 哈哈哈哈 哈哈哈 研究 颅 顶',\n",
       " '延长 中庭',\n",
       " '感觉 ， 脸 露出',\n",
       " '评论 ： 黑 。 废话 ， 云南 几天 ， 紫外线 强能 黑 ， 涂黑 粉 ， 羊毛 杨洋 脸 ， 黑粉 脸 。 gay 。 啥意思 ， 话里有话 ， ， gay gay 一眼 ？ 成年人 张口 ， 说 性 歧视 ，   健身 重要性 ， 别刷 ， 锻炼',\n",
       " '回复 @ 仙女 颜究 : 好像 没什么 感觉 [ 允悲 ] 拍 完 照片 确实 感觉 左边 眼睛 好像 睁开   想 问下 算   大小 眼是 [ 允悲 ]',\n",
       " '回复 @ 仙女 颜究 : 太 喜欢 [ 悲伤 ]   回复 @ 仙女 颜究 : [ 喵 喵 ] @ 仙女 颜究   回复 @ 仙女 颜究 : [ 喵 喵 ] 没错   说 眼睛',\n",
       " '# 表情 帝 #   算不算 中度 鸭 ！',\n",
       " '好奇 蒙古 褶',\n",
       " '回复 @ Loco 华莎 公开 : 李宣 美腿 好看 ？ ？ ？ 在座 全是 大象 腿',\n",
       " '轻度 ， 一度 怀疑 内双',\n",
       " '[ 熊猫 ]',\n",
       " '韩国 做 鼻子 一家 ， 短鼻   回复 @ 寻寻觅觅 终 当归 : ， 懂 内容 ， 反正 扎起 头发 年轻   微笑 嘴去 韩国 一家 做 ？']"
      ]
     },
     "execution_count": 106,
     "metadata": {},
     "output_type": "execute_result"
    }
   ],
   "source": [
    "# 将训练和测试数据都转成词list\n",
    "import jieba\n",
    "\n",
    "\n",
    "def review_to_wordlist(review):\n",
    "    '''\n",
    "    把医美聊天信息转成词序列\n",
    "    '''\n",
    "    words_list = jieba.cut(review, cut_all=False)\n",
    "    ok_list = list()\n",
    "    for each_word in words_list:\n",
    "        if each_word not in stop_word:\n",
    "            ok_list.append(each_word)\n",
    "    \n",
    "    return ok_list\n",
    "\n",
    "x_train = []\n",
    "for i in range(0, len(train_data['data'])):\n",
    "    x_train.append(\" \".join(review_to_wordlist(train_data['data'][i])))\n",
    "x_train[0:20]"
   ]
  },
  {
   "cell_type": "code",
   "execution_count": 107,
   "metadata": {},
   "outputs": [],
   "source": [
    "from sklearn.feature_extraction.text import TfidfVectorizer as TFIV\n",
    "# 初始化TFIV对象，去停用词，加2元语言模型\n",
    "tfv = TFIV(min_df=3,  max_features=None, strip_accents='unicode', analyzer='word',token_pattern=r'\\w{1,}', ngram_range=(1, 3), use_idf=1,smooth_idf=1,sublinear_tf=1)\n"
   ]
  },
  {
   "cell_type": "code",
   "execution_count": 108,
   "metadata": {},
   "outputs": [],
   "source": [
    "tfv.fit(x_train)\n",
    "x_train = tfv.transform(x_train)"
   ]
  },
  {
   "cell_type": "code",
   "execution_count": 109,
   "metadata": {},
   "outputs": [
    {
     "data": {
      "text/plain": [
       "(14673, 13637)"
      ]
     },
     "execution_count": 109,
     "metadata": {},
     "output_type": "execute_result"
    }
   ],
   "source": [
    "x_train.shape"
   ]
  },
  {
   "cell_type": "code",
   "execution_count": 110,
   "metadata": {},
   "outputs": [
    {
     "name": "stdout",
     "output_type": "stream",
     "text": [
      "多项式贝叶斯分类器20折交叉验证得分:  0.9275615343627093\n"
     ]
    }
   ],
   "source": [
    "from sklearn.naive_bayes import MultinomialNB as MNB\n",
    "\n",
    "model_NB = MNB()\n",
    "model_NB.fit(x_train, y_train) #特征数据直接灌进来\n",
    "MNB(alpha=1.0, class_prior=None, fit_prior=True)\n",
    "\n",
    "from sklearn.model_selection import cross_val_score\n",
    "import numpy as np\n",
    "\n",
    "print(\"多项式贝叶斯分类器20折交叉验证得分: \", np.mean(cross_val_score(model_NB, x_train, y_train, cv=20, scoring='roc_auc')))"
   ]
  },
  {
   "cell_type": "code",
   "execution_count": 111,
   "metadata": {},
   "outputs": [],
   "source": [
    "def predict_data(data):\n",
    "    predict_data = review_to_wordlist(data)\n",
    "    predict_data = [' '.join(predict_data)]\n",
    "    predict_data = tfv.transform(predict_data)\n",
    "    predict_value = model_NB.predict(predict_data)\n",
    "    return predict_value"
   ]
  },
  {
   "cell_type": "code",
   "execution_count": 112,
   "metadata": {},
   "outputs": [
    {
     "name": "stdout",
     "output_type": "stream",
     "text": [
      "天气真好 0\n",
      "回复@日暮温柔裡_:我自己剪的hhhhh 其实每天都睡的不一样 刚刚画好的眼妆 http://t.cn/AiRPjqT5 1\n"
     ]
    }
   ],
   "source": [
    "text1 = '天气真好'\n",
    "a=predict_data(text1)\n",
    "print(text1, a[0])\n",
    "\n",
    "text2 = '回复@日暮温柔裡_:我自己剪的hhhhh 其实每天都睡的不一样 刚刚画好的眼妆 http://t.cn/AiRPjqT5'\n",
    "b=predict_data(text2)\n",
    "print(text2,b[0])"
   ]
  },
  {
   "cell_type": "markdown",
   "metadata": {},
   "source": [
    "# 2、使用逻辑斯蒂回归"
   ]
  },
  {
   "cell_type": "code",
   "execution_count": 113,
   "metadata": {},
   "outputs": [],
   "source": [
    "from sklearn.linear_model import LogisticRegression as LR\n",
    "from sklearn.model_selection import GridSearchCV"
   ]
  },
  {
   "cell_type": "code",
   "execution_count": 114,
   "metadata": {},
   "outputs": [
    {
     "name": "stderr",
     "output_type": "stream",
     "text": [
      "d:\\venvs\\spider_env\\lib\\site-packages\\sklearn\\linear_model\\logistic.py:432: FutureWarning: Default solver will be changed to 'lbfgs' in 0.22. Specify a solver to silence this warning.\n",
      "  FutureWarning)\n",
      "d:\\venvs\\spider_env\\lib\\site-packages\\sklearn\\svm\\base.py:929: ConvergenceWarning: Liblinear failed to converge, increase the number of iterations.\n",
      "  \"the number of iterations.\", ConvergenceWarning)\n",
      "d:\\venvs\\spider_env\\lib\\site-packages\\sklearn\\linear_model\\logistic.py:432: FutureWarning: Default solver will be changed to 'lbfgs' in 0.22. Specify a solver to silence this warning.\n",
      "  FutureWarning)\n",
      "d:\\venvs\\spider_env\\lib\\site-packages\\sklearn\\svm\\base.py:929: ConvergenceWarning: Liblinear failed to converge, increase the number of iterations.\n",
      "  \"the number of iterations.\", ConvergenceWarning)\n",
      "d:\\venvs\\spider_env\\lib\\site-packages\\sklearn\\linear_model\\logistic.py:432: FutureWarning: Default solver will be changed to 'lbfgs' in 0.22. Specify a solver to silence this warning.\n",
      "  FutureWarning)\n",
      "d:\\venvs\\spider_env\\lib\\site-packages\\sklearn\\svm\\base.py:929: ConvergenceWarning: Liblinear failed to converge, increase the number of iterations.\n",
      "  \"the number of iterations.\", ConvergenceWarning)\n",
      "d:\\venvs\\spider_env\\lib\\site-packages\\sklearn\\linear_model\\logistic.py:432: FutureWarning: Default solver will be changed to 'lbfgs' in 0.22. Specify a solver to silence this warning.\n",
      "  FutureWarning)\n",
      "d:\\venvs\\spider_env\\lib\\site-packages\\sklearn\\svm\\base.py:929: ConvergenceWarning: Liblinear failed to converge, increase the number of iterations.\n",
      "  \"the number of iterations.\", ConvergenceWarning)\n",
      "d:\\venvs\\spider_env\\lib\\site-packages\\sklearn\\linear_model\\logistic.py:432: FutureWarning: Default solver will be changed to 'lbfgs' in 0.22. Specify a solver to silence this warning.\n",
      "  FutureWarning)\n",
      "d:\\venvs\\spider_env\\lib\\site-packages\\sklearn\\svm\\base.py:929: ConvergenceWarning: Liblinear failed to converge, increase the number of iterations.\n",
      "  \"the number of iterations.\", ConvergenceWarning)\n",
      "d:\\venvs\\spider_env\\lib\\site-packages\\sklearn\\linear_model\\logistic.py:432: FutureWarning: Default solver will be changed to 'lbfgs' in 0.22. Specify a solver to silence this warning.\n",
      "  FutureWarning)\n",
      "d:\\venvs\\spider_env\\lib\\site-packages\\sklearn\\svm\\base.py:929: ConvergenceWarning: Liblinear failed to converge, increase the number of iterations.\n",
      "  \"the number of iterations.\", ConvergenceWarning)\n",
      "d:\\venvs\\spider_env\\lib\\site-packages\\sklearn\\linear_model\\logistic.py:432: FutureWarning: Default solver will be changed to 'lbfgs' in 0.22. Specify a solver to silence this warning.\n",
      "  FutureWarning)\n",
      "d:\\venvs\\spider_env\\lib\\site-packages\\sklearn\\svm\\base.py:929: ConvergenceWarning: Liblinear failed to converge, increase the number of iterations.\n",
      "  \"the number of iterations.\", ConvergenceWarning)\n",
      "d:\\venvs\\spider_env\\lib\\site-packages\\sklearn\\linear_model\\logistic.py:432: FutureWarning: Default solver will be changed to 'lbfgs' in 0.22. Specify a solver to silence this warning.\n",
      "  FutureWarning)\n",
      "d:\\venvs\\spider_env\\lib\\site-packages\\sklearn\\svm\\base.py:929: ConvergenceWarning: Liblinear failed to converge, increase the number of iterations.\n",
      "  \"the number of iterations.\", ConvergenceWarning)\n",
      "d:\\venvs\\spider_env\\lib\\site-packages\\sklearn\\linear_model\\logistic.py:432: FutureWarning: Default solver will be changed to 'lbfgs' in 0.22. Specify a solver to silence this warning.\n",
      "  FutureWarning)\n",
      "d:\\venvs\\spider_env\\lib\\site-packages\\sklearn\\svm\\base.py:929: ConvergenceWarning: Liblinear failed to converge, increase the number of iterations.\n",
      "  \"the number of iterations.\", ConvergenceWarning)\n",
      "d:\\venvs\\spider_env\\lib\\site-packages\\sklearn\\linear_model\\logistic.py:432: FutureWarning: Default solver will be changed to 'lbfgs' in 0.22. Specify a solver to silence this warning.\n",
      "  FutureWarning)\n",
      "d:\\venvs\\spider_env\\lib\\site-packages\\sklearn\\svm\\base.py:929: ConvergenceWarning: Liblinear failed to converge, increase the number of iterations.\n",
      "  \"the number of iterations.\", ConvergenceWarning)\n",
      "d:\\venvs\\spider_env\\lib\\site-packages\\sklearn\\linear_model\\logistic.py:432: FutureWarning: Default solver will be changed to 'lbfgs' in 0.22. Specify a solver to silence this warning.\n",
      "  FutureWarning)\n",
      "d:\\venvs\\spider_env\\lib\\site-packages\\sklearn\\svm\\base.py:929: ConvergenceWarning: Liblinear failed to converge, increase the number of iterations.\n",
      "  \"the number of iterations.\", ConvergenceWarning)\n",
      "d:\\venvs\\spider_env\\lib\\site-packages\\sklearn\\linear_model\\logistic.py:432: FutureWarning: Default solver will be changed to 'lbfgs' in 0.22. Specify a solver to silence this warning.\n",
      "  FutureWarning)\n",
      "d:\\venvs\\spider_env\\lib\\site-packages\\sklearn\\svm\\base.py:929: ConvergenceWarning: Liblinear failed to converge, increase the number of iterations.\n",
      "  \"the number of iterations.\", ConvergenceWarning)\n",
      "d:\\venvs\\spider_env\\lib\\site-packages\\sklearn\\linear_model\\logistic.py:432: FutureWarning: Default solver will be changed to 'lbfgs' in 0.22. Specify a solver to silence this warning.\n",
      "  FutureWarning)\n",
      "d:\\venvs\\spider_env\\lib\\site-packages\\sklearn\\svm\\base.py:929: ConvergenceWarning: Liblinear failed to converge, increase the number of iterations.\n",
      "  \"the number of iterations.\", ConvergenceWarning)\n",
      "d:\\venvs\\spider_env\\lib\\site-packages\\sklearn\\linear_model\\logistic.py:432: FutureWarning: Default solver will be changed to 'lbfgs' in 0.22. Specify a solver to silence this warning.\n",
      "  FutureWarning)\n",
      "d:\\venvs\\spider_env\\lib\\site-packages\\sklearn\\svm\\base.py:929: ConvergenceWarning: Liblinear failed to converge, increase the number of iterations.\n",
      "  \"the number of iterations.\", ConvergenceWarning)\n",
      "d:\\venvs\\spider_env\\lib\\site-packages\\sklearn\\linear_model\\logistic.py:432: FutureWarning: Default solver will be changed to 'lbfgs' in 0.22. Specify a solver to silence this warning.\n",
      "  FutureWarning)\n",
      "d:\\venvs\\spider_env\\lib\\site-packages\\sklearn\\svm\\base.py:929: ConvergenceWarning: Liblinear failed to converge, increase the number of iterations.\n",
      "  \"the number of iterations.\", ConvergenceWarning)\n",
      "d:\\venvs\\spider_env\\lib\\site-packages\\sklearn\\linear_model\\logistic.py:432: FutureWarning: Default solver will be changed to 'lbfgs' in 0.22. Specify a solver to silence this warning.\n",
      "  FutureWarning)\n",
      "d:\\venvs\\spider_env\\lib\\site-packages\\sklearn\\svm\\base.py:929: ConvergenceWarning: Liblinear failed to converge, increase the number of iterations.\n",
      "  \"the number of iterations.\", ConvergenceWarning)\n",
      "d:\\venvs\\spider_env\\lib\\site-packages\\sklearn\\linear_model\\logistic.py:432: FutureWarning: Default solver will be changed to 'lbfgs' in 0.22. Specify a solver to silence this warning.\n",
      "  FutureWarning)\n",
      "d:\\venvs\\spider_env\\lib\\site-packages\\sklearn\\svm\\base.py:929: ConvergenceWarning: Liblinear failed to converge, increase the number of iterations.\n",
      "  \"the number of iterations.\", ConvergenceWarning)\n",
      "d:\\venvs\\spider_env\\lib\\site-packages\\sklearn\\linear_model\\logistic.py:432: FutureWarning: Default solver will be changed to 'lbfgs' in 0.22. Specify a solver to silence this warning.\n",
      "  FutureWarning)\n",
      "d:\\venvs\\spider_env\\lib\\site-packages\\sklearn\\svm\\base.py:929: ConvergenceWarning: Liblinear failed to converge, increase the number of iterations.\n",
      "  \"the number of iterations.\", ConvergenceWarning)\n",
      "d:\\venvs\\spider_env\\lib\\site-packages\\sklearn\\linear_model\\logistic.py:432: FutureWarning: Default solver will be changed to 'lbfgs' in 0.22. Specify a solver to silence this warning.\n",
      "  FutureWarning)\n",
      "d:\\venvs\\spider_env\\lib\\site-packages\\sklearn\\svm\\base.py:929: ConvergenceWarning: Liblinear failed to converge, increase the number of iterations.\n",
      "  \"the number of iterations.\", ConvergenceWarning)\n",
      "d:\\venvs\\spider_env\\lib\\site-packages\\sklearn\\linear_model\\logistic.py:432: FutureWarning: Default solver will be changed to 'lbfgs' in 0.22. Specify a solver to silence this warning.\n",
      "  FutureWarning)\n",
      "d:\\venvs\\spider_env\\lib\\site-packages\\sklearn\\svm\\base.py:929: ConvergenceWarning: Liblinear failed to converge, increase the number of iterations.\n",
      "  \"the number of iterations.\", ConvergenceWarning)\n",
      "d:\\venvs\\spider_env\\lib\\site-packages\\sklearn\\linear_model\\logistic.py:432: FutureWarning: Default solver will be changed to 'lbfgs' in 0.22. Specify a solver to silence this warning.\n",
      "  FutureWarning)\n"
     ]
    },
    {
     "name": "stdout",
     "output_type": "stream",
     "text": [
      "0.9664665870927852\n"
     ]
    },
    {
     "name": "stderr",
     "output_type": "stream",
     "text": [
      "d:\\venvs\\spider_env\\lib\\site-packages\\sklearn\\svm\\base.py:929: ConvergenceWarning: Liblinear failed to converge, increase the number of iterations.\n",
      "  \"the number of iterations.\", ConvergenceWarning)\n"
     ]
    }
   ],
   "source": [
    "# 设定grid search的参数\n",
    "grid_values = {'C':[30]}\n",
    "# 设定打分为roc_auc\n",
    "model_LR = GridSearchCV(LR(penalty='l2', dual = True, random_state=0), grid_values, scoring='roc_auc', cv=20)\n",
    "# 数据灌进来\n",
    "model_LR.fit(x_train,y_train)\n",
    "# 20折交叉验证，开始漫长的等待...\n",
    "GridSearchCV(cv=10, estimator=LR(C=1.0, class_weight=None, dual=True,\n",
    "             fit_intercept=True, intercept_scaling=1, penalty='L2', random_state=0, tol=0.0001),\n",
    "         iid=True,  n_jobs=1,\n",
    "        param_grid={'C': [30]}, pre_dispatch='2*n_jobs', refit=True,\n",
    "         scoring='roc_auc', verbose=0)\n",
    "#输出结果\n",
    "print(model_LR.best_score_)"
   ]
  },
  {
   "cell_type": "markdown",
   "metadata": {},
   "source": [
    "## 学习曲线函数"
   ]
  },
  {
   "cell_type": "code",
   "execution_count": 120,
   "metadata": {},
   "outputs": [],
   "source": [
    "import numpy as np\n",
    "import matplotlib.pyplot as plt\n",
    "from sklearn.model_selection import learning_curve\n",
    "plt.rcParams['font.sans-serif']=['SimHei'] \n",
    "\n",
    "# 用sklearn的learning_curve得到training_score和cv_score，使用matplotlib画出learning curve\n",
    "def plot_learning_curve(estimator, title, X, y, ylim=None, cv=None, n_jobs=1, \n",
    "                        train_sizes=np.linspace(.05, 1., 20), verbose=0, plot=True):\n",
    "    \"\"\"\n",
    "    画出data在某模型上的learning curve.\n",
    "    参数解释\n",
    "    ----------\n",
    "    estimator : 你用的分类器。\n",
    "    title : 表格的标题。\n",
    "    X : 输入的feature，numpy类型\n",
    "    y : 输入的target vector\n",
    "    ylim : tuple格式的(ymin, ymax), 设定图像中纵坐标的最低点和最高点\n",
    "    cv : 做cross-validation的时候，数据分成的份数，其中一份作为cv集，其余n-1份作为training(默认为3份)\n",
    "    n_jobs : 并行的的任务数(默认1)\n",
    "    \"\"\"\n",
    "    train_sizes, train_scores, test_scores = learning_curve(\n",
    "        estimator, X, y, cv=cv, n_jobs=n_jobs, train_sizes=train_sizes, verbose=verbose)\n",
    "    \n",
    "    train_scores_mean = np.mean(train_scores, axis=1)\n",
    "    train_scores_std = np.std(train_scores, axis=1)\n",
    "    test_scores_mean = np.mean(test_scores, axis=1)\n",
    "    test_scores_std = np.std(test_scores, axis=1)\n",
    "    \n",
    "    if plot:\n",
    "        plt.figure()\n",
    "        plt.title(title)\n",
    "        if ylim is not None:\n",
    "            plt.ylim(*ylim)\n",
    "        plt.xlabel(u\"训练样本数\")\n",
    "        plt.ylabel(u\"得分\")\n",
    "        plt.gca().invert_yaxis()\n",
    "        plt.grid()\n",
    "    \n",
    "        plt.fill_between(train_sizes, train_scores_mean - train_scores_std, train_scores_mean + train_scores_std, \n",
    "                         alpha=0.1, color=\"b\")\n",
    "        plt.fill_between(train_sizes, test_scores_mean - test_scores_std, test_scores_mean + test_scores_std, \n",
    "                         alpha=0.1, color=\"r\")\n",
    "        plt.plot(train_sizes, train_scores_mean, 'o-', color=\"b\", label=u\"训练集上得分\")\n",
    "        plt.plot(train_sizes, test_scores_mean, 'o-', color=\"r\", label=u\"交叉验证集上得分\")\n",
    "    \n",
    "        plt.legend(loc=\"best\")\n",
    "        \n",
    "#         plt.draw()\n",
    "        plt.show()\n",
    "#         plt.gca().invert_yaxis()\n",
    "    \n",
    "    midpoint = ((train_scores_mean[-1] + train_scores_std[-1]) + (test_scores_mean[-1] - test_scores_std[-1])) / 2\n",
    "    diff = (train_scores_mean[-1] + train_scores_std[-1]) - (test_scores_mean[-1] - test_scores_std[-1])\n",
    "    print('midpoint %s' % midpoint)\n",
    "    print('diff %s' % diff)\n",
    "    return midpoint, diff\n"
   ]
  },
  {
   "cell_type": "markdown",
   "metadata": {},
   "source": [
    "### 绘制贝叶斯学习曲线"
   ]
  },
  {
   "cell_type": "code",
   "execution_count": 125,
   "metadata": {},
   "outputs": [
    {
     "data": {
      "image/png": "[encoded data removed]",
      "text/plain": [
       "<Figure size 432x288 with 1 Axes>"
      ]
     },
     "metadata": {
      "needs_background": "light"
     },
     "output_type": "display_data"
    },
    {
     "name": "stdout",
     "output_type": "stream",
     "text": [
      "midpoint 0.8236218899772492\n",
      "diff 0.09724369681725331\n"
     ]
    },
    {
     "data": {
      "text/plain": [
       "(0.8236218899772492, 0.09724369681725331)"
      ]
     },
     "execution_count": 125,
     "metadata": {},
     "output_type": "execute_result"
    }
   ],
   "source": [
    "plot_learning_curve(model_NB,'贝叶斯曲线',x_train,y_train,cv=30)"
   ]
  },
  {
   "cell_type": "code",
   "execution_count": null,
   "metadata": {},
   "outputs": [],
   "source": []
  }
 ],
 "metadata": {
  "kernelspec": {
   "display_name": "Python 3",
   "language": "python",
   "name": "python3"
  },
  "language_info": {
   "codemirror_mode": {
    "name": "ipython",
    "version": 3
   },
   "file_extension": ".py",
   "mimetype": "text/x-python",
   "name": "python",
   "nbconvert_exporter": "python",
   "pygments_lexer": "ipython3",
   "version": "3.7.2"
  }
 },
 "nbformat": 4,
 "nbformat_minor": 2
}
