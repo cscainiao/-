{
 "cells": [
  {
   "cell_type": "markdown",
   "metadata": {},
   "source": [
    "## 读取训练数据"
   ]
  },
  {
   "cell_type": "code",
   "execution_count": 19,
   "metadata": {},
   "outputs": [
    {
     "data": {
      "text/html": [
       "<div>\n",
       "<style scoped>\n",
       "    .dataframe tbody tr th:only-of-type {\n",
       "        vertical-align: middle;\n",
       "    }\n",
       "\n",
       "    .dataframe tbody tr th {\n",
       "        vertical-align: top;\n",
       "    }\n",
       "\n",
       "    .dataframe thead th {\n",
       "        text-align: right;\n",
       "    }\n",
       "</style>\n",
       "<table border=\"1\" class=\"dataframe\">\n",
       "  <thead>\n",
       "    <tr style=\"text-align: right;\">\n",
       "      <th></th>\n",
       "      <th>data</th>\n",
       "      <th>lable</th>\n",
       "    </tr>\n",
       "  </thead>\n",
       "  <tbody>\n",
       "    <tr>\n",
       "      <th>0</th>\n",
       "      <td>牙釉质是牙齿最外面的一层，牙本质是牙釉质下面的一层 牙齿矿化程度高， 牙釉质是透明的，牙本质...</td>\n",
       "      <td>1</td>\n",
       "    </tr>\n",
       "    <tr>\n",
       "      <th>1</th>\n",
       "      <td>我觉得这样很好，范冰冰不也是吗，120斤的体重，胳膊和腰都不算是细的，但人家就是很美，那种绝...</td>\n",
       "      <td>1</td>\n",
       "    </tr>\n",
       "    <tr>\n",
       "      <th>2</th>\n",
       "      <td>初粉bp的时候最喜她的声音所以最先认出她。，她的嘴有有一种地包天的感觉，但咬合又好像没有 我...</td>\n",
       "      <td>1</td>\n",
       "    </tr>\n",
       "    <tr>\n",
       "      <th>3</th>\n",
       "      <td>回复@1nnioo:看清楚了，中学时的高允真。 回复@1nnioo:自己百度。中学时眼睛小，...</td>\n",
       "      <td>1</td>\n",
       "    </tr>\n",
       "    <tr>\n",
       "      <th>4</th>\n",
       "      <td>我呢？请指教！手机不在身边暂时只有这一张，这张是原相机但是妆后，而且还凹角度捂腮了，脸大两边...</td>\n",
       "      <td>1</td>\n",
       "    </tr>\n",
       "  </tbody>\n",
       "</table>\n",
       "</div>"
      ],
      "text/plain": [
       "                                                data  lable\n",
       "0  牙釉质是牙齿最外面的一层，牙本质是牙釉质下面的一层 牙齿矿化程度高， 牙釉质是透明的，牙本质...      1\n",
       "1  我觉得这样很好，范冰冰不也是吗，120斤的体重，胳膊和腰都不算是细的，但人家就是很美，那种绝...      1\n",
       "2  初粉bp的时候最喜她的声音所以最先认出她。，她的嘴有有一种地包天的感觉，但咬合又好像没有 我...      1\n",
       "3  回复@1nnioo:看清楚了，中学时的高允真。 回复@1nnioo:自己百度。中学时眼睛小，...      1\n",
       "4  我呢？请指教！手机不在身边暂时只有这一张，这张是原相机但是妆后，而且还凹角度捂腮了，脸大两边...      1"
      ]
     },
     "execution_count": 19,
     "metadata": {},
     "output_type": "execute_result"
    }
   ],
   "source": [
    "import pandas as pd\n",
    "\n",
    "train_data = pd.read_csv('yimei_data.csv',encoding='gbk')\n",
    "train_data.head()"
   ]
  },
  {
   "cell_type": "code",
   "execution_count": 20,
   "metadata": {},
   "outputs": [
    {
     "data": {
      "text/plain": [
       "0    1\n",
       "1    1\n",
       "2    1\n",
       "3    1\n",
       "4    1\n",
       "Name: lable, dtype: int64"
      ]
     },
     "execution_count": 20,
     "metadata": {},
     "output_type": "execute_result"
    }
   ],
   "source": [
    "# 取出标签\n",
    "y_train = train_data['lable']\n",
    "y_train.head()"
   ]
  },
  {
   "cell_type": "markdown",
   "metadata": {},
   "source": [
    "### 加载停用词表"
   ]
  },
  {
   "cell_type": "code",
   "execution_count": 21,
   "metadata": {},
   "outputs": [],
   "source": [
    "stop_word = set()\n",
    "with open('stop_word.txt', encoding='utf-8') as f:\n",
    "    for word in f.readlines():\n",
    "        stop_word.add(word.replace('\\n',''))\n"
   ]
  },
  {
   "cell_type": "code",
   "execution_count": 22,
   "metadata": {},
   "outputs": [
    {
     "data": {
      "text/plain": [
       "['牙釉质 牙齿 外面 一层 牙本质 牙釉质 下面 一层   牙齿 矿化 程度   牙釉质 透明 牙本质 颜色 黄色 所以 透出 颜色 黄色 反之 矿化 程度 低 牙齿 乳白色 冷光 美白 牙齿 敏感 建议 做 牙齿 敏感 做 根据 自己 使用 情况 基本上 一年 左右 恢复 做 美白 之前 色度 所以 其实 牙齿 健康 重要',\n",
       " '觉得 这样 范冰冰 吗 120 斤 体重 胳膊 腰 不算 细 人家 就是 美 那种 绝食 减肥 女明星 病态 美 真的 无法 恭维',\n",
       " '初粉 bp 时候 最喜 声音 所以 最先 认出 嘴 一种 包天 感觉 咬合 好像 没有   之前 看到 一个 po 主说 这时候 眼睑 是不是 这个 词 反弹 还是 后遗症   李宇春 只是 长得 比较 态度 吧 美人 谈不上 吧 小声   曾黎   鼻子 实在 允悲 不太吃 这个 款',\n",
       " '回复 1nnioo 看清楚 中学 允真   回复 1nnioo 自己 百度 中学 眼睛 塌 鼻梁 很丑 算 微整 换头 可以 说 微整   回复 hysjvg 右边 一个整 容 韩国 明星 变化很大 但是 看不出来 整容',\n",
       " '请 指教 手机 身边 暂时 只有 一张 这张 相机 但是 妆 而且 凹 角度 捂 腮 脸大 两边 脸 对称 办法 想 做做 医美   回复 仙女 颜究 皮肤 确实 本身 容易 长痘 混油 工作 熬夜 作息 混乱',\n",
       " '哒 谢谢 仙女 明天 剪   分享 图片   剪 这样 短发   分享 图片   仙女 想 问 一下 这个 脸型 适合 剪短 发 吗',\n",
       " '天生 眼袋 浮肿   贼 显老   只想去 眼袋',\n",
       " '回复 柳柳 扭溜牛 小姐姐 鼻子 真 好看   就是 第一种 哈哈哈 平时 看马思纯 注意 今天 一看 照片 发现 上学 那会儿 短发 刘海 加上 脸型 妥妥 马思纯 允悲',\n",
       " '昨天 认真 一天 哈哈哈哈 哈哈哈哈 哈哈哈 研究 自己 颅 顶',\n",
       " '延长 中庭 吗',\n",
       " '感觉 脸 全部 露出 反而 看起来 比较',\n",
       " '关于 评论 黑 废话 云南 几天 紫外线 这么 强能 黑 吗 涂黑 粉 羊毛 不了 杨洋 脸 黑粉 你们 脸 这么 gay 啥意思 这种 话里有话 还有 gay gay 一眼 出来 成年人 张口 说 性 歧视   健身 重要性 别刷 锻炼',\n",
       " '回复 仙女 颜究 好像 没什么 感觉 允悲 但是 拍 完 照片 确实 感觉 左边 眼睛 好像 睁开   想 问下 这种 算 严重 吗   大小 眼是 严重 允悲',\n",
       " '回复 仙女 颜究 太 喜欢 悲伤   回复 仙女 颜究 这个 喵 喵 仙女 颜究   回复 仙女 颜究 喵 喵 没错   说 就是 眼睛',\n",
       " '表情 帝   算不算 中度 鸭',\n",
       " '有点 好奇 为什么 蒙古 褶',\n",
       " '回复 Loco 华莎 公开 吗 李宣 美腿 好看 在座 各位 全是 大象 腿',\n",
       " '应该 轻度 之前 一度 怀疑 是不是 内双',\n",
       " '这种 严重 吗 熊猫',\n",
       " '韩国 做 鼻子 一家 短鼻 的话   回复 寻寻觅觅 终 当归 但是 懂 内容 反正 扎起 头发 看起来 年轻   微笑 嘴去 韩国 一家 做 比较']"
      ]
     },
     "execution_count": 22,
     "metadata": {},
     "output_type": "execute_result"
    }
   ],
   "source": [
    "# 将训练和测试数据都转成词list\n",
    "import jieba\n",
    "\n",
    "\n",
    "def review_to_wordlist(review):\n",
    "    '''\n",
    "    把医美聊天信息转成词序列\n",
    "    '''\n",
    "    words_list = jieba.cut(review, cut_all=False)\n",
    "    ok_list = list()\n",
    "    for each_word in words_list:\n",
    "        if each_word not in stop_word:\n",
    "            ok_list.append(each_word)\n",
    "    \n",
    "    return ok_list\n",
    "\n",
    "x_train = []\n",
    "for i in range(0, len(train_data['data'])):\n",
    "    x_train.append(\" \".join(review_to_wordlist(train_data['data'][i])))\n",
    "x_train[0:20]"
   ]
  },
  {
   "cell_type": "code",
   "execution_count": 23,
   "metadata": {},
   "outputs": [],
   "source": [
    "from sklearn.feature_extraction.text import TfidfVectorizer as TFIV\n",
    "# 初始化TFIV对象，去停用词，加2元语言模型\n",
    "tfv = TFIV(min_df=3,  max_features=None, strip_accents='unicode', analyzer='word',token_pattern=r'\\w{1,}', ngram_range=(1, 2), use_idf=1,smooth_idf=1,sublinear_tf=1)\n"
   ]
  },
  {
   "cell_type": "code",
   "execution_count": 24,
   "metadata": {},
   "outputs": [],
   "source": [
    "tfv.fit(x_train)\n",
    "x_train = tfv.transform(x_train)"
   ]
  },
  {
   "cell_type": "code",
   "execution_count": 25,
   "metadata": {},
   "outputs": [
    {
     "data": {
      "text/plain": [
       "(14673, 14534)"
      ]
     },
     "execution_count": 25,
     "metadata": {},
     "output_type": "execute_result"
    }
   ],
   "source": [
    "x_train.shape"
   ]
  },
  {
   "cell_type": "code",
   "execution_count": 26,
   "metadata": {},
   "outputs": [
    {
     "name": "stdout",
     "output_type": "stream",
     "text": [
      "KNN分类器10折交叉验证得分:  0.6541291328912402\n"
     ]
    }
   ],
   "source": [
    "from sklearn.neighbors import KNeighborsClassifier\n",
    "\n",
    "clf = KNeighborsClassifier()\n",
    "clf.fit(x_train, y_train) #特征数据直接灌进来\n",
    "\n",
    "from sklearn.model_selection import cross_val_score\n",
    "import numpy as np\n",
    "\n",
    "print(\"KNN分类器10折交叉验证得分: \", np.mean(cross_val_score(clf, x_train, y_train, cv=10, scoring='roc_auc')))"
   ]
  },
  {
   "cell_type": "code",
   "execution_count": 29,
   "metadata": {},
   "outputs": [],
   "source": [
    "def predict_data(data):\n",
    "    predict_data = review_to_wordlist(data)\n",
    "    predict_data = [' '.join(predict_data)]\n",
    "    predict_data = tfv.transform(predict_data)\n",
    "    predict_value = clf.predict(predict_data)\n",
    "    return predict_value"
   ]
  },
  {
   "cell_type": "code",
   "execution_count": 31,
   "metadata": {},
   "outputs": [
    {
     "name": "stdout",
     "output_type": "stream",
     "text": [
      "天气真好 0\n",
      "成都哪家医院双眼皮做得好 0\n"
     ]
    }
   ],
   "source": [
    "text1 = '天气真好'\n",
    "a=predict_data(text1)\n",
    "print(text1, a[0])\n",
    "\n",
    "text2 = '成都哪家医院双眼皮做得好'\n",
    "b=predict_data(text2)\n",
    "print(text2,b[0])"
   ]
  },
  {
   "cell_type": "markdown",
   "metadata": {},
   "source": [
    "嗯 knn用于nlp的分类实在是不能直视，贝叶斯和逻辑斯蒂回归会好很多"
   ]
  },
  {
   "cell_type": "code",
   "execution_count": null,
   "metadata": {},
   "outputs": [],
   "source": []
  }
 ],
 "metadata": {
  "kernelspec": {
   "display_name": "Python 3",
   "language": "python",
   "name": "python3"
  },
  "language_info": {
   "codemirror_mode": {
    "name": "ipython",
    "version": 3
   },
   "file_extension": ".py",
   "mimetype": "text/x-python",
   "name": "python",
   "nbconvert_exporter": "python",
   "pygments_lexer": "ipython3",
   "version": "3.7.2"
  }
 },
 "nbformat": 4,
 "nbformat_minor": 2
}
