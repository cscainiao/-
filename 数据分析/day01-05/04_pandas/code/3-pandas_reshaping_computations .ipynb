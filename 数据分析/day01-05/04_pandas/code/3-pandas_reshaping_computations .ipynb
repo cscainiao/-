{
 "cells": [
  {
   "cell_type": "markdown",
   "metadata": {},
   "source": [
    "引入模块"
   ]
  },
  {
   "cell_type": "code",
   "execution_count": 43,
   "metadata": {},
   "outputs": [],
   "source": [
    "import numpy as np\n",
    "import pandas as pd\n",
    "from pandas import Series,DataFrame\n",
    "import matplotlib.pyplot as plt"
   ]
  },
  {
   "cell_type": "markdown",
   "metadata": {},
   "source": [
    "创建示例DataFrame"
   ]
  },
  {
   "cell_type": "code",
   "execution_count": 45,
   "metadata": {},
   "outputs": [
    {
     "data": {
      "text/html": [
       "<div>\n",
       "<style scoped>\n",
       "    .dataframe tbody tr th:only-of-type {\n",
       "        vertical-align: middle;\n",
       "    }\n",
       "\n",
       "    .dataframe tbody tr th {\n",
       "        vertical-align: top;\n",
       "    }\n",
       "\n",
       "    .dataframe thead tr th {\n",
       "        text-align: left;\n",
       "    }\n",
       "</style>\n",
       "<table border=\"1\" class=\"dataframe\">\n",
       "  <thead>\n",
       "    <tr>\n",
       "      <th></th>\n",
       "      <th colspan=\"4\" halign=\"left\">期中</th>\n",
       "      <th colspan=\"4\" halign=\"left\">期末</th>\n",
       "    </tr>\n",
       "    <tr>\n",
       "      <th></th>\n",
       "      <th colspan=\"2\" halign=\"left\">一模</th>\n",
       "      <th colspan=\"2\" halign=\"left\">二模</th>\n",
       "      <th colspan=\"2\" halign=\"left\">一模</th>\n",
       "      <th colspan=\"2\" halign=\"left\">二模</th>\n",
       "    </tr>\n",
       "    <tr>\n",
       "      <th></th>\n",
       "      <th>语文</th>\n",
       "      <th>英语</th>\n",
       "      <th>语文</th>\n",
       "      <th>英语</th>\n",
       "      <th>语文</th>\n",
       "      <th>英语</th>\n",
       "      <th>语文</th>\n",
       "      <th>英语</th>\n",
       "    </tr>\n",
       "  </thead>\n",
       "  <tbody>\n",
       "    <tr>\n",
       "      <th>rose</th>\n",
       "      <td>27</td>\n",
       "      <td>102</td>\n",
       "      <td>24</td>\n",
       "      <td>95</td>\n",
       "      <td>24</td>\n",
       "      <td>129</td>\n",
       "      <td>34</td>\n",
       "      <td>39</td>\n",
       "    </tr>\n",
       "    <tr>\n",
       "      <th>jack</th>\n",
       "      <td>137</td>\n",
       "      <td>117</td>\n",
       "      <td>102</td>\n",
       "      <td>52</td>\n",
       "      <td>121</td>\n",
       "      <td>122</td>\n",
       "      <td>19</td>\n",
       "      <td>59</td>\n",
       "    </tr>\n",
       "  </tbody>\n",
       "</table>\n",
       "</div>"
      ],
      "text/plain": [
       "       期中                 期末             \n",
       "       一模        二模       一模       二模    \n",
       "       语文   英语   语文  英语   语文   英语  语文  英语\n",
       "rose   27  102   24  95   24  129  34  39\n",
       "jack  137  117  102  52  121  122  19  59"
      ]
     },
     "execution_count": 45,
     "metadata": {},
     "output_type": "execute_result"
    }
   ],
   "source": [
    "# 用作案例 不要删 ！！！\n",
    "data=np.random.randint(0,150,size=(2,8))\n",
    "index=[\"rose\",\"jack\"]\n",
    "columns=pd.MultiIndex.from_product([[\"期中\",\"期末\"],[\"一模\",\"二模\"],[\"语文\",\"英语\"]])\n",
    "df = DataFrame(data,index,columns)\n",
    "df"
   ]
  },
  {
   "cell_type": "markdown",
   "metadata": {
    "collapsed": true
   },
   "source": [
    "## 1. 索引的堆（stack）"
   ]
  },
  {
   "cell_type": "markdown",
   "metadata": {},
   "source": [
    "- ``stack()``\n",
    "- ``unstack()``"
   ]
  },
  {
   "cell_type": "code",
   "execution_count": 46,
   "metadata": {},
   "outputs": [
    {
     "data": {
      "text/html": [
       "<div>\n",
       "<style scoped>\n",
       "    .dataframe tbody tr th:only-of-type {\n",
       "        vertical-align: middle;\n",
       "    }\n",
       "\n",
       "    .dataframe tbody tr th {\n",
       "        vertical-align: top;\n",
       "    }\n",
       "\n",
       "    .dataframe thead tr th {\n",
       "        text-align: left;\n",
       "    }\n",
       "</style>\n",
       "<table border=\"1\" class=\"dataframe\">\n",
       "  <thead>\n",
       "    <tr>\n",
       "      <th></th>\n",
       "      <th colspan=\"4\" halign=\"left\">期中</th>\n",
       "      <th colspan=\"4\" halign=\"left\">期末</th>\n",
       "    </tr>\n",
       "    <tr>\n",
       "      <th></th>\n",
       "      <th colspan=\"2\" halign=\"left\">一模</th>\n",
       "      <th colspan=\"2\" halign=\"left\">二模</th>\n",
       "      <th colspan=\"2\" halign=\"left\">一模</th>\n",
       "      <th colspan=\"2\" halign=\"left\">二模</th>\n",
       "    </tr>\n",
       "    <tr>\n",
       "      <th></th>\n",
       "      <th>语文</th>\n",
       "      <th>英语</th>\n",
       "      <th>语文</th>\n",
       "      <th>英语</th>\n",
       "      <th>语文</th>\n",
       "      <th>英语</th>\n",
       "      <th>语文</th>\n",
       "      <th>英语</th>\n",
       "    </tr>\n",
       "  </thead>\n",
       "  <tbody>\n",
       "    <tr>\n",
       "      <th>rose</th>\n",
       "      <td>27</td>\n",
       "      <td>102</td>\n",
       "      <td>24</td>\n",
       "      <td>95</td>\n",
       "      <td>24</td>\n",
       "      <td>129</td>\n",
       "      <td>34</td>\n",
       "      <td>39</td>\n",
       "    </tr>\n",
       "    <tr>\n",
       "      <th>jack</th>\n",
       "      <td>137</td>\n",
       "      <td>117</td>\n",
       "      <td>102</td>\n",
       "      <td>52</td>\n",
       "      <td>121</td>\n",
       "      <td>122</td>\n",
       "      <td>19</td>\n",
       "      <td>59</td>\n",
       "    </tr>\n",
       "  </tbody>\n",
       "</table>\n",
       "</div>"
      ],
      "text/plain": [
       "       期中                 期末             \n",
       "       一模        二模       一模       二模    \n",
       "       语文   英语   语文  英语   语文   英语  语文  英语\n",
       "rose   27  102   24  95   24  129  34  39\n",
       "jack  137  117  102  52  121  122  19  59"
      ]
     },
     "execution_count": 46,
     "metadata": {},
     "output_type": "execute_result"
    }
   ],
   "source": [
    "df"
   ]
  },
  {
   "cell_type": "markdown",
   "metadata": {},
   "source": [
    "### stack() columns -> index 列标题变行标题（数据也会跟着标题走）"
   ]
  },
  {
   "cell_type": "code",
   "execution_count": 47,
   "metadata": {
    "collapsed": true
   },
   "outputs": [
    {
     "data": {
      "text/html": [
       "<div>\n",
       "<style scoped>\n",
       "    .dataframe tbody tr th:only-of-type {\n",
       "        vertical-align: middle;\n",
       "    }\n",
       "\n",
       "    .dataframe tbody tr th {\n",
       "        vertical-align: top;\n",
       "    }\n",
       "\n",
       "    .dataframe thead tr th {\n",
       "        text-align: left;\n",
       "    }\n",
       "</style>\n",
       "<table border=\"1\" class=\"dataframe\">\n",
       "  <thead>\n",
       "    <tr>\n",
       "      <th></th>\n",
       "      <th></th>\n",
       "      <th colspan=\"2\" halign=\"left\">期中</th>\n",
       "      <th colspan=\"2\" halign=\"left\">期末</th>\n",
       "    </tr>\n",
       "    <tr>\n",
       "      <th></th>\n",
       "      <th></th>\n",
       "      <th>一模</th>\n",
       "      <th>二模</th>\n",
       "      <th>一模</th>\n",
       "      <th>二模</th>\n",
       "    </tr>\n",
       "  </thead>\n",
       "  <tbody>\n",
       "    <tr>\n",
       "      <th rowspan=\"2\" valign=\"top\">rose</th>\n",
       "      <th>英语</th>\n",
       "      <td>102</td>\n",
       "      <td>95</td>\n",
       "      <td>129</td>\n",
       "      <td>39</td>\n",
       "    </tr>\n",
       "    <tr>\n",
       "      <th>语文</th>\n",
       "      <td>27</td>\n",
       "      <td>24</td>\n",
       "      <td>24</td>\n",
       "      <td>34</td>\n",
       "    </tr>\n",
       "    <tr>\n",
       "      <th rowspan=\"2\" valign=\"top\">jack</th>\n",
       "      <th>英语</th>\n",
       "      <td>117</td>\n",
       "      <td>52</td>\n",
       "      <td>122</td>\n",
       "      <td>59</td>\n",
       "    </tr>\n",
       "    <tr>\n",
       "      <th>语文</th>\n",
       "      <td>137</td>\n",
       "      <td>102</td>\n",
       "      <td>121</td>\n",
       "      <td>19</td>\n",
       "    </tr>\n",
       "  </tbody>\n",
       "</table>\n",
       "</div>"
      ],
      "text/plain": [
       "          期中        期末    \n",
       "          一模   二模   一模  二模\n",
       "rose 英语  102   95  129  39\n",
       "     语文   27   24   24  34\n",
       "jack 英语  117   52  122  59\n",
       "     语文  137  102  121  19"
      ]
     },
     "execution_count": 47,
     "metadata": {},
     "output_type": "execute_result"
    }
   ],
   "source": [
    "df.stack() # 把列的标题 放到行上"
   ]
  },
  {
   "cell_type": "code",
   "execution_count": 50,
   "metadata": {},
   "outputs": [
    {
     "data": {
      "text/html": [
       "<div>\n",
       "<style scoped>\n",
       "    .dataframe tbody tr th:only-of-type {\n",
       "        vertical-align: middle;\n",
       "    }\n",
       "\n",
       "    .dataframe tbody tr th {\n",
       "        vertical-align: top;\n",
       "    }\n",
       "\n",
       "    .dataframe thead tr th {\n",
       "        text-align: left;\n",
       "    }\n",
       "</style>\n",
       "<table border=\"1\" class=\"dataframe\">\n",
       "  <thead>\n",
       "    <tr>\n",
       "      <th></th>\n",
       "      <th colspan=\"4\" halign=\"left\">期中</th>\n",
       "      <th colspan=\"4\" halign=\"left\">期末</th>\n",
       "    </tr>\n",
       "    <tr>\n",
       "      <th></th>\n",
       "      <th colspan=\"2\" halign=\"left\">一模</th>\n",
       "      <th colspan=\"2\" halign=\"left\">二模</th>\n",
       "      <th colspan=\"2\" halign=\"left\">一模</th>\n",
       "      <th colspan=\"2\" halign=\"left\">二模</th>\n",
       "    </tr>\n",
       "    <tr>\n",
       "      <th></th>\n",
       "      <th>语文</th>\n",
       "      <th>英语</th>\n",
       "      <th>语文</th>\n",
       "      <th>英语</th>\n",
       "      <th>语文</th>\n",
       "      <th>英语</th>\n",
       "      <th>语文</th>\n",
       "      <th>英语</th>\n",
       "    </tr>\n",
       "  </thead>\n",
       "  <tbody>\n",
       "    <tr>\n",
       "      <th>rose</th>\n",
       "      <td>27</td>\n",
       "      <td>102</td>\n",
       "      <td>24</td>\n",
       "      <td>95</td>\n",
       "      <td>24</td>\n",
       "      <td>129</td>\n",
       "      <td>34</td>\n",
       "      <td>39</td>\n",
       "    </tr>\n",
       "    <tr>\n",
       "      <th>jack</th>\n",
       "      <td>137</td>\n",
       "      <td>117</td>\n",
       "      <td>102</td>\n",
       "      <td>52</td>\n",
       "      <td>121</td>\n",
       "      <td>122</td>\n",
       "      <td>19</td>\n",
       "      <td>59</td>\n",
       "    </tr>\n",
       "  </tbody>\n",
       "</table>\n",
       "</div>"
      ],
      "text/plain": [
       "       期中                 期末             \n",
       "       一模        二模       一模       二模    \n",
       "       语文   英语   语文  英语   语文   英语  语文  英语\n",
       "rose   27  102   24  95   24  129  34  39\n",
       "jack  137  117  102  52  121  122  19  59"
      ]
     },
     "execution_count": 50,
     "metadata": {},
     "output_type": "execute_result"
    }
   ],
   "source": [
    "df"
   ]
  },
  {
   "cell_type": "code",
   "execution_count": 49,
   "metadata": {},
   "outputs": [
    {
     "data": {
      "text/html": [
       "<div>\n",
       "<style scoped>\n",
       "    .dataframe tbody tr th:only-of-type {\n",
       "        vertical-align: middle;\n",
       "    }\n",
       "\n",
       "    .dataframe tbody tr th {\n",
       "        vertical-align: top;\n",
       "    }\n",
       "\n",
       "    .dataframe thead tr th {\n",
       "        text-align: left;\n",
       "    }\n",
       "</style>\n",
       "<table border=\"1\" class=\"dataframe\">\n",
       "  <thead>\n",
       "    <tr>\n",
       "      <th></th>\n",
       "      <th></th>\n",
       "      <th colspan=\"2\" halign=\"left\">期中</th>\n",
       "      <th colspan=\"2\" halign=\"left\">期末</th>\n",
       "    </tr>\n",
       "    <tr>\n",
       "      <th></th>\n",
       "      <th></th>\n",
       "      <th>一模</th>\n",
       "      <th>二模</th>\n",
       "      <th>一模</th>\n",
       "      <th>二模</th>\n",
       "    </tr>\n",
       "  </thead>\n",
       "  <tbody>\n",
       "    <tr>\n",
       "      <th rowspan=\"2\" valign=\"top\">rose</th>\n",
       "      <th>英语</th>\n",
       "      <td>102</td>\n",
       "      <td>95</td>\n",
       "      <td>129</td>\n",
       "      <td>39</td>\n",
       "    </tr>\n",
       "    <tr>\n",
       "      <th>语文</th>\n",
       "      <td>27</td>\n",
       "      <td>24</td>\n",
       "      <td>24</td>\n",
       "      <td>34</td>\n",
       "    </tr>\n",
       "    <tr>\n",
       "      <th rowspan=\"2\" valign=\"top\">jack</th>\n",
       "      <th>英语</th>\n",
       "      <td>117</td>\n",
       "      <td>52</td>\n",
       "      <td>122</td>\n",
       "      <td>59</td>\n",
       "    </tr>\n",
       "    <tr>\n",
       "      <th>语文</th>\n",
       "      <td>137</td>\n",
       "      <td>102</td>\n",
       "      <td>121</td>\n",
       "      <td>19</td>\n",
       "    </tr>\n",
       "  </tbody>\n",
       "</table>\n",
       "</div>"
      ],
      "text/plain": [
       "          期中        期末    \n",
       "          一模   二模   一模  二模\n",
       "rose 英语  102   95  129  39\n",
       "     语文   27   24   24  34\n",
       "jack 英语  117   52  122  59\n",
       "     语文  137  102  121  19"
      ]
     },
     "execution_count": 49,
     "metadata": {},
     "output_type": "execute_result"
    }
   ],
   "source": [
    "df.stack()"
   ]
  },
  {
   "cell_type": "code",
   "execution_count": 52,
   "metadata": {},
   "outputs": [
    {
     "data": {
      "text/html": [
       "<div>\n",
       "<style scoped>\n",
       "    .dataframe tbody tr th:only-of-type {\n",
       "        vertical-align: middle;\n",
       "    }\n",
       "\n",
       "    .dataframe tbody tr th {\n",
       "        vertical-align: top;\n",
       "    }\n",
       "\n",
       "    .dataframe thead th {\n",
       "        text-align: right;\n",
       "    }\n",
       "</style>\n",
       "<table border=\"1\" class=\"dataframe\">\n",
       "  <thead>\n",
       "    <tr style=\"text-align: right;\">\n",
       "      <th></th>\n",
       "      <th></th>\n",
       "      <th></th>\n",
       "      <th>期中</th>\n",
       "      <th>期末</th>\n",
       "    </tr>\n",
       "  </thead>\n",
       "  <tbody>\n",
       "    <tr>\n",
       "      <th rowspan=\"4\" valign=\"top\">rose</th>\n",
       "      <th rowspan=\"2\" valign=\"top\">英语</th>\n",
       "      <th>一模</th>\n",
       "      <td>102</td>\n",
       "      <td>129</td>\n",
       "    </tr>\n",
       "    <tr>\n",
       "      <th>二模</th>\n",
       "      <td>95</td>\n",
       "      <td>39</td>\n",
       "    </tr>\n",
       "    <tr>\n",
       "      <th rowspan=\"2\" valign=\"top\">语文</th>\n",
       "      <th>一模</th>\n",
       "      <td>27</td>\n",
       "      <td>24</td>\n",
       "    </tr>\n",
       "    <tr>\n",
       "      <th>二模</th>\n",
       "      <td>24</td>\n",
       "      <td>34</td>\n",
       "    </tr>\n",
       "    <tr>\n",
       "      <th rowspan=\"4\" valign=\"top\">jack</th>\n",
       "      <th rowspan=\"2\" valign=\"top\">英语</th>\n",
       "      <th>一模</th>\n",
       "      <td>117</td>\n",
       "      <td>122</td>\n",
       "    </tr>\n",
       "    <tr>\n",
       "      <th>二模</th>\n",
       "      <td>52</td>\n",
       "      <td>59</td>\n",
       "    </tr>\n",
       "    <tr>\n",
       "      <th rowspan=\"2\" valign=\"top\">语文</th>\n",
       "      <th>一模</th>\n",
       "      <td>137</td>\n",
       "      <td>121</td>\n",
       "    </tr>\n",
       "    <tr>\n",
       "      <th>二模</th>\n",
       "      <td>102</td>\n",
       "      <td>19</td>\n",
       "    </tr>\n",
       "  </tbody>\n",
       "</table>\n",
       "</div>"
      ],
      "text/plain": [
       "             期中   期末\n",
       "rose 英语 一模  102  129\n",
       "        二模   95   39\n",
       "     语文 一模   27   24\n",
       "        二模   24   34\n",
       "jack 英语 一模  117  122\n",
       "        二模   52   59\n",
       "     语文 一模  137  121\n",
       "        二模  102   19"
      ]
     },
     "execution_count": 52,
     "metadata": {},
     "output_type": "execute_result"
    }
   ],
   "source": [
    "df.stack().stack()"
   ]
  },
  {
   "cell_type": "code",
   "execution_count": 55,
   "metadata": {},
   "outputs": [
    {
     "data": {
      "text/plain": [
       "rose  英语  一模  期中    102\n",
       "              期末    129\n",
       "          二模  期中     95\n",
       "              期末     39\n",
       "      语文  一模  期中     27\n",
       "              期末     24\n",
       "          二模  期中     24\n",
       "              期末     34\n",
       "jack  英语  一模  期中    117\n",
       "              期末    122\n",
       "          二模  期中     52\n",
       "              期末     59\n",
       "      语文  一模  期中    137\n",
       "              期末    121\n",
       "          二模  期中    102\n",
       "              期末     19\n",
       "dtype: int32"
      ]
     },
     "execution_count": 55,
     "metadata": {},
     "output_type": "execute_result"
    }
   ],
   "source": [
    "df.stack().stack().stack()\n",
    "\n",
    "type(df.stack().stack().stack())"
   ]
  },
  {
   "cell_type": "markdown",
   "metadata": {},
   "source": [
    "对于单级列索引，列索引没了，直接变Series"
   ]
  },
  {
   "cell_type": "code",
   "execution_count": null,
   "metadata": {},
   "outputs": [],
   "source": []
  },
  {
   "cell_type": "code",
   "execution_count": null,
   "metadata": {},
   "outputs": [],
   "source": []
  },
  {
   "cell_type": "code",
   "execution_count": null,
   "metadata": {},
   "outputs": [],
   "source": []
  },
  {
   "cell_type": "markdown",
   "metadata": {},
   "source": [
    "对于多级列索引，通过level指明要转换的columns\n",
    "\n",
    "level 的值默认为-1（最内层）；取值从外往里 从0递增"
   ]
  },
  {
   "cell_type": "code",
   "execution_count": 56,
   "metadata": {},
   "outputs": [
    {
     "data": {
      "text/html": [
       "<div>\n",
       "<style scoped>\n",
       "    .dataframe tbody tr th:only-of-type {\n",
       "        vertical-align: middle;\n",
       "    }\n",
       "\n",
       "    .dataframe tbody tr th {\n",
       "        vertical-align: top;\n",
       "    }\n",
       "\n",
       "    .dataframe thead tr th {\n",
       "        text-align: left;\n",
       "    }\n",
       "</style>\n",
       "<table border=\"1\" class=\"dataframe\">\n",
       "  <thead>\n",
       "    <tr>\n",
       "      <th></th>\n",
       "      <th colspan=\"4\" halign=\"left\">期中</th>\n",
       "      <th colspan=\"4\" halign=\"left\">期末</th>\n",
       "    </tr>\n",
       "    <tr>\n",
       "      <th></th>\n",
       "      <th colspan=\"2\" halign=\"left\">一模</th>\n",
       "      <th colspan=\"2\" halign=\"left\">二模</th>\n",
       "      <th colspan=\"2\" halign=\"left\">一模</th>\n",
       "      <th colspan=\"2\" halign=\"left\">二模</th>\n",
       "    </tr>\n",
       "    <tr>\n",
       "      <th></th>\n",
       "      <th>语文</th>\n",
       "      <th>英语</th>\n",
       "      <th>语文</th>\n",
       "      <th>英语</th>\n",
       "      <th>语文</th>\n",
       "      <th>英语</th>\n",
       "      <th>语文</th>\n",
       "      <th>英语</th>\n",
       "    </tr>\n",
       "  </thead>\n",
       "  <tbody>\n",
       "    <tr>\n",
       "      <th>rose</th>\n",
       "      <td>27</td>\n",
       "      <td>102</td>\n",
       "      <td>24</td>\n",
       "      <td>95</td>\n",
       "      <td>24</td>\n",
       "      <td>129</td>\n",
       "      <td>34</td>\n",
       "      <td>39</td>\n",
       "    </tr>\n",
       "    <tr>\n",
       "      <th>jack</th>\n",
       "      <td>137</td>\n",
       "      <td>117</td>\n",
       "      <td>102</td>\n",
       "      <td>52</td>\n",
       "      <td>121</td>\n",
       "      <td>122</td>\n",
       "      <td>19</td>\n",
       "      <td>59</td>\n",
       "    </tr>\n",
       "  </tbody>\n",
       "</table>\n",
       "</div>"
      ],
      "text/plain": [
       "       期中                 期末             \n",
       "       一模        二模       一模       二模    \n",
       "       语文   英语   语文  英语   语文   英语  语文  英语\n",
       "rose   27  102   24  95   24  129  34  39\n",
       "jack  137  117  102  52  121  122  19  59"
      ]
     },
     "execution_count": 56,
     "metadata": {},
     "output_type": "execute_result"
    }
   ],
   "source": [
    "df"
   ]
  },
  {
   "cell_type": "code",
   "execution_count": 59,
   "metadata": {},
   "outputs": [
    {
     "data": {
      "text/html": [
       "<div>\n",
       "<style scoped>\n",
       "    .dataframe tbody tr th:only-of-type {\n",
       "        vertical-align: middle;\n",
       "    }\n",
       "\n",
       "    .dataframe tbody tr th {\n",
       "        vertical-align: top;\n",
       "    }\n",
       "\n",
       "    .dataframe thead tr th {\n",
       "        text-align: left;\n",
       "    }\n",
       "</style>\n",
       "<table border=\"1\" class=\"dataframe\">\n",
       "  <thead>\n",
       "    <tr>\n",
       "      <th></th>\n",
       "      <th></th>\n",
       "      <th colspan=\"2\" halign=\"left\">期中</th>\n",
       "      <th colspan=\"2\" halign=\"left\">期末</th>\n",
       "    </tr>\n",
       "    <tr>\n",
       "      <th></th>\n",
       "      <th></th>\n",
       "      <th>英语</th>\n",
       "      <th>语文</th>\n",
       "      <th>英语</th>\n",
       "      <th>语文</th>\n",
       "    </tr>\n",
       "  </thead>\n",
       "  <tbody>\n",
       "    <tr>\n",
       "      <th rowspan=\"2\" valign=\"top\">rose</th>\n",
       "      <th>一模</th>\n",
       "      <td>102</td>\n",
       "      <td>27</td>\n",
       "      <td>129</td>\n",
       "      <td>24</td>\n",
       "    </tr>\n",
       "    <tr>\n",
       "      <th>二模</th>\n",
       "      <td>95</td>\n",
       "      <td>24</td>\n",
       "      <td>39</td>\n",
       "      <td>34</td>\n",
       "    </tr>\n",
       "    <tr>\n",
       "      <th rowspan=\"2\" valign=\"top\">jack</th>\n",
       "      <th>一模</th>\n",
       "      <td>117</td>\n",
       "      <td>137</td>\n",
       "      <td>122</td>\n",
       "      <td>121</td>\n",
       "    </tr>\n",
       "    <tr>\n",
       "      <th>二模</th>\n",
       "      <td>52</td>\n",
       "      <td>102</td>\n",
       "      <td>59</td>\n",
       "      <td>19</td>\n",
       "    </tr>\n",
       "  </tbody>\n",
       "</table>\n",
       "</div>"
      ],
      "text/plain": [
       "          期中        期末     \n",
       "          英语   语文   英语   语文\n",
       "rose 一模  102   27  129   24\n",
       "     二模   95   24   39   34\n",
       "jack 一模  117  137  122  121\n",
       "     二模   52  102   59   19"
      ]
     },
     "execution_count": 59,
     "metadata": {},
     "output_type": "execute_result"
    }
   ],
   "source": [
    "df.stack(level=0) # level 索引的级别 默认是-1 -1就是最里面的  level的值 从外到内 0 1 2 3\n",
    "df.stack(level=1)"
   ]
  },
  {
   "cell_type": "code",
   "execution_count": null,
   "metadata": {
    "scrolled": true
   },
   "outputs": [],
   "source": []
  },
  {
   "cell_type": "code",
   "execution_count": null,
   "metadata": {},
   "outputs": [],
   "source": []
  },
  {
   "cell_type": "markdown",
   "metadata": {},
   "source": [
    "【小技巧】使用stack()时，level等于哪个columns，哪个columns就消失，变成index（行标题）"
   ]
  },
  {
   "cell_type": "markdown",
   "metadata": {},
   "source": [
    " "
   ]
  },
  {
   "cell_type": "markdown",
   "metadata": {},
   "source": [
    "### unstack() index -> columns 行标题变列标题（数据也会跟着标题走）"
   ]
  },
  {
   "cell_type": "code",
   "execution_count": 60,
   "metadata": {},
   "outputs": [
    {
     "data": {
      "text/html": [
       "<div>\n",
       "<style scoped>\n",
       "    .dataframe tbody tr th:only-of-type {\n",
       "        vertical-align: middle;\n",
       "    }\n",
       "\n",
       "    .dataframe tbody tr th {\n",
       "        vertical-align: top;\n",
       "    }\n",
       "\n",
       "    .dataframe thead tr th {\n",
       "        text-align: left;\n",
       "    }\n",
       "</style>\n",
       "<table border=\"1\" class=\"dataframe\">\n",
       "  <thead>\n",
       "    <tr>\n",
       "      <th></th>\n",
       "      <th colspan=\"4\" halign=\"left\">期中</th>\n",
       "      <th colspan=\"4\" halign=\"left\">期末</th>\n",
       "    </tr>\n",
       "    <tr>\n",
       "      <th></th>\n",
       "      <th colspan=\"2\" halign=\"left\">一模</th>\n",
       "      <th colspan=\"2\" halign=\"left\">二模</th>\n",
       "      <th colspan=\"2\" halign=\"left\">一模</th>\n",
       "      <th colspan=\"2\" halign=\"left\">二模</th>\n",
       "    </tr>\n",
       "    <tr>\n",
       "      <th></th>\n",
       "      <th>语文</th>\n",
       "      <th>英语</th>\n",
       "      <th>语文</th>\n",
       "      <th>英语</th>\n",
       "      <th>语文</th>\n",
       "      <th>英语</th>\n",
       "      <th>语文</th>\n",
       "      <th>英语</th>\n",
       "    </tr>\n",
       "  </thead>\n",
       "  <tbody>\n",
       "    <tr>\n",
       "      <th>rose</th>\n",
       "      <td>27</td>\n",
       "      <td>102</td>\n",
       "      <td>24</td>\n",
       "      <td>95</td>\n",
       "      <td>24</td>\n",
       "      <td>129</td>\n",
       "      <td>34</td>\n",
       "      <td>39</td>\n",
       "    </tr>\n",
       "    <tr>\n",
       "      <th>jack</th>\n",
       "      <td>137</td>\n",
       "      <td>117</td>\n",
       "      <td>102</td>\n",
       "      <td>52</td>\n",
       "      <td>121</td>\n",
       "      <td>122</td>\n",
       "      <td>19</td>\n",
       "      <td>59</td>\n",
       "    </tr>\n",
       "  </tbody>\n",
       "</table>\n",
       "</div>"
      ],
      "text/plain": [
       "       期中                 期末             \n",
       "       一模        二模       一模       二模    \n",
       "       语文   英语   语文  英语   语文   英语  语文  英语\n",
       "rose   27  102   24  95   24  129  34  39\n",
       "jack  137  117  102  52  121  122  19  59"
      ]
     },
     "execution_count": 60,
     "metadata": {},
     "output_type": "execute_result"
    }
   ],
   "source": [
    "df"
   ]
  },
  {
   "cell_type": "code",
   "execution_count": 61,
   "metadata": {},
   "outputs": [
    {
     "data": {
      "text/plain": [
       "期中  一模  语文  rose     27\n",
       "            jack    137\n",
       "        英语  rose    102\n",
       "            jack    117\n",
       "    二模  语文  rose     24\n",
       "            jack    102\n",
       "        英语  rose     95\n",
       "            jack     52\n",
       "期末  一模  语文  rose     24\n",
       "            jack    121\n",
       "        英语  rose    129\n",
       "            jack    122\n",
       "    二模  语文  rose     34\n",
       "            jack     19\n",
       "        英语  rose     39\n",
       "            jack     59\n",
       "dtype: int32"
      ]
     },
     "execution_count": 61,
     "metadata": {},
     "output_type": "execute_result"
    }
   ],
   "source": [
    "df.unstack()"
   ]
  },
  {
   "cell_type": "code",
   "execution_count": 64,
   "metadata": {},
   "outputs": [
    {
     "data": {
      "text/html": [
       "<div>\n",
       "<style scoped>\n",
       "    .dataframe tbody tr th:only-of-type {\n",
       "        vertical-align: middle;\n",
       "    }\n",
       "\n",
       "    .dataframe tbody tr th {\n",
       "        vertical-align: top;\n",
       "    }\n",
       "\n",
       "    .dataframe thead th {\n",
       "        text-align: right;\n",
       "    }\n",
       "</style>\n",
       "<table border=\"1\" class=\"dataframe\">\n",
       "  <thead>\n",
       "    <tr style=\"text-align: right;\">\n",
       "      <th></th>\n",
       "      <th></th>\n",
       "      <th></th>\n",
       "      <th>期中</th>\n",
       "      <th>期末</th>\n",
       "    </tr>\n",
       "  </thead>\n",
       "  <tbody>\n",
       "    <tr>\n",
       "      <th rowspan=\"4\" valign=\"top\">rose</th>\n",
       "      <th rowspan=\"2\" valign=\"top\">英语</th>\n",
       "      <th>一模</th>\n",
       "      <td>102</td>\n",
       "      <td>129</td>\n",
       "    </tr>\n",
       "    <tr>\n",
       "      <th>二模</th>\n",
       "      <td>95</td>\n",
       "      <td>39</td>\n",
       "    </tr>\n",
       "    <tr>\n",
       "      <th rowspan=\"2\" valign=\"top\">语文</th>\n",
       "      <th>一模</th>\n",
       "      <td>27</td>\n",
       "      <td>24</td>\n",
       "    </tr>\n",
       "    <tr>\n",
       "      <th>二模</th>\n",
       "      <td>24</td>\n",
       "      <td>34</td>\n",
       "    </tr>\n",
       "    <tr>\n",
       "      <th rowspan=\"4\" valign=\"top\">jack</th>\n",
       "      <th rowspan=\"2\" valign=\"top\">英语</th>\n",
       "      <th>一模</th>\n",
       "      <td>117</td>\n",
       "      <td>122</td>\n",
       "    </tr>\n",
       "    <tr>\n",
       "      <th>二模</th>\n",
       "      <td>52</td>\n",
       "      <td>59</td>\n",
       "    </tr>\n",
       "    <tr>\n",
       "      <th rowspan=\"2\" valign=\"top\">语文</th>\n",
       "      <th>一模</th>\n",
       "      <td>137</td>\n",
       "      <td>121</td>\n",
       "    </tr>\n",
       "    <tr>\n",
       "      <th>二模</th>\n",
       "      <td>102</td>\n",
       "      <td>19</td>\n",
       "    </tr>\n",
       "  </tbody>\n",
       "</table>\n",
       "</div>"
      ],
      "text/plain": [
       "             期中   期末\n",
       "rose 英语 一模  102  129\n",
       "        二模   95   39\n",
       "     语文 一模   27   24\n",
       "        二模   24   34\n",
       "jack 英语 一模  117  122\n",
       "        二模   52   59\n",
       "     语文 一模  137  121\n",
       "        二模  102   19"
      ]
     },
     "execution_count": 64,
     "metadata": {},
     "output_type": "execute_result"
    }
   ],
   "source": [
    "df1 = df.stack().stack()\n",
    "df1"
   ]
  },
  {
   "cell_type": "code",
   "execution_count": 68,
   "metadata": {
    "scrolled": false
   },
   "outputs": [
    {
     "data": {
      "text/html": [
       "<div>\n",
       "<style scoped>\n",
       "    .dataframe tbody tr th:only-of-type {\n",
       "        vertical-align: middle;\n",
       "    }\n",
       "\n",
       "    .dataframe tbody tr th {\n",
       "        vertical-align: top;\n",
       "    }\n",
       "\n",
       "    .dataframe thead tr th {\n",
       "        text-align: left;\n",
       "    }\n",
       "</style>\n",
       "<table border=\"1\" class=\"dataframe\">\n",
       "  <thead>\n",
       "    <tr>\n",
       "      <th></th>\n",
       "      <th></th>\n",
       "      <th colspan=\"2\" halign=\"left\">期中</th>\n",
       "      <th colspan=\"2\" halign=\"left\">期末</th>\n",
       "    </tr>\n",
       "    <tr>\n",
       "      <th></th>\n",
       "      <th></th>\n",
       "      <th>一模</th>\n",
       "      <th>二模</th>\n",
       "      <th>一模</th>\n",
       "      <th>二模</th>\n",
       "    </tr>\n",
       "  </thead>\n",
       "  <tbody>\n",
       "    <tr>\n",
       "      <th rowspan=\"2\" valign=\"top\">rose</th>\n",
       "      <th>英语</th>\n",
       "      <td>102</td>\n",
       "      <td>95</td>\n",
       "      <td>129</td>\n",
       "      <td>39</td>\n",
       "    </tr>\n",
       "    <tr>\n",
       "      <th>语文</th>\n",
       "      <td>27</td>\n",
       "      <td>24</td>\n",
       "      <td>24</td>\n",
       "      <td>34</td>\n",
       "    </tr>\n",
       "    <tr>\n",
       "      <th rowspan=\"2\" valign=\"top\">jack</th>\n",
       "      <th>英语</th>\n",
       "      <td>117</td>\n",
       "      <td>52</td>\n",
       "      <td>122</td>\n",
       "      <td>59</td>\n",
       "    </tr>\n",
       "    <tr>\n",
       "      <th>语文</th>\n",
       "      <td>137</td>\n",
       "      <td>102</td>\n",
       "      <td>121</td>\n",
       "      <td>19</td>\n",
       "    </tr>\n",
       "  </tbody>\n",
       "</table>\n",
       "</div>"
      ],
      "text/plain": [
       "          期中        期末    \n",
       "          一模   二模   一模  二模\n",
       "rose 英语  102   95  129  39\n",
       "     语文   27   24   24  34\n",
       "jack 英语  117   52  122  59\n",
       "     语文  137  102  121  19"
      ]
     },
     "execution_count": 68,
     "metadata": {},
     "output_type": "execute_result"
    }
   ],
   "source": [
    "df1.unstack(level=2)\n",
    "df1.unstack(level=-1)"
   ]
  },
  {
   "cell_type": "code",
   "execution_count": 69,
   "metadata": {},
   "outputs": [
    {
     "data": {
      "text/html": [
       "<div>\n",
       "<style scoped>\n",
       "    .dataframe tbody tr th:only-of-type {\n",
       "        vertical-align: middle;\n",
       "    }\n",
       "\n",
       "    .dataframe tbody tr th {\n",
       "        vertical-align: top;\n",
       "    }\n",
       "\n",
       "    .dataframe thead tr th {\n",
       "        text-align: left;\n",
       "    }\n",
       "</style>\n",
       "<table border=\"1\" class=\"dataframe\">\n",
       "  <thead>\n",
       "    <tr>\n",
       "      <th></th>\n",
       "      <th colspan=\"4\" halign=\"left\">期中</th>\n",
       "      <th colspan=\"4\" halign=\"left\">期末</th>\n",
       "    </tr>\n",
       "    <tr>\n",
       "      <th></th>\n",
       "      <th colspan=\"2\" halign=\"left\">一模</th>\n",
       "      <th colspan=\"2\" halign=\"left\">二模</th>\n",
       "      <th colspan=\"2\" halign=\"left\">一模</th>\n",
       "      <th colspan=\"2\" halign=\"left\">二模</th>\n",
       "    </tr>\n",
       "    <tr>\n",
       "      <th></th>\n",
       "      <th>语文</th>\n",
       "      <th>英语</th>\n",
       "      <th>语文</th>\n",
       "      <th>英语</th>\n",
       "      <th>语文</th>\n",
       "      <th>英语</th>\n",
       "      <th>语文</th>\n",
       "      <th>英语</th>\n",
       "    </tr>\n",
       "  </thead>\n",
       "  <tbody>\n",
       "    <tr>\n",
       "      <th>rose</th>\n",
       "      <td>27</td>\n",
       "      <td>102</td>\n",
       "      <td>24</td>\n",
       "      <td>95</td>\n",
       "      <td>24</td>\n",
       "      <td>129</td>\n",
       "      <td>34</td>\n",
       "      <td>39</td>\n",
       "    </tr>\n",
       "    <tr>\n",
       "      <th>jack</th>\n",
       "      <td>137</td>\n",
       "      <td>117</td>\n",
       "      <td>102</td>\n",
       "      <td>52</td>\n",
       "      <td>121</td>\n",
       "      <td>122</td>\n",
       "      <td>19</td>\n",
       "      <td>59</td>\n",
       "    </tr>\n",
       "  </tbody>\n",
       "</table>\n",
       "</div>"
      ],
      "text/plain": [
       "       期中                 期末             \n",
       "       一模        二模       一模       二模    \n",
       "       语文   英语   语文  英语   语文   英语  语文  英语\n",
       "rose   27  102   24  95   24  129  34  39\n",
       "jack  137  117  102  52  121  122  19  59"
      ]
     },
     "execution_count": 69,
     "metadata": {},
     "output_type": "execute_result"
    }
   ],
   "source": [
    "df"
   ]
  },
  {
   "cell_type": "markdown",
   "metadata": {},
   "source": [
    "练习：行列互换"
   ]
  },
  {
   "cell_type": "code",
   "execution_count": 75,
   "metadata": {},
   "outputs": [
    {
     "data": {
      "text/html": [
       "<div>\n",
       "<style scoped>\n",
       "    .dataframe tbody tr th:only-of-type {\n",
       "        vertical-align: middle;\n",
       "    }\n",
       "\n",
       "    .dataframe tbody tr th {\n",
       "        vertical-align: top;\n",
       "    }\n",
       "\n",
       "    .dataframe thead th {\n",
       "        text-align: right;\n",
       "    }\n",
       "</style>\n",
       "<table border=\"1\" class=\"dataframe\">\n",
       "  <thead>\n",
       "    <tr style=\"text-align: right;\">\n",
       "      <th></th>\n",
       "      <th></th>\n",
       "      <th></th>\n",
       "      <th>rose</th>\n",
       "      <th>jack</th>\n",
       "    </tr>\n",
       "  </thead>\n",
       "  <tbody>\n",
       "    <tr>\n",
       "      <th rowspan=\"4\" valign=\"top\">英语</th>\n",
       "      <th rowspan=\"2\" valign=\"top\">一模</th>\n",
       "      <th>期中</th>\n",
       "      <td>102</td>\n",
       "      <td>117</td>\n",
       "    </tr>\n",
       "    <tr>\n",
       "      <th>期末</th>\n",
       "      <td>129</td>\n",
       "      <td>122</td>\n",
       "    </tr>\n",
       "    <tr>\n",
       "      <th rowspan=\"2\" valign=\"top\">二模</th>\n",
       "      <th>期中</th>\n",
       "      <td>95</td>\n",
       "      <td>52</td>\n",
       "    </tr>\n",
       "    <tr>\n",
       "      <th>期末</th>\n",
       "      <td>39</td>\n",
       "      <td>59</td>\n",
       "    </tr>\n",
       "    <tr>\n",
       "      <th rowspan=\"4\" valign=\"top\">语文</th>\n",
       "      <th rowspan=\"2\" valign=\"top\">一模</th>\n",
       "      <th>期中</th>\n",
       "      <td>27</td>\n",
       "      <td>137</td>\n",
       "    </tr>\n",
       "    <tr>\n",
       "      <th>期末</th>\n",
       "      <td>24</td>\n",
       "      <td>121</td>\n",
       "    </tr>\n",
       "    <tr>\n",
       "      <th rowspan=\"2\" valign=\"top\">二模</th>\n",
       "      <th>期中</th>\n",
       "      <td>24</td>\n",
       "      <td>102</td>\n",
       "    </tr>\n",
       "    <tr>\n",
       "      <th>期末</th>\n",
       "      <td>34</td>\n",
       "      <td>19</td>\n",
       "    </tr>\n",
       "  </tbody>\n",
       "</table>\n",
       "</div>"
      ],
      "text/plain": [
       "          rose  jack\n",
       "英语 一模 期中   102   117\n",
       "      期末   129   122\n",
       "   二模 期中    95    52\n",
       "      期末    39    59\n",
       "语文 一模 期中    27   137\n",
       "      期末    24   121\n",
       "   二模 期中    24   102\n",
       "      期末    34    19"
      ]
     },
     "execution_count": 75,
     "metadata": {},
     "output_type": "execute_result"
    }
   ],
   "source": [
    "df.stack().stack().stack().unstack(level=0)"
   ]
  },
  {
   "cell_type": "markdown",
   "metadata": {},
   "source": [
    "【小技巧】使用unstack()时，level等于哪个index，哪个index就消失，变成columns（列标题）"
   ]
  },
  {
   "cell_type": "markdown",
   "metadata": {},
   "source": [
    "============================================\n",
    "\n",
    "练习：\n",
    "\n",
    "1. 将df变为两行，分别为期中期末\n",
    "\n",
    "2. 将df的行和列换位置（标题层级关系不能变）\n",
    "\n",
    "============================================"
   ]
  },
  {
   "cell_type": "code",
   "execution_count": 76,
   "metadata": {},
   "outputs": [
    {
     "data": {
      "text/html": [
       "<div>\n",
       "<style scoped>\n",
       "    .dataframe tbody tr th:only-of-type {\n",
       "        vertical-align: middle;\n",
       "    }\n",
       "\n",
       "    .dataframe tbody tr th {\n",
       "        vertical-align: top;\n",
       "    }\n",
       "\n",
       "    .dataframe thead tr th {\n",
       "        text-align: left;\n",
       "    }\n",
       "</style>\n",
       "<table border=\"1\" class=\"dataframe\">\n",
       "  <thead>\n",
       "    <tr>\n",
       "      <th></th>\n",
       "      <th colspan=\"4\" halign=\"left\">期中</th>\n",
       "      <th colspan=\"4\" halign=\"left\">期末</th>\n",
       "    </tr>\n",
       "    <tr>\n",
       "      <th></th>\n",
       "      <th colspan=\"2\" halign=\"left\">一模</th>\n",
       "      <th colspan=\"2\" halign=\"left\">二模</th>\n",
       "      <th colspan=\"2\" halign=\"left\">一模</th>\n",
       "      <th colspan=\"2\" halign=\"left\">二模</th>\n",
       "    </tr>\n",
       "    <tr>\n",
       "      <th></th>\n",
       "      <th>语文</th>\n",
       "      <th>英语</th>\n",
       "      <th>语文</th>\n",
       "      <th>英语</th>\n",
       "      <th>语文</th>\n",
       "      <th>英语</th>\n",
       "      <th>语文</th>\n",
       "      <th>英语</th>\n",
       "    </tr>\n",
       "  </thead>\n",
       "  <tbody>\n",
       "    <tr>\n",
       "      <th>rose</th>\n",
       "      <td>27</td>\n",
       "      <td>102</td>\n",
       "      <td>24</td>\n",
       "      <td>95</td>\n",
       "      <td>24</td>\n",
       "      <td>129</td>\n",
       "      <td>34</td>\n",
       "      <td>39</td>\n",
       "    </tr>\n",
       "    <tr>\n",
       "      <th>jack</th>\n",
       "      <td>137</td>\n",
       "      <td>117</td>\n",
       "      <td>102</td>\n",
       "      <td>52</td>\n",
       "      <td>121</td>\n",
       "      <td>122</td>\n",
       "      <td>19</td>\n",
       "      <td>59</td>\n",
       "    </tr>\n",
       "  </tbody>\n",
       "</table>\n",
       "</div>"
      ],
      "text/plain": [
       "       期中                 期末             \n",
       "       一模        二模       一模       二模    \n",
       "       语文   英语   语文  英语   语文   英语  语文  英语\n",
       "rose   27  102   24  95   24  129  34  39\n",
       "jack  137  117  102  52  121  122  19  59"
      ]
     },
     "execution_count": 76,
     "metadata": {},
     "output_type": "execute_result"
    }
   ],
   "source": [
    "df"
   ]
  },
  {
   "cell_type": "code",
   "execution_count": 80,
   "metadata": {
    "collapsed": true
   },
   "outputs": [
    {
     "data": {
      "text/html": [
       "<div>\n",
       "<style scoped>\n",
       "    .dataframe tbody tr th:only-of-type {\n",
       "        vertical-align: middle;\n",
       "    }\n",
       "\n",
       "    .dataframe tbody tr th {\n",
       "        vertical-align: top;\n",
       "    }\n",
       "\n",
       "    .dataframe thead tr th {\n",
       "        text-align: left;\n",
       "    }\n",
       "</style>\n",
       "<table border=\"1\" class=\"dataframe\">\n",
       "  <thead>\n",
       "    <tr>\n",
       "      <th></th>\n",
       "      <th colspan=\"4\" halign=\"left\">一模</th>\n",
       "      <th colspan=\"4\" halign=\"left\">二模</th>\n",
       "    </tr>\n",
       "    <tr>\n",
       "      <th></th>\n",
       "      <th colspan=\"2\" halign=\"left\">英语</th>\n",
       "      <th colspan=\"2\" halign=\"left\">语文</th>\n",
       "      <th colspan=\"2\" halign=\"left\">英语</th>\n",
       "      <th colspan=\"2\" halign=\"left\">语文</th>\n",
       "    </tr>\n",
       "    <tr>\n",
       "      <th></th>\n",
       "      <th>rose</th>\n",
       "      <th>jack</th>\n",
       "      <th>rose</th>\n",
       "      <th>jack</th>\n",
       "      <th>rose</th>\n",
       "      <th>jack</th>\n",
       "      <th>rose</th>\n",
       "      <th>jack</th>\n",
       "    </tr>\n",
       "  </thead>\n",
       "  <tbody>\n",
       "    <tr>\n",
       "      <th>期中</th>\n",
       "      <td>102</td>\n",
       "      <td>117</td>\n",
       "      <td>27</td>\n",
       "      <td>137</td>\n",
       "      <td>95</td>\n",
       "      <td>52</td>\n",
       "      <td>24</td>\n",
       "      <td>102</td>\n",
       "    </tr>\n",
       "    <tr>\n",
       "      <th>期末</th>\n",
       "      <td>129</td>\n",
       "      <td>122</td>\n",
       "      <td>24</td>\n",
       "      <td>121</td>\n",
       "      <td>39</td>\n",
       "      <td>59</td>\n",
       "      <td>34</td>\n",
       "      <td>19</td>\n",
       "    </tr>\n",
       "  </tbody>\n",
       "</table>\n",
       "</div>"
      ],
      "text/plain": [
       "     一模                  二模               \n",
       "     英语        语文        英语        语文     \n",
       "   rose jack rose jack rose jack rose jack\n",
       "期中  102  117   27  137   95   52   24  102\n",
       "期末  129  122   24  121   39   59   34   19"
      ]
     },
     "execution_count": 80,
     "metadata": {},
     "output_type": "execute_result"
    }
   ],
   "source": [
    "df.stack(level=0).unstack(level=0)"
   ]
  },
  {
   "cell_type": "code",
   "execution_count": 91,
   "metadata": {},
   "outputs": [
    {
     "data": {
      "text/html": [
       "<div>\n",
       "<style scoped>\n",
       "    .dataframe tbody tr th:only-of-type {\n",
       "        vertical-align: middle;\n",
       "    }\n",
       "\n",
       "    .dataframe tbody tr th {\n",
       "        vertical-align: top;\n",
       "    }\n",
       "\n",
       "    .dataframe thead th {\n",
       "        text-align: right;\n",
       "    }\n",
       "</style>\n",
       "<table border=\"1\" class=\"dataframe\">\n",
       "  <thead>\n",
       "    <tr style=\"text-align: right;\">\n",
       "      <th></th>\n",
       "      <th></th>\n",
       "      <th></th>\n",
       "      <th>jack</th>\n",
       "      <th>rose</th>\n",
       "    </tr>\n",
       "  </thead>\n",
       "  <tbody>\n",
       "    <tr>\n",
       "      <th rowspan=\"4\" valign=\"top\">期中</th>\n",
       "      <th rowspan=\"2\" valign=\"top\">一模</th>\n",
       "      <th>英语</th>\n",
       "      <td>117</td>\n",
       "      <td>102</td>\n",
       "    </tr>\n",
       "    <tr>\n",
       "      <th>语文</th>\n",
       "      <td>137</td>\n",
       "      <td>27</td>\n",
       "    </tr>\n",
       "    <tr>\n",
       "      <th rowspan=\"2\" valign=\"top\">二模</th>\n",
       "      <th>英语</th>\n",
       "      <td>52</td>\n",
       "      <td>95</td>\n",
       "    </tr>\n",
       "    <tr>\n",
       "      <th>语文</th>\n",
       "      <td>102</td>\n",
       "      <td>24</td>\n",
       "    </tr>\n",
       "    <tr>\n",
       "      <th rowspan=\"4\" valign=\"top\">期末</th>\n",
       "      <th rowspan=\"2\" valign=\"top\">一模</th>\n",
       "      <th>英语</th>\n",
       "      <td>122</td>\n",
       "      <td>129</td>\n",
       "    </tr>\n",
       "    <tr>\n",
       "      <th>语文</th>\n",
       "      <td>121</td>\n",
       "      <td>24</td>\n",
       "    </tr>\n",
       "    <tr>\n",
       "      <th rowspan=\"2\" valign=\"top\">二模</th>\n",
       "      <th>英语</th>\n",
       "      <td>59</td>\n",
       "      <td>39</td>\n",
       "    </tr>\n",
       "    <tr>\n",
       "      <th>语文</th>\n",
       "      <td>19</td>\n",
       "      <td>34</td>\n",
       "    </tr>\n",
       "  </tbody>\n",
       "</table>\n",
       "</div>"
      ],
      "text/plain": [
       "          jack  rose\n",
       "期中 一模 英语   117   102\n",
       "      语文   137    27\n",
       "   二模 英语    52    95\n",
       "      语文   102    24\n",
       "期末 一模 英语   122   129\n",
       "      语文   121    24\n",
       "   二模 英语    59    39\n",
       "      语文    19    34"
      ]
     },
     "execution_count": 91,
     "metadata": {},
     "output_type": "execute_result"
    }
   ],
   "source": [
    "df.stack(level=0).unstack(level=0).stack(level=0).stack(level=0)"
   ]
  },
  {
   "cell_type": "code",
   "execution_count": null,
   "metadata": {},
   "outputs": [],
   "source": []
  },
  {
   "cell_type": "markdown",
   "metadata": {
    "collapsed": true
   },
   "source": [
    "## 2. 聚合操作"
   ]
  },
  {
   "cell_type": "markdown",
   "metadata": {
    "collapsed": true
   },
   "source": [
    "【注意】\n",
    "\n",
    "- 需要指定axis\n",
    "\n",
    "- 【小技巧】和unstack()相反，聚合的时候，axis等于哪一个，哪一个就保留。"
   ]
  },
  {
   "cell_type": "markdown",
   "metadata": {},
   "source": [
    "所谓的聚合操作：最大值，最小值，平均数……"
   ]
  },
  {
   "cell_type": "code",
   "execution_count": null,
   "metadata": {},
   "outputs": [],
   "source": [
    "回忆一下ndarray的聚合\n",
    "sum nansum\n",
    "min\n",
    "max\n",
    "mean\n",
    "argmin\n",
    "argmax\n"
   ]
  },
  {
   "cell_type": "code",
   "execution_count": 92,
   "metadata": {},
   "outputs": [
    {
     "data": {
      "text/html": [
       "<div>\n",
       "<style scoped>\n",
       "    .dataframe tbody tr th:only-of-type {\n",
       "        vertical-align: middle;\n",
       "    }\n",
       "\n",
       "    .dataframe tbody tr th {\n",
       "        vertical-align: top;\n",
       "    }\n",
       "\n",
       "    .dataframe thead th {\n",
       "        text-align: right;\n",
       "    }\n",
       "</style>\n",
       "<table border=\"1\" class=\"dataframe\">\n",
       "  <thead>\n",
       "    <tr style=\"text-align: right;\">\n",
       "      <th></th>\n",
       "      <th>A</th>\n",
       "      <th>B</th>\n",
       "      <th>C</th>\n",
       "      <th>D</th>\n",
       "      <th>E</th>\n",
       "    </tr>\n",
       "  </thead>\n",
       "  <tbody>\n",
       "    <tr>\n",
       "      <th>0</th>\n",
       "      <td>0</td>\n",
       "      <td>2</td>\n",
       "      <td>3</td>\n",
       "      <td>3</td>\n",
       "      <td>3</td>\n",
       "    </tr>\n",
       "    <tr>\n",
       "      <th>1</th>\n",
       "      <td>2</td>\n",
       "      <td>4</td>\n",
       "      <td>3</td>\n",
       "      <td>3</td>\n",
       "      <td>2</td>\n",
       "    </tr>\n",
       "    <tr>\n",
       "      <th>2</th>\n",
       "      <td>0</td>\n",
       "      <td>1</td>\n",
       "      <td>2</td>\n",
       "      <td>4</td>\n",
       "      <td>4</td>\n",
       "    </tr>\n",
       "    <tr>\n",
       "      <th>3</th>\n",
       "      <td>1</td>\n",
       "      <td>1</td>\n",
       "      <td>3</td>\n",
       "      <td>3</td>\n",
       "      <td>3</td>\n",
       "    </tr>\n",
       "    <tr>\n",
       "      <th>4</th>\n",
       "      <td>4</td>\n",
       "      <td>3</td>\n",
       "      <td>4</td>\n",
       "      <td>4</td>\n",
       "      <td>3</td>\n",
       "    </tr>\n",
       "  </tbody>\n",
       "</table>\n",
       "</div>"
      ],
      "text/plain": [
       "   A  B  C  D  E\n",
       "0  0  2  3  3  3\n",
       "1  2  4  3  3  2\n",
       "2  0  1  2  4  4\n",
       "3  1  1  3  3  3\n",
       "4  4  3  4  4  3"
      ]
     },
     "execution_count": 92,
     "metadata": {},
     "output_type": "execute_result"
    }
   ],
   "source": [
    "data = np.random.randint(0,5,size=(5,5))\n",
    "columns = list('ABCDE')\n",
    "df = DataFrame(data=data,columns=columns)\n",
    "df"
   ]
  },
  {
   "cell_type": "code",
   "execution_count": 99,
   "metadata": {},
   "outputs": [
    {
     "data": {
      "text/plain": [
       "A    1.4\n",
       "B    2.2\n",
       "C    3.0\n",
       "D    3.4\n",
       "E    3.0\n",
       "dtype: float64"
      ]
     },
     "execution_count": 99,
     "metadata": {},
     "output_type": "execute_result"
    }
   ],
   "source": [
    "df.sum() # 默认是对 列进行聚合\n",
    "# 如果想对 行进行聚合操作 可以调整 axis\n",
    "df.sum(axis=0) # axis 默认值是0 是对列做加和\n",
    "df.sum(axis=1)\n",
    "df.max() \n",
    "df.min()\n",
    "# df.argmax()\n",
    "df.mean()\n",
    "# 这些聚合操作都可以通过设置axis来切换方向"
   ]
  },
  {
   "cell_type": "markdown",
   "metadata": {
    "collapsed": true
   },
   "source": [
    "============================================\n",
    "\n",
    "练习11：\n",
    "\n",
    "1. 计算期中期末各个科目平均成绩\n",
    "\n",
    "2. 计算各科目张三李四的最高分\n",
    "\n",
    "============================================"
   ]
  },
  {
   "cell_type": "code",
   "execution_count": 101,
   "metadata": {},
   "outputs": [
    {
     "data": {
      "text/html": [
       "<div>\n",
       "<style scoped>\n",
       "    .dataframe tbody tr th:only-of-type {\n",
       "        vertical-align: middle;\n",
       "    }\n",
       "\n",
       "    .dataframe tbody tr th {\n",
       "        vertical-align: top;\n",
       "    }\n",
       "\n",
       "    .dataframe thead tr th {\n",
       "        text-align: left;\n",
       "    }\n",
       "</style>\n",
       "<table border=\"1\" class=\"dataframe\">\n",
       "  <thead>\n",
       "    <tr>\n",
       "      <th></th>\n",
       "      <th colspan=\"3\" halign=\"left\">期中</th>\n",
       "      <th colspan=\"3\" halign=\"left\">期末</th>\n",
       "    </tr>\n",
       "    <tr>\n",
       "      <th></th>\n",
       "      <th>python</th>\n",
       "      <th>php</th>\n",
       "      <th>java</th>\n",
       "      <th>python</th>\n",
       "      <th>php</th>\n",
       "      <th>java</th>\n",
       "    </tr>\n",
       "  </thead>\n",
       "  <tbody>\n",
       "    <tr>\n",
       "      <th>张三</th>\n",
       "      <td>35</td>\n",
       "      <td>118</td>\n",
       "      <td>96</td>\n",
       "      <td>22</td>\n",
       "      <td>9</td>\n",
       "      <td>84</td>\n",
       "    </tr>\n",
       "    <tr>\n",
       "      <th>李四</th>\n",
       "      <td>69</td>\n",
       "      <td>85</td>\n",
       "      <td>22</td>\n",
       "      <td>17</td>\n",
       "      <td>36</td>\n",
       "      <td>50</td>\n",
       "    </tr>\n",
       "  </tbody>\n",
       "</table>\n",
       "</div>"
      ],
      "text/plain": [
       "       期中               期末         \n",
       "   python  php java python php java\n",
       "张三     35  118   96     22   9   84\n",
       "李四     69   85   22     17  36   50"
      ]
     },
     "execution_count": 101,
     "metadata": {},
     "output_type": "execute_result"
    }
   ],
   "source": [
    "index = ['张三','李四']\n",
    "columns = pd.MultiIndex.from_product([['期中','期末'],['python','php','java']])\n",
    "data = np.random.randint(0,150,size=(2,6))\n",
    "score = DataFrame(data=data,index=index,columns=columns)\n",
    "score"
   ]
  },
  {
   "cell_type": "code",
   "execution_count": 103,
   "metadata": {
    "collapsed": true
   },
   "outputs": [
    {
     "data": {
      "text/plain": [
       "期中  python     52.0\n",
       "    php       101.5\n",
       "    java       59.0\n",
       "期末  python     19.5\n",
       "    php        22.5\n",
       "    java       67.0\n",
       "dtype: float64"
      ]
     },
     "execution_count": 103,
     "metadata": {},
     "output_type": "execute_result"
    }
   ],
   "source": [
    "score.mean()"
   ]
  },
  {
   "cell_type": "code",
   "execution_count": 105,
   "metadata": {},
   "outputs": [
    {
     "data": {
      "text/plain": [
       "张三    118\n",
       "李四     85\n",
       "dtype: int32"
      ]
     },
     "execution_count": 105,
     "metadata": {},
     "output_type": "execute_result"
    }
   ],
   "source": [
    "score.max()\n",
    "score.max(axis=1)"
   ]
  },
  {
   "cell_type": "code",
   "execution_count": null,
   "metadata": {},
   "outputs": [],
   "source": []
  },
  {
   "cell_type": "code",
   "execution_count": null,
   "metadata": {},
   "outputs": [],
   "source": []
  }
 ],
 "metadata": {
  "kernelspec": {
   "display_name": "Python 3",
   "language": "python",
   "name": "python3"
  },
  "language_info": {
   "codemirror_mode": {
    "name": "ipython",
    "version": 3
   },
   "file_extension": ".py",
   "mimetype": "text/x-python",
   "name": "python",
   "nbconvert_exporter": "python",
   "pygments_lexer": "ipython3",
   "version": "3.6.5"
  }
 },
 "nbformat": 4,
 "nbformat_minor": 2
}
