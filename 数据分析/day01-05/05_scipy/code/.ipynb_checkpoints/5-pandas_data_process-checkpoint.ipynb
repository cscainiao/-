{
 "cells": [
  {
   "cell_type": "markdown",
   "metadata": {},
   "source": [
    "# pandas数据处理"
   ]
  },
  {
   "cell_type": "markdown",
   "metadata": {},
   "source": [
    "## 1、删除重复元素"
   ]
  },
  {
   "cell_type": "markdown",
   "metadata": {},
   "source": [
    "使用duplicated()函数检测重复的行，返回元素为布尔类型的Series对象，每个元素对应一行，如果该行不是第一次出现，则元素为True（是重复的）"
   ]
  },
  {
   "cell_type": "markdown",
   "metadata": {},
   "source": [
    "- 使用drop_duplicates()函数删除重复的行\n",
    "\n",
    "- 使用duplicate()函数查看重复的行"
   ]
  },
  {
   "cell_type": "code",
   "execution_count": 241,
   "metadata": {},
   "outputs": [],
   "source": [
    "import numpy as np\n",
    "import pandas as pd\n",
    "from pandas import Series,DataFrame"
   ]
  },
  {
   "cell_type": "code",
   "execution_count": 22,
   "metadata": {
    "collapsed": true
   },
   "outputs": [
    {
     "data": {
      "text/html": [
       "<div>\n",
       "<style scoped>\n",
       "    .dataframe tbody tr th:only-of-type {\n",
       "        vertical-align: middle;\n",
       "    }\n",
       "\n",
       "    .dataframe tbody tr th {\n",
       "        vertical-align: top;\n",
       "    }\n",
       "\n",
       "    .dataframe thead th {\n",
       "        text-align: right;\n",
       "    }\n",
       "</style>\n",
       "<table border=\"1\" class=\"dataframe\">\n",
       "  <thead>\n",
       "    <tr style=\"text-align: right;\">\n",
       "      <th></th>\n",
       "      <th>python</th>\n",
       "      <th>c++</th>\n",
       "      <th>java</th>\n",
       "    </tr>\n",
       "  </thead>\n",
       "  <tbody>\n",
       "    <tr>\n",
       "      <th>A</th>\n",
       "      <td>100</td>\n",
       "      <td>100</td>\n",
       "      <td>100</td>\n",
       "    </tr>\n",
       "    <tr>\n",
       "      <th>B</th>\n",
       "      <td>90</td>\n",
       "      <td>90</td>\n",
       "      <td>88</td>\n",
       "    </tr>\n",
       "    <tr>\n",
       "      <th>C</th>\n",
       "      <td>100</td>\n",
       "      <td>100</td>\n",
       "      <td>100</td>\n",
       "    </tr>\n",
       "    <tr>\n",
       "      <th>D</th>\n",
       "      <td>90</td>\n",
       "      <td>99</td>\n",
       "      <td>87</td>\n",
       "    </tr>\n",
       "    <tr>\n",
       "      <th>E</th>\n",
       "      <td>100</td>\n",
       "      <td>100</td>\n",
       "      <td>100</td>\n",
       "    </tr>\n",
       "  </tbody>\n",
       "</table>\n",
       "</div>"
      ],
      "text/plain": [
       "   python  c++  java\n",
       "A     100  100   100\n",
       "B      90   90    88\n",
       "C     100  100   100\n",
       "D      90   99    87\n",
       "E     100  100   100"
      ]
     },
     "execution_count": 22,
     "metadata": {},
     "output_type": "execute_result"
    }
   ],
   "source": [
    "# 示例数据 不要删!!!!!!!!!!!\n",
    "data = [[100,100,100],[90,90,88],[100,100,100],[90,99,87],[100,100,100]]\n",
    "columns = ['python','c++','java']\n",
    "index = list('ABCDE')\n",
    "df = DataFrame(data=data,index=index,columns=columns)\n",
    "df"
   ]
  },
  {
   "cell_type": "code",
   "execution_count": 23,
   "metadata": {
    "collapsed": true
   },
   "outputs": [
    {
     "data": {
      "text/plain": [
       "A    False\n",
       "B    False\n",
       "C     True\n",
       "D    False\n",
       "E     True\n",
       "dtype: bool"
      ]
     },
     "execution_count": 23,
     "metadata": {},
     "output_type": "execute_result"
    }
   ],
   "source": []
  },
  {
   "cell_type": "code",
   "execution_count": 26,
   "metadata": {
    "collapsed": true
   },
   "outputs": [
    {
     "data": {
      "text/plain": [
       "A     True\n",
       "B    False\n",
       "C     True\n",
       "D    False\n",
       "E    False\n",
       "dtype: bool"
      ]
     },
     "execution_count": 26,
     "metadata": {},
     "output_type": "execute_result"
    }
   ],
   "source": []
  },
  {
   "cell_type": "code",
   "execution_count": 27,
   "metadata": {
    "collapsed": true
   },
   "outputs": [
    {
     "data": {
      "text/html": [
       "<div>\n",
       "<style scoped>\n",
       "    .dataframe tbody tr th:only-of-type {\n",
       "        vertical-align: middle;\n",
       "    }\n",
       "\n",
       "    .dataframe tbody tr th {\n",
       "        vertical-align: top;\n",
       "    }\n",
       "\n",
       "    .dataframe thead th {\n",
       "        text-align: right;\n",
       "    }\n",
       "</style>\n",
       "<table border=\"1\" class=\"dataframe\">\n",
       "  <thead>\n",
       "    <tr style=\"text-align: right;\">\n",
       "      <th></th>\n",
       "      <th>python</th>\n",
       "      <th>c++</th>\n",
       "      <th>java</th>\n",
       "    </tr>\n",
       "  </thead>\n",
       "  <tbody>\n",
       "    <tr>\n",
       "      <th>B</th>\n",
       "      <td>90</td>\n",
       "      <td>90</td>\n",
       "      <td>88</td>\n",
       "    </tr>\n",
       "    <tr>\n",
       "      <th>D</th>\n",
       "      <td>90</td>\n",
       "      <td>99</td>\n",
       "      <td>87</td>\n",
       "    </tr>\n",
       "    <tr>\n",
       "      <th>E</th>\n",
       "      <td>100</td>\n",
       "      <td>100</td>\n",
       "      <td>100</td>\n",
       "    </tr>\n",
       "  </tbody>\n",
       "</table>\n",
       "</div>"
      ],
      "text/plain": [
       "   python  c++  java\n",
       "B      90   90    88\n",
       "D      90   99    87\n",
       "E     100  100   100"
      ]
     },
     "execution_count": 27,
     "metadata": {},
     "output_type": "execute_result"
    }
   ],
   "source": []
  },
  {
   "cell_type": "code",
   "execution_count": null,
   "metadata": {},
   "outputs": [],
   "source": []
  },
  {
   "cell_type": "markdown",
   "metadata": {},
   "source": [
    "## 2. 映射"
   ]
  },
  {
   "cell_type": "markdown",
   "metadata": {},
   "source": [
    "映射的含义：创建一个映射关系列表，把values元素和一个特定的标签或者字符串绑定\n",
    "\n",
    "包含三种操作：\n",
    "\n",
    "- replace()函数：替换元素\n",
    "- 最重要：map()函数：新建一列\n",
    "- rename()函数：替换索引"
   ]
  },
  {
   "cell_type": "markdown",
   "metadata": {},
   "source": [
    "### 1) replace()函数：替换元素"
   ]
  },
  {
   "cell_type": "markdown",
   "metadata": {},
   "source": [
    "使用replace()函数，对values进行替换操作"
   ]
  },
  {
   "cell_type": "markdown",
   "metadata": {},
   "source": [
    "#### Series替换操作\n",
    "\n",
    "- 单值替换\n",
    "    - 普通替换\n",
    "    - 字典替换(推荐）\n",
    "- 多值替换\n",
    "    - 列表替换\n",
    "    - 字典替换（推荐）"
   ]
  },
  {
   "cell_type": "code",
   "execution_count": 29,
   "metadata": {
    "collapsed": true
   },
   "outputs": [
    {
     "data": {
      "text/plain": [
       "0        100\n",
       "1      peppa\n",
       "2        NaN\n",
       "3    chengdu\n",
       "dtype: object"
      ]
     },
     "execution_count": 29,
     "metadata": {},
     "output_type": "execute_result"
    }
   ],
   "source": [
    "s1 = Series(data = [100,'peppa',np.nan,'chengdu'])\n",
    "s1"
   ]
  },
  {
   "cell_type": "code",
   "execution_count": 32,
   "metadata": {
    "collapsed": true
   },
   "outputs": [
    {
     "data": {
      "text/plain": [
       "0        100\n",
       "1         佩琪\n",
       "2        NaN\n",
       "3    chengdu\n",
       "dtype: object"
      ]
     },
     "execution_count": 32,
     "metadata": {},
     "output_type": "execute_result"
    }
   ],
   "source": [
    "# 普通替换\n",
    "# to_replace 要替换的 valeu 替换成的值\n",
    "s1.replace(to_replace='peppa',value='佩琪')"
   ]
  },
  {
   "cell_type": "code",
   "execution_count": 34,
   "metadata": {
    "collapsed": true
   },
   "outputs": [
    {
     "data": {
      "text/plain": [
       "0      100\n",
       "1    peppa\n",
       "2      NaN\n",
       "3       成都\n",
       "dtype: object"
      ]
     },
     "execution_count": 34,
     "metadata": {},
     "output_type": "execute_result"
    }
   ],
   "source": [
    "# 字典替换（推荐）\n",
    "# 字典的键相当于to_replace\n",
    "# 字典的值相当于value\n",
    "s1.replace({'chengdu':'成都'})"
   ]
  },
  {
   "cell_type": "code",
   "execution_count": 35,
   "metadata": {
    "collapsed": true
   },
   "outputs": [
    {
     "data": {
      "text/plain": [
       "0         99\n",
       "1      peppa\n",
       "2         空值\n",
       "3    chengdu\n",
       "dtype: object"
      ]
     },
     "execution_count": 35,
     "metadata": {},
     "output_type": "execute_result"
    }
   ],
   "source": [
    "# 列表替换\n",
    "# replace([要替换的1，要替换的2...],[替换成1，替换成2])\n",
    "s1.replace([100,np.nan],[99,'空值'])"
   ]
  },
  {
   "cell_type": "code",
   "execution_count": 36,
   "metadata": {
    "collapsed": true
   },
   "outputs": [
    {
     "data": {
      "text/plain": [
       "0       满分\n",
       "1    peppa\n",
       "2      未知数\n",
       "3       成都\n",
       "dtype: object"
      ]
     },
     "execution_count": 36,
     "metadata": {},
     "output_type": "execute_result"
    }
   ],
   "source": [
    "# 字典替换\n",
    "# replace({要替换的1：替换成的值1，要替换的2：替换成的值2，...})\n",
    "s1.replace({100:'满分',np.nan:'未知数','chengdu':'成都'})"
   ]
  },
  {
   "cell_type": "code",
   "execution_count": 38,
   "metadata": {
    "collapsed": true
   },
   "outputs": [
    {
     "data": {
      "text/plain": [
       "0         满分\n",
       "1      peppa\n",
       "2        NaN\n",
       "3    chengdu\n",
       "dtype: object"
      ]
     },
     "execution_count": 38,
     "metadata": {},
     "output_type": "execute_result"
    }
   ],
   "source": [
    "s1.replace({100:\"满分\",99:\"挨揍\"}) #没有99就不替换了 不会报错\n",
    "# 可以写一个包含很多意向替换信息的键值对，来达到过滤数据的目的"
   ]
  },
  {
   "cell_type": "markdown",
   "metadata": {
    "collapsed": true
   },
   "source": [
    "Series参数说明：\n",
    "\n",
    "- method：对指定的值使用相邻的值填充\n",
    "- limit：设定填充次数"
   ]
  },
  {
   "cell_type": "code",
   "execution_count": 39,
   "metadata": {
    "collapsed": true
   },
   "outputs": [
    {
     "data": {
      "text/plain": [
       "0    100\n",
       "1    100\n",
       "2    100\n",
       "3     89\n",
       "4     78\n",
       "dtype: int32"
      ]
     },
     "execution_count": 39,
     "metadata": {},
     "output_type": "execute_result"
    }
   ],
   "source": [
    "s2 = Series(data=np.array([100,100,100,89,78]))\n",
    "s2"
   ]
  },
  {
   "cell_type": "code",
   "execution_count": 42,
   "metadata": {
    "collapsed": true
   },
   "outputs": [
    {
     "data": {
      "text/plain": [
       "0    100\n",
       "1    100\n",
       "2     89\n",
       "3     89\n",
       "4     78\n",
       "dtype: int32"
      ]
     },
     "execution_count": 42,
     "metadata": {},
     "output_type": "execute_result"
    }
   ],
   "source": [
    "# 不能使用value\n",
    "s2.replace(to_replace=100,method='bfill') # bfill从后面找值来替换 ffill从前面找值来替换\n",
    "s2.replace(to_replace=100,method='bfill',limit=1) # limit = 1 往后找一个（找不到就不替换了）  limit默认是None"
   ]
  },
  {
   "cell_type": "markdown",
   "metadata": {},
   "source": [
    "#### DataFrame替换操作\n",
    "\n",
    "- 单值替换\n",
    "    - 普通替换\n",
    "    - 按列指定单值替换{列标签：目标值}\n",
    "    \n",
    "    \n",
    "- 多值替换\n",
    "    - 列表替换\n",
    "    - 单字典替换（推荐）"
   ]
  },
  {
   "cell_type": "code",
   "execution_count": 72,
   "metadata": {
    "scrolled": true
   },
   "outputs": [
    {
     "data": {
      "text/html": [
       "<div>\n",
       "<style scoped>\n",
       "    .dataframe tbody tr th:only-of-type {\n",
       "        vertical-align: middle;\n",
       "    }\n",
       "\n",
       "    .dataframe tbody tr th {\n",
       "        vertical-align: top;\n",
       "    }\n",
       "\n",
       "    .dataframe thead th {\n",
       "        text-align: right;\n",
       "    }\n",
       "</style>\n",
       "<table border=\"1\" class=\"dataframe\">\n",
       "  <thead>\n",
       "    <tr style=\"text-align: right;\">\n",
       "      <th></th>\n",
       "      <th>0</th>\n",
       "      <th>1</th>\n",
       "      <th>2</th>\n",
       "      <th>3</th>\n",
       "      <th>4</th>\n",
       "    </tr>\n",
       "  </thead>\n",
       "  <tbody>\n",
       "    <tr>\n",
       "      <th>A</th>\n",
       "      <td>甲</td>\n",
       "      <td>NaN</td>\n",
       "      <td>NaN</td>\n",
       "      <td>NaN</td>\n",
       "      <td>Beijing</td>\n",
       "    </tr>\n",
       "    <tr>\n",
       "      <th>B</th>\n",
       "      <td>乙</td>\n",
       "      <td>69.0</td>\n",
       "      <td>142.0</td>\n",
       "      <td>29</td>\n",
       "      <td>Beijing</td>\n",
       "    </tr>\n",
       "    <tr>\n",
       "      <th>C</th>\n",
       "      <td>丙</td>\n",
       "      <td>111.0</td>\n",
       "      <td>7.0</td>\n",
       "      <td>2</td>\n",
       "      <td>Beijing</td>\n",
       "    </tr>\n",
       "    <tr>\n",
       "      <th>D</th>\n",
       "      <td>丁</td>\n",
       "      <td>139.0</td>\n",
       "      <td>19.0</td>\n",
       "      <td>125</td>\n",
       "      <td>shanghai</td>\n",
       "    </tr>\n",
       "    <tr>\n",
       "      <th>E</th>\n",
       "      <td>戊</td>\n",
       "      <td>12.0</td>\n",
       "      <td>66.0</td>\n",
       "      <td>北京</td>\n",
       "      <td>shanghai</td>\n",
       "    </tr>\n",
       "  </tbody>\n",
       "</table>\n",
       "</div>"
      ],
      "text/plain": [
       "   0      1      2    3         4\n",
       "A  甲    NaN    NaN  NaN   Beijing\n",
       "B  乙   69.0  142.0   29   Beijing\n",
       "C  丙  111.0    7.0    2   Beijing\n",
       "D  丁  139.0   19.0  125  shanghai\n",
       "E  戊   12.0   66.0   北京  shanghai"
      ]
     },
     "execution_count": 72,
     "metadata": {},
     "output_type": "execute_result"
    }
   ],
   "source": [
    "df = pd.read_excel(\"../data/data.xls\",sheet_name=0)\n",
    "df"
   ]
  },
  {
   "cell_type": "code",
   "execution_count": 77,
   "metadata": {},
   "outputs": [
    {
     "data": {
      "text/html": [
       "<div>\n",
       "<style scoped>\n",
       "    .dataframe tbody tr th:only-of-type {\n",
       "        vertical-align: middle;\n",
       "    }\n",
       "\n",
       "    .dataframe tbody tr th {\n",
       "        vertical-align: top;\n",
       "    }\n",
       "\n",
       "    .dataframe thead th {\n",
       "        text-align: right;\n",
       "    }\n",
       "</style>\n",
       "<table border=\"1\" class=\"dataframe\">\n",
       "  <thead>\n",
       "    <tr style=\"text-align: right;\">\n",
       "      <th></th>\n",
       "      <th>0</th>\n",
       "      <th>1</th>\n",
       "      <th>2</th>\n",
       "      <th>3</th>\n",
       "      <th>4</th>\n",
       "    </tr>\n",
       "  </thead>\n",
       "  <tbody>\n",
       "    <tr>\n",
       "      <th>A</th>\n",
       "      <td>甲</td>\n",
       "      <td>NaN</td>\n",
       "      <td>NaN</td>\n",
       "      <td>NaN</td>\n",
       "      <td>Beijing</td>\n",
       "    </tr>\n",
       "    <tr>\n",
       "      <th>B</th>\n",
       "      <td>乙</td>\n",
       "      <td>69.0</td>\n",
       "      <td>142.0</td>\n",
       "      <td>29</td>\n",
       "      <td>Beijing</td>\n",
       "    </tr>\n",
       "    <tr>\n",
       "      <th>C</th>\n",
       "      <td>丙</td>\n",
       "      <td>111.0</td>\n",
       "      <td>7.0</td>\n",
       "      <td>2</td>\n",
       "      <td>Beijing</td>\n",
       "    </tr>\n",
       "    <tr>\n",
       "      <th>D</th>\n",
       "      <td>丁</td>\n",
       "      <td>139.0</td>\n",
       "      <td>19.0</td>\n",
       "      <td>125</td>\n",
       "      <td>shanghai</td>\n",
       "    </tr>\n",
       "    <tr>\n",
       "      <th>E</th>\n",
       "      <td>戊</td>\n",
       "      <td>12.0</td>\n",
       "      <td>66.0</td>\n",
       "      <td>北京</td>\n",
       "      <td>shanghai</td>\n",
       "    </tr>\n",
       "  </tbody>\n",
       "</table>\n",
       "</div>"
      ],
      "text/plain": [
       "   0      1      2    3         4\n",
       "A  甲    NaN    NaN  NaN   Beijing\n",
       "B  乙   69.0  142.0   29   Beijing\n",
       "C  丙  111.0    7.0    2   Beijing\n",
       "D  丁  139.0   19.0  125  shanghai\n",
       "E  戊   12.0   66.0   北京  shanghai"
      ]
     },
     "execution_count": 77,
     "metadata": {},
     "output_type": "execute_result"
    }
   ],
   "source": [
    "# 普通的单值替换\n",
    "df.replace(to_replace='beijing',value='北京')"
   ]
  },
  {
   "cell_type": "code",
   "execution_count": 51,
   "metadata": {},
   "outputs": [
    {
     "data": {
      "text/html": [
       "<div>\n",
       "<style scoped>\n",
       "    .dataframe tbody tr th:only-of-type {\n",
       "        vertical-align: middle;\n",
       "    }\n",
       "\n",
       "    .dataframe tbody tr th {\n",
       "        vertical-align: top;\n",
       "    }\n",
       "\n",
       "    .dataframe thead th {\n",
       "        text-align: right;\n",
       "    }\n",
       "</style>\n",
       "<table border=\"1\" class=\"dataframe\">\n",
       "  <thead>\n",
       "    <tr style=\"text-align: right;\">\n",
       "      <th></th>\n",
       "      <th>0</th>\n",
       "      <th>1</th>\n",
       "      <th>2</th>\n",
       "      <th>3</th>\n",
       "      <th>4</th>\n",
       "    </tr>\n",
       "  </thead>\n",
       "  <tbody>\n",
       "    <tr>\n",
       "      <th>A</th>\n",
       "      <td>甲</td>\n",
       "      <td>NaN</td>\n",
       "      <td>NaN</td>\n",
       "      <td>NaN</td>\n",
       "      <td>beijing</td>\n",
       "    </tr>\n",
       "    <tr>\n",
       "      <th>B</th>\n",
       "      <td>乙</td>\n",
       "      <td>69.0</td>\n",
       "      <td>142.0</td>\n",
       "      <td>29</td>\n",
       "      <td>beijing</td>\n",
       "    </tr>\n",
       "    <tr>\n",
       "      <th>C</th>\n",
       "      <td>丙</td>\n",
       "      <td>111.0</td>\n",
       "      <td>7.0</td>\n",
       "      <td>2</td>\n",
       "      <td>beijing</td>\n",
       "    </tr>\n",
       "    <tr>\n",
       "      <th>D</th>\n",
       "      <td>丁</td>\n",
       "      <td>139.0</td>\n",
       "      <td>19.0</td>\n",
       "      <td>125</td>\n",
       "      <td>shanghai</td>\n",
       "    </tr>\n",
       "    <tr>\n",
       "      <th>E</th>\n",
       "      <td>戊</td>\n",
       "      <td>12.0</td>\n",
       "      <td>66.0</td>\n",
       "      <td>首都</td>\n",
       "      <td>shanghai</td>\n",
       "    </tr>\n",
       "  </tbody>\n",
       "</table>\n",
       "</div>"
      ],
      "text/plain": [
       "   0      1      2    3         4\n",
       "A  甲    NaN    NaN  NaN   beijing\n",
       "B  乙   69.0  142.0   29   beijing\n",
       "C  丙  111.0    7.0    2   beijing\n",
       "D  丁  139.0   19.0  125  shanghai\n",
       "E  戊   12.0   66.0   首都  shanghai"
      ]
     },
     "execution_count": 51,
     "metadata": {},
     "output_type": "execute_result"
    }
   ],
   "source": [
    "# 指定列替换目标值 ({列索引,待替换值},目标值)\n",
    "df.replace({3:'beijing'},'首都')"
   ]
  },
  {
   "cell_type": "code",
   "execution_count": 53,
   "metadata": {},
   "outputs": [
    {
     "data": {
      "text/html": [
       "<div>\n",
       "<style scoped>\n",
       "    .dataframe tbody tr th:only-of-type {\n",
       "        vertical-align: middle;\n",
       "    }\n",
       "\n",
       "    .dataframe tbody tr th {\n",
       "        vertical-align: top;\n",
       "    }\n",
       "\n",
       "    .dataframe thead th {\n",
       "        text-align: right;\n",
       "    }\n",
       "</style>\n",
       "<table border=\"1\" class=\"dataframe\">\n",
       "  <thead>\n",
       "    <tr style=\"text-align: right;\">\n",
       "      <th></th>\n",
       "      <th>0</th>\n",
       "      <th>1</th>\n",
       "      <th>2</th>\n",
       "      <th>3</th>\n",
       "      <th>4</th>\n",
       "    </tr>\n",
       "  </thead>\n",
       "  <tbody>\n",
       "    <tr>\n",
       "      <th>A</th>\n",
       "      <td>first</td>\n",
       "      <td>NaN</td>\n",
       "      <td>NaN</td>\n",
       "      <td>NaN</td>\n",
       "      <td>beijing</td>\n",
       "    </tr>\n",
       "    <tr>\n",
       "      <th>B</th>\n",
       "      <td>乙</td>\n",
       "      <td>69.0</td>\n",
       "      <td>142.0</td>\n",
       "      <td>29</td>\n",
       "      <td>beijing</td>\n",
       "    </tr>\n",
       "    <tr>\n",
       "      <th>C</th>\n",
       "      <td>丙</td>\n",
       "      <td>111.0</td>\n",
       "      <td>7.0</td>\n",
       "      <td>2</td>\n",
       "      <td>beijing</td>\n",
       "    </tr>\n",
       "    <tr>\n",
       "      <th>D</th>\n",
       "      <td>丁</td>\n",
       "      <td>139.0</td>\n",
       "      <td>19.0</td>\n",
       "      <td>125</td>\n",
       "      <td>上海</td>\n",
       "    </tr>\n",
       "    <tr>\n",
       "      <th>E</th>\n",
       "      <td>戊</td>\n",
       "      <td>12.0</td>\n",
       "      <td>100.0</td>\n",
       "      <td>beijing</td>\n",
       "      <td>上海</td>\n",
       "    </tr>\n",
       "  </tbody>\n",
       "</table>\n",
       "</div>"
      ],
      "text/plain": [
       "       0      1      2        3        4\n",
       "A  first    NaN    NaN      NaN  beijing\n",
       "B      乙   69.0  142.0       29  beijing\n",
       "C      丙  111.0    7.0        2  beijing\n",
       "D      丁  139.0   19.0      125       上海\n",
       "E      戊   12.0  100.0  beijing       上海"
      ]
     },
     "execution_count": 53,
     "metadata": {},
     "output_type": "execute_result"
    }
   ],
   "source": [
    "# 列表进行多值替换\n",
    "# replace([要替换的1，要替换的2...],[替换成1，替换成2])\n",
    "df.replace([66,'甲','shanghai'],[100,'first','上海'])"
   ]
  },
  {
   "cell_type": "code",
   "execution_count": 54,
   "metadata": {},
   "outputs": [
    {
     "data": {
      "text/html": [
       "<div>\n",
       "<style scoped>\n",
       "    .dataframe tbody tr th:only-of-type {\n",
       "        vertical-align: middle;\n",
       "    }\n",
       "\n",
       "    .dataframe tbody tr th {\n",
       "        vertical-align: top;\n",
       "    }\n",
       "\n",
       "    .dataframe thead th {\n",
       "        text-align: right;\n",
       "    }\n",
       "</style>\n",
       "<table border=\"1\" class=\"dataframe\">\n",
       "  <thead>\n",
       "    <tr style=\"text-align: right;\">\n",
       "      <th></th>\n",
       "      <th>0</th>\n",
       "      <th>1</th>\n",
       "      <th>2</th>\n",
       "      <th>3</th>\n",
       "      <th>4</th>\n",
       "    </tr>\n",
       "  </thead>\n",
       "  <tbody>\n",
       "    <tr>\n",
       "      <th>A</th>\n",
       "      <td>甲</td>\n",
       "      <td>NaN</td>\n",
       "      <td>NaN</td>\n",
       "      <td>NaN</td>\n",
       "      <td>BEIJING</td>\n",
       "    </tr>\n",
       "    <tr>\n",
       "      <th>B</th>\n",
       "      <td>second</td>\n",
       "      <td>69.0</td>\n",
       "      <td>142.0</td>\n",
       "      <td>29</td>\n",
       "      <td>BEIJING</td>\n",
       "    </tr>\n",
       "    <tr>\n",
       "      <th>C</th>\n",
       "      <td>丙</td>\n",
       "      <td>111.0</td>\n",
       "      <td>7.0</td>\n",
       "      <td>2</td>\n",
       "      <td>BEIJING</td>\n",
       "    </tr>\n",
       "    <tr>\n",
       "      <th>D</th>\n",
       "      <td>丁</td>\n",
       "      <td>139.0</td>\n",
       "      <td>19.0</td>\n",
       "      <td>125</td>\n",
       "      <td>shanghai</td>\n",
       "    </tr>\n",
       "    <tr>\n",
       "      <th>E</th>\n",
       "      <td>戊</td>\n",
       "      <td>12.0</td>\n",
       "      <td>100.0</td>\n",
       "      <td>BEIJING</td>\n",
       "      <td>shanghai</td>\n",
       "    </tr>\n",
       "  </tbody>\n",
       "</table>\n",
       "</div>"
      ],
      "text/plain": [
       "        0      1      2        3         4\n",
       "A       甲    NaN    NaN      NaN   BEIJING\n",
       "B  second   69.0  142.0       29   BEIJING\n",
       "C       丙  111.0    7.0        2   BEIJING\n",
       "D       丁  139.0   19.0      125  shanghai\n",
       "E       戊   12.0  100.0  BEIJING  shanghai"
      ]
     },
     "execution_count": 54,
     "metadata": {},
     "output_type": "execute_result"
    }
   ],
   "source": [
    "# replace({要替换的1：替换成的值1，要替换的2：替换成的值2，...})\n",
    "df.replace({66:100,'乙':'second','beijing':'BEIJING','没有的值':'也可以放'})"
   ]
  },
  {
   "cell_type": "markdown",
   "metadata": {},
   "source": [
    "**注意**：DataFrame中，无法使用method和limit参数"
   ]
  },
  {
   "cell_type": "markdown",
   "metadata": {},
   "source": [
    "============================================\n",
    "\n",
    "练习19：\n",
    "\n",
    "    假设张三李四的成绩单里有满分的情况，老师认为是作弊，把所有满分的情况（包括150,300分）都记0分，如何实现？\n",
    "\n",
    "============================================"
   ]
  },
  {
   "cell_type": "code",
   "execution_count": 65,
   "metadata": {},
   "outputs": [
    {
     "data": {
      "text/html": [
       "<div>\n",
       "<style scoped>\n",
       "    .dataframe tbody tr th:only-of-type {\n",
       "        vertical-align: middle;\n",
       "    }\n",
       "\n",
       "    .dataframe tbody tr th {\n",
       "        vertical-align: top;\n",
       "    }\n",
       "\n",
       "    .dataframe thead th {\n",
       "        text-align: right;\n",
       "    }\n",
       "</style>\n",
       "<table border=\"1\" class=\"dataframe\">\n",
       "  <thead>\n",
       "    <tr style=\"text-align: right;\">\n",
       "      <th></th>\n",
       "      <th>数学</th>\n",
       "      <th>理综</th>\n",
       "    </tr>\n",
       "  </thead>\n",
       "  <tbody>\n",
       "    <tr>\n",
       "      <th>张三</th>\n",
       "      <td>0</td>\n",
       "      <td>0</td>\n",
       "    </tr>\n",
       "    <tr>\n",
       "      <th>李四</th>\n",
       "      <td>0</td>\n",
       "      <td>0</td>\n",
       "    </tr>\n",
       "  </tbody>\n",
       "</table>\n",
       "</div>"
      ],
      "text/plain": [
       "    数学  理综\n",
       "张三   0   0\n",
       "李四   0   0"
      ]
     },
     "execution_count": 65,
     "metadata": {},
     "output_type": "execute_result"
    }
   ],
   "source": [
    "data = [[150,300],[150,300]]\n",
    "df = DataFrame(data,index=[\"张三\",\"李四\"],columns=[\"数学\",\"理综\"])\n",
    "df\n",
    "# 多值替换\n",
    "# df.replace({150:0,300:0})\n",
    "# df.replace([150,300],[0,0])\n",
    "# 单值替换\n",
    "#  按列指定\n",
    "# df1 = df.replace({\"数学\":150},0)\n",
    "# df1.replace({\"理综\":300},0)\n",
    "# 普通\n",
    "df1 = df.replace(to_replace=150,value=0)\n",
    "df1.replace(to_replace=300,value=0)"
   ]
  },
  {
   "cell_type": "markdown",
   "metadata": {},
   "source": [
    "### 2) map()函数：新建一列"
   ]
  },
  {
   "cell_type": "markdown",
   "metadata": {},
   "source": [
    "\n",
    "\n",
    "\n",
    "\n",
    "\n",
    "\n",
    "\n",
    "- map(字典) 字典的键要足以匹配所有的数据，否则出现NaN\n",
    "- map()可以映射新一列数据\n",
    "- map()中可以使用lambd表达式\n",
    "- map()中可以使用方法，可以是自定义的方法\n",
    "\n",
    "\n",
    "**注意** map()中不能使用sum之类的函数，for循环"
   ]
  },
  {
   "cell_type": "code",
   "execution_count": 69,
   "metadata": {
    "collapsed": true
   },
   "outputs": [
    {
     "data": {
      "text/html": [
       "<div>\n",
       "<style scoped>\n",
       "    .dataframe tbody tr th:only-of-type {\n",
       "        vertical-align: middle;\n",
       "    }\n",
       "\n",
       "    .dataframe tbody tr th {\n",
       "        vertical-align: top;\n",
       "    }\n",
       "\n",
       "    .dataframe thead th {\n",
       "        text-align: right;\n",
       "    }\n",
       "</style>\n",
       "<table border=\"1\" class=\"dataframe\">\n",
       "  <thead>\n",
       "    <tr style=\"text-align: right;\">\n",
       "      <th></th>\n",
       "      <th>姓名</th>\n",
       "      <th>语文</th>\n",
       "      <th>数学</th>\n",
       "      <th>python</th>\n",
       "      <th>php</th>\n",
       "    </tr>\n",
       "  </thead>\n",
       "  <tbody>\n",
       "    <tr>\n",
       "      <th>0</th>\n",
       "      <td>小明</td>\n",
       "      <td>90</td>\n",
       "      <td>98</td>\n",
       "      <td>90</td>\n",
       "      <td>98</td>\n",
       "    </tr>\n",
       "    <tr>\n",
       "      <th>1</th>\n",
       "      <td>小红</td>\n",
       "      <td>44</td>\n",
       "      <td>89</td>\n",
       "      <td>44</td>\n",
       "      <td>89</td>\n",
       "    </tr>\n",
       "    <tr>\n",
       "      <th>2</th>\n",
       "      <td>小芳</td>\n",
       "      <td>98</td>\n",
       "      <td>90</td>\n",
       "      <td>90</td>\n",
       "      <td>98</td>\n",
       "    </tr>\n",
       "    <tr>\n",
       "      <th>3</th>\n",
       "      <td>小李</td>\n",
       "      <td>89</td>\n",
       "      <td>44</td>\n",
       "      <td>44</td>\n",
       "      <td>89</td>\n",
       "    </tr>\n",
       "    <tr>\n",
       "      <th>4</th>\n",
       "      <td>李元芳</td>\n",
       "      <td>78</td>\n",
       "      <td>98</td>\n",
       "      <td>98</td>\n",
       "      <td>87</td>\n",
       "    </tr>\n",
       "    <tr>\n",
       "      <th>5</th>\n",
       "      <td>狄仁杰</td>\n",
       "      <td>66</td>\n",
       "      <td>44</td>\n",
       "      <td>44</td>\n",
       "      <td>89</td>\n",
       "    </tr>\n",
       "  </tbody>\n",
       "</table>\n",
       "</div>"
      ],
      "text/plain": [
       "    姓名  语文  数学  python  php\n",
       "0   小明  90  98      90   98\n",
       "1   小红  44  89      44   89\n",
       "2   小芳  98  90      90   98\n",
       "3   小李  89  44      44   89\n",
       "4  李元芳  78  98      98   87\n",
       "5  狄仁杰  66  44      44   89"
      ]
     },
     "execution_count": 69,
     "metadata": {},
     "output_type": "execute_result"
    }
   ],
   "source": [
    "score = pd.read_excel('../data/data.xls',sheet_name=1)\n",
    "score"
   ]
  },
  {
   "cell_type": "code",
   "execution_count": 35,
   "metadata": {},
   "outputs": [],
   "source": [
    "# 映射字典\n",
    "map_dic = {'小明':'北京','小红':'上海','小芳':'北京',\n",
    "           '小李':'广州','李元芳':'成都','狄仁杰':'成都'}"
   ]
  },
  {
   "cell_type": "code",
   "execution_count": 37,
   "metadata": {
    "collapsed": true
   },
   "outputs": [
    {
     "data": {
      "text/html": [
       "<div>\n",
       "<style scoped>\n",
       "    .dataframe tbody tr th:only-of-type {\n",
       "        vertical-align: middle;\n",
       "    }\n",
       "\n",
       "    .dataframe tbody tr th {\n",
       "        vertical-align: top;\n",
       "    }\n",
       "\n",
       "    .dataframe thead th {\n",
       "        text-align: right;\n",
       "    }\n",
       "</style>\n",
       "<table border=\"1\" class=\"dataframe\">\n",
       "  <thead>\n",
       "    <tr style=\"text-align: right;\">\n",
       "      <th></th>\n",
       "      <th>姓名</th>\n",
       "      <th>语文</th>\n",
       "      <th>数学</th>\n",
       "      <th>python</th>\n",
       "      <th>php</th>\n",
       "      <th>地址</th>\n",
       "    </tr>\n",
       "  </thead>\n",
       "  <tbody>\n",
       "    <tr>\n",
       "      <th>0</th>\n",
       "      <td>小明</td>\n",
       "      <td>90</td>\n",
       "      <td>98</td>\n",
       "      <td>90</td>\n",
       "      <td>98</td>\n",
       "      <td>北京</td>\n",
       "    </tr>\n",
       "    <tr>\n",
       "      <th>1</th>\n",
       "      <td>小红</td>\n",
       "      <td>44</td>\n",
       "      <td>89</td>\n",
       "      <td>44</td>\n",
       "      <td>89</td>\n",
       "      <td>上海</td>\n",
       "    </tr>\n",
       "    <tr>\n",
       "      <th>2</th>\n",
       "      <td>小芳</td>\n",
       "      <td>98</td>\n",
       "      <td>90</td>\n",
       "      <td>90</td>\n",
       "      <td>98</td>\n",
       "      <td>北京</td>\n",
       "    </tr>\n",
       "    <tr>\n",
       "      <th>3</th>\n",
       "      <td>小李</td>\n",
       "      <td>89</td>\n",
       "      <td>44</td>\n",
       "      <td>44</td>\n",
       "      <td>89</td>\n",
       "      <td>广州</td>\n",
       "    </tr>\n",
       "    <tr>\n",
       "      <th>4</th>\n",
       "      <td>李元芳</td>\n",
       "      <td>78</td>\n",
       "      <td>98</td>\n",
       "      <td>98</td>\n",
       "      <td>87</td>\n",
       "      <td>成都</td>\n",
       "    </tr>\n",
       "    <tr>\n",
       "      <th>5</th>\n",
       "      <td>狄仁杰</td>\n",
       "      <td>66</td>\n",
       "      <td>44</td>\n",
       "      <td>44</td>\n",
       "      <td>89</td>\n",
       "      <td>成都</td>\n",
       "    </tr>\n",
       "  </tbody>\n",
       "</table>\n",
       "</div>"
      ],
      "text/plain": [
       "    姓名  语文  数学  python  php  地址\n",
       "0   小明  90  98      90   98  北京\n",
       "1   小红  44  89      44   89  上海\n",
       "2   小芳  98  90      90   98  北京\n",
       "3   小李  89  44      44   89  广州\n",
       "4  李元芳  78  98      98   87  成都\n",
       "5  狄仁杰  66  44      44   89  成都"
      ]
     },
     "execution_count": 37,
     "metadata": {},
     "output_type": "execute_result"
    }
   ],
   "source": [
    "# map函数不是DataFrame的方法，而是Sereis对象的方法\n",
    "score['地址'] = score['姓名'].map(map_dic)\n",
    "score"
   ]
  },
  {
   "cell_type": "code",
   "execution_count": 78,
   "metadata": {
    "collapsed": true
   },
   "outputs": [
    {
     "data": {
      "text/html": [
       "<div>\n",
       "<style scoped>\n",
       "    .dataframe tbody tr th:only-of-type {\n",
       "        vertical-align: middle;\n",
       "    }\n",
       "\n",
       "    .dataframe tbody tr th {\n",
       "        vertical-align: top;\n",
       "    }\n",
       "\n",
       "    .dataframe thead th {\n",
       "        text-align: right;\n",
       "    }\n",
       "</style>\n",
       "<table border=\"1\" class=\"dataframe\">\n",
       "  <thead>\n",
       "    <tr style=\"text-align: right;\">\n",
       "      <th></th>\n",
       "      <th>姓名</th>\n",
       "      <th>语文</th>\n",
       "      <th>数学</th>\n",
       "      <th>python</th>\n",
       "      <th>php</th>\n",
       "    </tr>\n",
       "  </thead>\n",
       "  <tbody>\n",
       "    <tr>\n",
       "      <th>0</th>\n",
       "      <td>小明</td>\n",
       "      <td>90</td>\n",
       "      <td>98</td>\n",
       "      <td>100</td>\n",
       "      <td>98</td>\n",
       "    </tr>\n",
       "    <tr>\n",
       "      <th>1</th>\n",
       "      <td>小红</td>\n",
       "      <td>44</td>\n",
       "      <td>89</td>\n",
       "      <td>54</td>\n",
       "      <td>89</td>\n",
       "    </tr>\n",
       "    <tr>\n",
       "      <th>2</th>\n",
       "      <td>小芳</td>\n",
       "      <td>98</td>\n",
       "      <td>90</td>\n",
       "      <td>100</td>\n",
       "      <td>98</td>\n",
       "    </tr>\n",
       "    <tr>\n",
       "      <th>3</th>\n",
       "      <td>小李</td>\n",
       "      <td>89</td>\n",
       "      <td>44</td>\n",
       "      <td>54</td>\n",
       "      <td>89</td>\n",
       "    </tr>\n",
       "    <tr>\n",
       "      <th>4</th>\n",
       "      <td>李元芳</td>\n",
       "      <td>78</td>\n",
       "      <td>98</td>\n",
       "      <td>108</td>\n",
       "      <td>87</td>\n",
       "    </tr>\n",
       "    <tr>\n",
       "      <th>5</th>\n",
       "      <td>狄仁杰</td>\n",
       "      <td>66</td>\n",
       "      <td>44</td>\n",
       "      <td>54</td>\n",
       "      <td>89</td>\n",
       "    </tr>\n",
       "  </tbody>\n",
       "</table>\n",
       "</div>"
      ],
      "text/plain": [
       "    姓名  语文  数学  python  php\n",
       "0   小明  90  98     100   98\n",
       "1   小红  44  89      54   89\n",
       "2   小芳  98  90     100   98\n",
       "3   小李  89  44      54   89\n",
       "4  李元芳  78  98     108   87\n",
       "5  狄仁杰  66  44      54   89"
      ]
     },
     "execution_count": 78,
     "metadata": {},
     "output_type": "execute_result"
    }
   ],
   "source": [
    "# lambda x:x+10\n",
    "score['python'] = score['python'].map(lambda x:x+10)\n",
    "score"
   ]
  },
  {
   "cell_type": "code",
   "execution_count": 40,
   "metadata": {},
   "outputs": [],
   "source": [
    "def socre_process(x):\n",
    "    return x-10"
   ]
  },
  {
   "cell_type": "code",
   "execution_count": 43,
   "metadata": {
    "collapsed": true
   },
   "outputs": [
    {
     "data": {
      "text/html": [
       "<div>\n",
       "<style scoped>\n",
       "    .dataframe tbody tr th:only-of-type {\n",
       "        vertical-align: middle;\n",
       "    }\n",
       "\n",
       "    .dataframe tbody tr th {\n",
       "        vertical-align: top;\n",
       "    }\n",
       "\n",
       "    .dataframe thead th {\n",
       "        text-align: right;\n",
       "    }\n",
       "</style>\n",
       "<table border=\"1\" class=\"dataframe\">\n",
       "  <thead>\n",
       "    <tr style=\"text-align: right;\">\n",
       "      <th></th>\n",
       "      <th>姓名</th>\n",
       "      <th>语文</th>\n",
       "      <th>数学</th>\n",
       "      <th>python</th>\n",
       "      <th>php</th>\n",
       "      <th>地址</th>\n",
       "    </tr>\n",
       "  </thead>\n",
       "  <tbody>\n",
       "    <tr>\n",
       "      <th>0</th>\n",
       "      <td>小明</td>\n",
       "      <td>70</td>\n",
       "      <td>98</td>\n",
       "      <td>110</td>\n",
       "      <td>98</td>\n",
       "      <td>北京</td>\n",
       "    </tr>\n",
       "    <tr>\n",
       "      <th>1</th>\n",
       "      <td>小红</td>\n",
       "      <td>24</td>\n",
       "      <td>89</td>\n",
       "      <td>64</td>\n",
       "      <td>89</td>\n",
       "      <td>上海</td>\n",
       "    </tr>\n",
       "    <tr>\n",
       "      <th>2</th>\n",
       "      <td>小芳</td>\n",
       "      <td>78</td>\n",
       "      <td>90</td>\n",
       "      <td>110</td>\n",
       "      <td>98</td>\n",
       "      <td>北京</td>\n",
       "    </tr>\n",
       "    <tr>\n",
       "      <th>3</th>\n",
       "      <td>小李</td>\n",
       "      <td>69</td>\n",
       "      <td>44</td>\n",
       "      <td>64</td>\n",
       "      <td>89</td>\n",
       "      <td>广州</td>\n",
       "    </tr>\n",
       "    <tr>\n",
       "      <th>4</th>\n",
       "      <td>李元芳</td>\n",
       "      <td>58</td>\n",
       "      <td>98</td>\n",
       "      <td>118</td>\n",
       "      <td>87</td>\n",
       "      <td>成都</td>\n",
       "    </tr>\n",
       "    <tr>\n",
       "      <th>5</th>\n",
       "      <td>狄仁杰</td>\n",
       "      <td>46</td>\n",
       "      <td>44</td>\n",
       "      <td>64</td>\n",
       "      <td>89</td>\n",
       "      <td>成都</td>\n",
       "    </tr>\n",
       "  </tbody>\n",
       "</table>\n",
       "</div>"
      ],
      "text/plain": [
       "    姓名  语文  数学  python  php  地址\n",
       "0   小明  70  98     110   98  北京\n",
       "1   小红  24  89      64   89  上海\n",
       "2   小芳  78  90     110   98  北京\n",
       "3   小李  69  44      64   89  广州\n",
       "4  李元芳  58  98     118   87  成都\n",
       "5  狄仁杰  46  44      64   89  成都"
      ]
     },
     "execution_count": 43,
     "metadata": {},
     "output_type": "execute_result"
    }
   ],
   "source": [
    "score['语文'] = score['语文'].map(socre_process)\n",
    "score"
   ]
  },
  {
   "cell_type": "markdown",
   "metadata": {},
   "source": [
    " "
   ]
  },
  {
   "cell_type": "markdown",
   "metadata": {},
   "source": [
    "============================================\n",
    "\n",
    "练习20：\n",
    "\n",
    "    新增两列，分别为张三、李四的成绩状态，如果分数低于90，则为\"failed\"，如果分数高于120，则为\"excellent\"，其他则为\"pass\"\n",
    "    \n",
    "    【提示】使用函数作为map的参数\n",
    "\n",
    "============================================"
   ]
  },
  {
   "cell_type": "code",
   "execution_count": 87,
   "metadata": {
    "collapsed": true
   },
   "outputs": [
    {
     "data": {
      "text/html": [
       "<div>\n",
       "<style scoped>\n",
       "    .dataframe tbody tr th:only-of-type {\n",
       "        vertical-align: middle;\n",
       "    }\n",
       "\n",
       "    .dataframe tbody tr th {\n",
       "        vertical-align: top;\n",
       "    }\n",
       "\n",
       "    .dataframe thead th {\n",
       "        text-align: right;\n",
       "    }\n",
       "</style>\n",
       "<table border=\"1\" class=\"dataframe\">\n",
       "  <thead>\n",
       "    <tr style=\"text-align: right;\">\n",
       "      <th></th>\n",
       "      <th>python</th>\n",
       "      <th>java</th>\n",
       "      <th>php</th>\n",
       "    </tr>\n",
       "  </thead>\n",
       "  <tbody>\n",
       "    <tr>\n",
       "      <th>peppa</th>\n",
       "      <td>69</td>\n",
       "      <td>116</td>\n",
       "      <td>44</td>\n",
       "    </tr>\n",
       "    <tr>\n",
       "      <th>mery</th>\n",
       "      <td>38</td>\n",
       "      <td>148</td>\n",
       "      <td>59</td>\n",
       "    </tr>\n",
       "    <tr>\n",
       "      <th>tom</th>\n",
       "      <td>95</td>\n",
       "      <td>47</td>\n",
       "      <td>64</td>\n",
       "    </tr>\n",
       "    <tr>\n",
       "      <th>jack</th>\n",
       "      <td>129</td>\n",
       "      <td>122</td>\n",
       "      <td>9</td>\n",
       "    </tr>\n",
       "    <tr>\n",
       "      <th>rose</th>\n",
       "      <td>90</td>\n",
       "      <td>55</td>\n",
       "      <td>36</td>\n",
       "    </tr>\n",
       "  </tbody>\n",
       "</table>\n",
       "</div>"
      ],
      "text/plain": [
       "       python  java  php\n",
       "peppa      69   116   44\n",
       "mery       38   148   59\n",
       "tom        95    47   64\n",
       "jack      129   122    9\n",
       "rose       90    55   36"
      ]
     },
     "execution_count": 87,
     "metadata": {},
     "output_type": "execute_result"
    }
   ],
   "source": [
    "data = np.random.randint(0,150,size=(5,3))\n",
    "columns = ['python','java','php']\n",
    "index = ['peppa','mery','tom','jack','rose']\n",
    "df = DataFrame(data=data,index=index,columns=columns)\n",
    "df"
   ]
  },
  {
   "cell_type": "code",
   "execution_count": 82,
   "metadata": {},
   "outputs": [],
   "source": [
    "def trans_func(x):\n",
    "    if x < 90:\n",
    "        return 'failed'\n",
    "    elif x > 120:\n",
    "        return 'excellent'\n",
    "    else:\n",
    "        return 'pass'"
   ]
  },
  {
   "cell_type": "code",
   "execution_count": 86,
   "metadata": {
    "collapsed": true
   },
   "outputs": [
    {
     "data": {
      "text/html": [
       "<div>\n",
       "<style scoped>\n",
       "    .dataframe tbody tr th:only-of-type {\n",
       "        vertical-align: middle;\n",
       "    }\n",
       "\n",
       "    .dataframe tbody tr th {\n",
       "        vertical-align: top;\n",
       "    }\n",
       "\n",
       "    .dataframe thead th {\n",
       "        text-align: right;\n",
       "    }\n",
       "</style>\n",
       "<table border=\"1\" class=\"dataframe\">\n",
       "  <thead>\n",
       "    <tr style=\"text-align: right;\">\n",
       "      <th></th>\n",
       "      <th>数学</th>\n",
       "      <th>理综</th>\n",
       "      <th>phpX</th>\n",
       "    </tr>\n",
       "  </thead>\n",
       "  <tbody>\n",
       "    <tr>\n",
       "      <th>张三</th>\n",
       "      <td>0</td>\n",
       "      <td>300</td>\n",
       "      <td>NaN</td>\n",
       "    </tr>\n",
       "    <tr>\n",
       "      <th>李四</th>\n",
       "      <td>0</td>\n",
       "      <td>300</td>\n",
       "      <td>NaN</td>\n",
       "    </tr>\n",
       "  </tbody>\n",
       "</table>\n",
       "</div>"
      ],
      "text/plain": [
       "    数学   理综 phpX\n",
       "张三   0  300  NaN\n",
       "李四   0  300  NaN"
      ]
     },
     "execution_count": 86,
     "metadata": {},
     "output_type": "execute_result"
    }
   ],
   "source": [
    "df1['phpX'] = df.php.map(trans_func)\n",
    "df1"
   ]
  },
  {
   "cell_type": "markdown",
   "metadata": {},
   "source": [
    "### 3) rename()函数：替换索引"
   ]
  },
  {
   "cell_type": "markdown",
   "metadata": {},
   "source": [
    "仍然是新建一个字典"
   ]
  },
  {
   "cell_type": "code",
   "execution_count": 106,
   "metadata": {
    "collapsed": true
   },
   "outputs": [
    {
     "data": {
      "text/html": [
       "<div>\n",
       "<style scoped>\n",
       "    .dataframe tbody tr th:only-of-type {\n",
       "        vertical-align: middle;\n",
       "    }\n",
       "\n",
       "    .dataframe tbody tr th {\n",
       "        vertical-align: top;\n",
       "    }\n",
       "\n",
       "    .dataframe thead tr th {\n",
       "        text-align: left;\n",
       "    }\n",
       "</style>\n",
       "<table border=\"1\" class=\"dataframe\">\n",
       "  <thead>\n",
       "    <tr>\n",
       "      <th></th>\n",
       "      <th colspan=\"3\" halign=\"left\">A</th>\n",
       "      <th colspan=\"3\" halign=\"left\">B</th>\n",
       "    </tr>\n",
       "    <tr>\n",
       "      <th></th>\n",
       "      <th>python</th>\n",
       "      <th>java</th>\n",
       "      <th>php</th>\n",
       "      <th>python</th>\n",
       "      <th>java</th>\n",
       "      <th>php</th>\n",
       "    </tr>\n",
       "  </thead>\n",
       "  <tbody>\n",
       "    <tr>\n",
       "      <th>peppa</th>\n",
       "      <td>69</td>\n",
       "      <td>116</td>\n",
       "      <td>44</td>\n",
       "      <td>69</td>\n",
       "      <td>116</td>\n",
       "      <td>44</td>\n",
       "    </tr>\n",
       "    <tr>\n",
       "      <th>mery</th>\n",
       "      <td>38</td>\n",
       "      <td>148</td>\n",
       "      <td>59</td>\n",
       "      <td>38</td>\n",
       "      <td>148</td>\n",
       "      <td>59</td>\n",
       "    </tr>\n",
       "    <tr>\n",
       "      <th>tom</th>\n",
       "      <td>95</td>\n",
       "      <td>47</td>\n",
       "      <td>64</td>\n",
       "      <td>95</td>\n",
       "      <td>47</td>\n",
       "      <td>64</td>\n",
       "    </tr>\n",
       "    <tr>\n",
       "      <th>jack</th>\n",
       "      <td>129</td>\n",
       "      <td>122</td>\n",
       "      <td>9</td>\n",
       "      <td>129</td>\n",
       "      <td>122</td>\n",
       "      <td>9</td>\n",
       "    </tr>\n",
       "    <tr>\n",
       "      <th>rose</th>\n",
       "      <td>90</td>\n",
       "      <td>55</td>\n",
       "      <td>36</td>\n",
       "      <td>90</td>\n",
       "      <td>55</td>\n",
       "      <td>36</td>\n",
       "    </tr>\n",
       "  </tbody>\n",
       "</table>\n",
       "</div>"
      ],
      "text/plain": [
       "           A               B         \n",
       "      python java php python java php\n",
       "peppa     69  116  44     69  116  44\n",
       "mery      38  148  59     38  148  59\n",
       "tom       95   47  64     95   47  64\n",
       "jack     129  122   9    129  122   9\n",
       "rose      90   55  36     90   55  36"
      ]
     },
     "execution_count": 106,
     "metadata": {},
     "output_type": "execute_result"
    }
   ],
   "source": [
    "score = pd.concat((df,df),keys=['A','B'],axis=1)\n",
    "score"
   ]
  },
  {
   "cell_type": "code",
   "execution_count": 112,
   "metadata": {},
   "outputs": [],
   "source": [
    "map_dic = {'peppa':'帅气','mery':'美丽','python':'蟒蛇',\n",
    "           'java':'咖啡','php':'拍黄片','A':'上','B':'下'}"
   ]
  },
  {
   "cell_type": "code",
   "execution_count": 113,
   "metadata": {
    "collapsed": true
   },
   "outputs": [
    {
     "data": {
      "text/html": [
       "<div>\n",
       "<style scoped>\n",
       "    .dataframe tbody tr th:only-of-type {\n",
       "        vertical-align: middle;\n",
       "    }\n",
       "\n",
       "    .dataframe tbody tr th {\n",
       "        vertical-align: top;\n",
       "    }\n",
       "\n",
       "    .dataframe thead tr th {\n",
       "        text-align: left;\n",
       "    }\n",
       "</style>\n",
       "<table border=\"1\" class=\"dataframe\">\n",
       "  <thead>\n",
       "    <tr>\n",
       "      <th></th>\n",
       "      <th colspan=\"3\" halign=\"left\">A</th>\n",
       "      <th colspan=\"3\" halign=\"left\">B</th>\n",
       "    </tr>\n",
       "    <tr>\n",
       "      <th></th>\n",
       "      <th>python</th>\n",
       "      <th>java</th>\n",
       "      <th>php</th>\n",
       "      <th>python</th>\n",
       "      <th>java</th>\n",
       "      <th>php</th>\n",
       "    </tr>\n",
       "  </thead>\n",
       "  <tbody>\n",
       "    <tr>\n",
       "      <th>帅气</th>\n",
       "      <td>69</td>\n",
       "      <td>116</td>\n",
       "      <td>44</td>\n",
       "      <td>69</td>\n",
       "      <td>116</td>\n",
       "      <td>44</td>\n",
       "    </tr>\n",
       "    <tr>\n",
       "      <th>美丽</th>\n",
       "      <td>38</td>\n",
       "      <td>148</td>\n",
       "      <td>59</td>\n",
       "      <td>38</td>\n",
       "      <td>148</td>\n",
       "      <td>59</td>\n",
       "    </tr>\n",
       "    <tr>\n",
       "      <th>tom</th>\n",
       "      <td>95</td>\n",
       "      <td>47</td>\n",
       "      <td>64</td>\n",
       "      <td>95</td>\n",
       "      <td>47</td>\n",
       "      <td>64</td>\n",
       "    </tr>\n",
       "    <tr>\n",
       "      <th>jack</th>\n",
       "      <td>129</td>\n",
       "      <td>122</td>\n",
       "      <td>9</td>\n",
       "      <td>129</td>\n",
       "      <td>122</td>\n",
       "      <td>9</td>\n",
       "    </tr>\n",
       "    <tr>\n",
       "      <th>rose</th>\n",
       "      <td>90</td>\n",
       "      <td>55</td>\n",
       "      <td>36</td>\n",
       "      <td>90</td>\n",
       "      <td>55</td>\n",
       "      <td>36</td>\n",
       "    </tr>\n",
       "  </tbody>\n",
       "</table>\n",
       "</div>"
      ],
      "text/plain": [
       "          A               B         \n",
       "     python java php python java php\n",
       "帅气       69  116  44     69  116  44\n",
       "美丽       38  148  59     38  148  59\n",
       "tom      95   47  64     95   47  64\n",
       "jack    129  122   9    129  122   9\n",
       "rose     90   55  36     90   55  36"
      ]
     },
     "execution_count": 113,
     "metadata": {},
     "output_type": "execute_result"
    }
   ],
   "source": [
    "score.rename(map_dic) # 替换行名称"
   ]
  },
  {
   "cell_type": "code",
   "execution_count": 120,
   "metadata": {
    "collapsed": true
   },
   "outputs": [
    {
     "data": {
      "text/html": [
       "<div>\n",
       "<style scoped>\n",
       "    .dataframe tbody tr th:only-of-type {\n",
       "        vertical-align: middle;\n",
       "    }\n",
       "\n",
       "    .dataframe tbody tr th {\n",
       "        vertical-align: top;\n",
       "    }\n",
       "\n",
       "    .dataframe thead tr th {\n",
       "        text-align: left;\n",
       "    }\n",
       "</style>\n",
       "<table border=\"1\" class=\"dataframe\">\n",
       "  <thead>\n",
       "    <tr>\n",
       "      <th></th>\n",
       "      <th colspan=\"3\" halign=\"left\">A</th>\n",
       "      <th colspan=\"3\" halign=\"left\">B</th>\n",
       "    </tr>\n",
       "    <tr>\n",
       "      <th></th>\n",
       "      <th>蟒蛇</th>\n",
       "      <th>咖啡</th>\n",
       "      <th>拍黄片</th>\n",
       "      <th>蟒蛇</th>\n",
       "      <th>咖啡</th>\n",
       "      <th>拍黄片</th>\n",
       "    </tr>\n",
       "  </thead>\n",
       "  <tbody>\n",
       "    <tr>\n",
       "      <th>peppa</th>\n",
       "      <td>69</td>\n",
       "      <td>116</td>\n",
       "      <td>44</td>\n",
       "      <td>69</td>\n",
       "      <td>116</td>\n",
       "      <td>44</td>\n",
       "    </tr>\n",
       "    <tr>\n",
       "      <th>mery</th>\n",
       "      <td>38</td>\n",
       "      <td>148</td>\n",
       "      <td>59</td>\n",
       "      <td>38</td>\n",
       "      <td>148</td>\n",
       "      <td>59</td>\n",
       "    </tr>\n",
       "    <tr>\n",
       "      <th>tom</th>\n",
       "      <td>95</td>\n",
       "      <td>47</td>\n",
       "      <td>64</td>\n",
       "      <td>95</td>\n",
       "      <td>47</td>\n",
       "      <td>64</td>\n",
       "    </tr>\n",
       "    <tr>\n",
       "      <th>jack</th>\n",
       "      <td>129</td>\n",
       "      <td>122</td>\n",
       "      <td>9</td>\n",
       "      <td>129</td>\n",
       "      <td>122</td>\n",
       "      <td>9</td>\n",
       "    </tr>\n",
       "    <tr>\n",
       "      <th>rose</th>\n",
       "      <td>90</td>\n",
       "      <td>55</td>\n",
       "      <td>36</td>\n",
       "      <td>90</td>\n",
       "      <td>55</td>\n",
       "      <td>36</td>\n",
       "    </tr>\n",
       "  </tbody>\n",
       "</table>\n",
       "</div>"
      ],
      "text/plain": [
       "         A             B         \n",
       "        蟒蛇   咖啡 拍黄片   蟒蛇   咖啡 拍黄片\n",
       "peppa   69  116  44   69  116  44\n",
       "mery    38  148  59   38  148  59\n",
       "tom     95   47  64   95   47  64\n",
       "jack   129  122   9  129  122   9\n",
       "rose    90   55  36   90   55  36"
      ]
     },
     "execution_count": 120,
     "metadata": {},
     "output_type": "execute_result"
    }
   ],
   "source": [
    "score.rename(columns=map_dic) # 替换列名称 默认全都替换\n",
    "score.rename(columns=map_dic,level=0) # 可以通过level指定\n",
    "score.rename(columns=map_dic,level=1) # 可以通过level指定 具体要替换哪一级的索引\n",
    "score.rename(columns=map_dic,level=-1) # 可以通过level指定 具体要替换哪一级的索引"
   ]
  },
  {
   "cell_type": "markdown",
   "metadata": {},
   "source": [
    "使用rename()函数替换行索引\n",
    "\n",
    "- index 替换行索引\n",
    "- columns 替换列索引\n",
    "- level 指定多维索引的维度"
   ]
  },
  {
   "cell_type": "markdown",
   "metadata": {},
   "source": [
    "## 3. 使用聚合操作对数据异常值检测和过滤"
   ]
  },
  {
   "cell_type": "markdown",
   "metadata": {},
   "source": [
    "使用describe()函数查看每一列的描述性统计量"
   ]
  },
  {
   "cell_type": "code",
   "execution_count": 121,
   "metadata": {
    "collapsed": true
   },
   "outputs": [
    {
     "data": {
      "text/html": [
       "<div>\n",
       "<style scoped>\n",
       "    .dataframe tbody tr th:only-of-type {\n",
       "        vertical-align: middle;\n",
       "    }\n",
       "\n",
       "    .dataframe tbody tr th {\n",
       "        vertical-align: top;\n",
       "    }\n",
       "\n",
       "    .dataframe thead th {\n",
       "        text-align: right;\n",
       "    }\n",
       "</style>\n",
       "<table border=\"1\" class=\"dataframe\">\n",
       "  <thead>\n",
       "    <tr style=\"text-align: right;\">\n",
       "      <th></th>\n",
       "      <th>0</th>\n",
       "      <th>1</th>\n",
       "      <th>2</th>\n",
       "      <th>3</th>\n",
       "      <th>4</th>\n",
       "    </tr>\n",
       "  </thead>\n",
       "  <tbody>\n",
       "    <tr>\n",
       "      <th>0</th>\n",
       "      <td>0.646902</td>\n",
       "      <td>0.458781</td>\n",
       "      <td>0.160737</td>\n",
       "      <td>-0.050862</td>\n",
       "      <td>-0.112215</td>\n",
       "    </tr>\n",
       "    <tr>\n",
       "      <th>1</th>\n",
       "      <td>-0.754866</td>\n",
       "      <td>0.550206</td>\n",
       "      <td>-0.489823</td>\n",
       "      <td>-0.891884</td>\n",
       "      <td>-2.727380</td>\n",
       "    </tr>\n",
       "    <tr>\n",
       "      <th>2</th>\n",
       "      <td>-2.021157</td>\n",
       "      <td>-0.541520</td>\n",
       "      <td>-1.214842</td>\n",
       "      <td>1.658103</td>\n",
       "      <td>-1.449825</td>\n",
       "    </tr>\n",
       "    <tr>\n",
       "      <th>3</th>\n",
       "      <td>0.420028</td>\n",
       "      <td>2.122123</td>\n",
       "      <td>-0.245825</td>\n",
       "      <td>-1.631072</td>\n",
       "      <td>1.102039</td>\n",
       "    </tr>\n",
       "    <tr>\n",
       "      <th>4</th>\n",
       "      <td>-0.366071</td>\n",
       "      <td>-0.826553</td>\n",
       "      <td>-0.561772</td>\n",
       "      <td>-2.369811</td>\n",
       "      <td>-0.812363</td>\n",
       "    </tr>\n",
       "    <tr>\n",
       "      <th>5</th>\n",
       "      <td>-0.116635</td>\n",
       "      <td>0.849535</td>\n",
       "      <td>-0.477603</td>\n",
       "      <td>1.273722</td>\n",
       "      <td>-2.336463</td>\n",
       "    </tr>\n",
       "    <tr>\n",
       "      <th>6</th>\n",
       "      <td>-1.057143</td>\n",
       "      <td>-1.001456</td>\n",
       "      <td>1.440642</td>\n",
       "      <td>0.270954</td>\n",
       "      <td>-0.320548</td>\n",
       "    </tr>\n",
       "    <tr>\n",
       "      <th>7</th>\n",
       "      <td>0.381766</td>\n",
       "      <td>-0.005303</td>\n",
       "      <td>-0.851964</td>\n",
       "      <td>1.719079</td>\n",
       "      <td>2.014669</td>\n",
       "    </tr>\n",
       "    <tr>\n",
       "      <th>8</th>\n",
       "      <td>1.028739</td>\n",
       "      <td>-1.279225</td>\n",
       "      <td>-1.850856</td>\n",
       "      <td>0.008095</td>\n",
       "      <td>-1.179051</td>\n",
       "    </tr>\n",
       "    <tr>\n",
       "      <th>9</th>\n",
       "      <td>-0.558042</td>\n",
       "      <td>0.431705</td>\n",
       "      <td>0.348529</td>\n",
       "      <td>1.242510</td>\n",
       "      <td>-0.211434</td>\n",
       "    </tr>\n",
       "    <tr>\n",
       "      <th>10</th>\n",
       "      <td>0.582695</td>\n",
       "      <td>0.986894</td>\n",
       "      <td>-3.144516</td>\n",
       "      <td>0.650536</td>\n",
       "      <td>-0.000741</td>\n",
       "    </tr>\n",
       "    <tr>\n",
       "      <th>11</th>\n",
       "      <td>0.814296</td>\n",
       "      <td>-0.764777</td>\n",
       "      <td>-0.392169</td>\n",
       "      <td>-1.955033</td>\n",
       "      <td>0.294000</td>\n",
       "    </tr>\n",
       "    <tr>\n",
       "      <th>12</th>\n",
       "      <td>-0.556459</td>\n",
       "      <td>-0.154641</td>\n",
       "      <td>0.191730</td>\n",
       "      <td>0.772257</td>\n",
       "      <td>-0.409070</td>\n",
       "    </tr>\n",
       "    <tr>\n",
       "      <th>13</th>\n",
       "      <td>-2.109626</td>\n",
       "      <td>0.123842</td>\n",
       "      <td>0.648405</td>\n",
       "      <td>0.588917</td>\n",
       "      <td>-0.887019</td>\n",
       "    </tr>\n",
       "    <tr>\n",
       "      <th>14</th>\n",
       "      <td>-1.140953</td>\n",
       "      <td>-1.012783</td>\n",
       "      <td>0.379316</td>\n",
       "      <td>-0.181892</td>\n",
       "      <td>0.564675</td>\n",
       "    </tr>\n",
       "    <tr>\n",
       "      <th>15</th>\n",
       "      <td>-1.566885</td>\n",
       "      <td>0.995043</td>\n",
       "      <td>-0.587863</td>\n",
       "      <td>-0.499863</td>\n",
       "      <td>0.429786</td>\n",
       "    </tr>\n",
       "    <tr>\n",
       "      <th>16</th>\n",
       "      <td>-0.012963</td>\n",
       "      <td>-1.939778</td>\n",
       "      <td>0.311918</td>\n",
       "      <td>0.064929</td>\n",
       "      <td>-1.253436</td>\n",
       "    </tr>\n",
       "    <tr>\n",
       "      <th>17</th>\n",
       "      <td>1.354998</td>\n",
       "      <td>0.161577</td>\n",
       "      <td>-1.049116</td>\n",
       "      <td>-0.254993</td>\n",
       "      <td>-0.233156</td>\n",
       "    </tr>\n",
       "    <tr>\n",
       "      <th>18</th>\n",
       "      <td>-0.936048</td>\n",
       "      <td>-1.006728</td>\n",
       "      <td>0.453557</td>\n",
       "      <td>-0.694374</td>\n",
       "      <td>0.259965</td>\n",
       "    </tr>\n",
       "    <tr>\n",
       "      <th>19</th>\n",
       "      <td>-2.231888</td>\n",
       "      <td>0.514036</td>\n",
       "      <td>0.820987</td>\n",
       "      <td>0.060190</td>\n",
       "      <td>1.434336</td>\n",
       "    </tr>\n",
       "    <tr>\n",
       "      <th>20</th>\n",
       "      <td>-1.143106</td>\n",
       "      <td>1.178793</td>\n",
       "      <td>0.087019</td>\n",
       "      <td>-0.156521</td>\n",
       "      <td>0.698580</td>\n",
       "    </tr>\n",
       "    <tr>\n",
       "      <th>21</th>\n",
       "      <td>-0.144500</td>\n",
       "      <td>0.995518</td>\n",
       "      <td>-1.013457</td>\n",
       "      <td>0.223510</td>\n",
       "      <td>-0.103362</td>\n",
       "    </tr>\n",
       "    <tr>\n",
       "      <th>22</th>\n",
       "      <td>-0.743607</td>\n",
       "      <td>-0.821403</td>\n",
       "      <td>0.274088</td>\n",
       "      <td>-2.255627</td>\n",
       "      <td>0.845665</td>\n",
       "    </tr>\n",
       "    <tr>\n",
       "      <th>23</th>\n",
       "      <td>-0.308370</td>\n",
       "      <td>-0.803049</td>\n",
       "      <td>-0.121852</td>\n",
       "      <td>-0.873723</td>\n",
       "      <td>-0.076340</td>\n",
       "    </tr>\n",
       "    <tr>\n",
       "      <th>24</th>\n",
       "      <td>-1.424567</td>\n",
       "      <td>-0.662985</td>\n",
       "      <td>-1.099664</td>\n",
       "      <td>-0.521869</td>\n",
       "      <td>-0.592521</td>\n",
       "    </tr>\n",
       "    <tr>\n",
       "      <th>25</th>\n",
       "      <td>-1.215402</td>\n",
       "      <td>-2.078707</td>\n",
       "      <td>0.870592</td>\n",
       "      <td>0.812924</td>\n",
       "      <td>-0.193481</td>\n",
       "    </tr>\n",
       "    <tr>\n",
       "      <th>26</th>\n",
       "      <td>0.272546</td>\n",
       "      <td>-0.306366</td>\n",
       "      <td>-0.036724</td>\n",
       "      <td>-0.002326</td>\n",
       "      <td>0.278188</td>\n",
       "    </tr>\n",
       "    <tr>\n",
       "      <th>27</th>\n",
       "      <td>-1.405004</td>\n",
       "      <td>1.350775</td>\n",
       "      <td>-0.336271</td>\n",
       "      <td>0.077373</td>\n",
       "      <td>0.489668</td>\n",
       "    </tr>\n",
       "    <tr>\n",
       "      <th>28</th>\n",
       "      <td>-1.141360</td>\n",
       "      <td>-0.654873</td>\n",
       "      <td>2.287752</td>\n",
       "      <td>1.809534</td>\n",
       "      <td>1.119275</td>\n",
       "    </tr>\n",
       "    <tr>\n",
       "      <th>29</th>\n",
       "      <td>0.390862</td>\n",
       "      <td>-0.610846</td>\n",
       "      <td>0.357697</td>\n",
       "      <td>0.195639</td>\n",
       "      <td>0.433177</td>\n",
       "    </tr>\n",
       "    <tr>\n",
       "      <th>...</th>\n",
       "      <td>...</td>\n",
       "      <td>...</td>\n",
       "      <td>...</td>\n",
       "      <td>...</td>\n",
       "      <td>...</td>\n",
       "    </tr>\n",
       "    <tr>\n",
       "      <th>970</th>\n",
       "      <td>-1.332948</td>\n",
       "      <td>-0.089893</td>\n",
       "      <td>-0.248492</td>\n",
       "      <td>-0.265217</td>\n",
       "      <td>-1.103290</td>\n",
       "    </tr>\n",
       "    <tr>\n",
       "      <th>971</th>\n",
       "      <td>-0.345401</td>\n",
       "      <td>-1.320071</td>\n",
       "      <td>-0.718290</td>\n",
       "      <td>0.629590</td>\n",
       "      <td>0.807265</td>\n",
       "    </tr>\n",
       "    <tr>\n",
       "      <th>972</th>\n",
       "      <td>0.403443</td>\n",
       "      <td>2.157515</td>\n",
       "      <td>-1.323880</td>\n",
       "      <td>0.871502</td>\n",
       "      <td>-0.201172</td>\n",
       "    </tr>\n",
       "    <tr>\n",
       "      <th>973</th>\n",
       "      <td>-1.246609</td>\n",
       "      <td>-0.413094</td>\n",
       "      <td>-0.396685</td>\n",
       "      <td>-1.463023</td>\n",
       "      <td>0.731270</td>\n",
       "    </tr>\n",
       "    <tr>\n",
       "      <th>974</th>\n",
       "      <td>1.315739</td>\n",
       "      <td>1.032161</td>\n",
       "      <td>-0.318450</td>\n",
       "      <td>-1.164374</td>\n",
       "      <td>0.729953</td>\n",
       "    </tr>\n",
       "    <tr>\n",
       "      <th>975</th>\n",
       "      <td>0.199900</td>\n",
       "      <td>0.032767</td>\n",
       "      <td>0.045922</td>\n",
       "      <td>0.180221</td>\n",
       "      <td>0.700809</td>\n",
       "    </tr>\n",
       "    <tr>\n",
       "      <th>976</th>\n",
       "      <td>1.775953</td>\n",
       "      <td>-2.188740</td>\n",
       "      <td>-0.571008</td>\n",
       "      <td>-0.544356</td>\n",
       "      <td>-1.981431</td>\n",
       "    </tr>\n",
       "    <tr>\n",
       "      <th>977</th>\n",
       "      <td>0.086610</td>\n",
       "      <td>1.247931</td>\n",
       "      <td>0.394311</td>\n",
       "      <td>1.857867</td>\n",
       "      <td>-3.340469</td>\n",
       "    </tr>\n",
       "    <tr>\n",
       "      <th>978</th>\n",
       "      <td>0.321996</td>\n",
       "      <td>0.049000</td>\n",
       "      <td>0.521024</td>\n",
       "      <td>-0.504189</td>\n",
       "      <td>1.020696</td>\n",
       "    </tr>\n",
       "    <tr>\n",
       "      <th>979</th>\n",
       "      <td>0.634960</td>\n",
       "      <td>0.727865</td>\n",
       "      <td>-1.550981</td>\n",
       "      <td>-0.038508</td>\n",
       "      <td>0.030337</td>\n",
       "    </tr>\n",
       "    <tr>\n",
       "      <th>980</th>\n",
       "      <td>-0.738644</td>\n",
       "      <td>1.504382</td>\n",
       "      <td>-0.609228</td>\n",
       "      <td>-0.058690</td>\n",
       "      <td>1.117944</td>\n",
       "    </tr>\n",
       "    <tr>\n",
       "      <th>981</th>\n",
       "      <td>0.578014</td>\n",
       "      <td>1.096434</td>\n",
       "      <td>-0.380589</td>\n",
       "      <td>2.127914</td>\n",
       "      <td>-0.691937</td>\n",
       "    </tr>\n",
       "    <tr>\n",
       "      <th>982</th>\n",
       "      <td>-0.776170</td>\n",
       "      <td>0.107943</td>\n",
       "      <td>-0.721520</td>\n",
       "      <td>0.068442</td>\n",
       "      <td>-0.350465</td>\n",
       "    </tr>\n",
       "    <tr>\n",
       "      <th>983</th>\n",
       "      <td>0.191437</td>\n",
       "      <td>-0.474447</td>\n",
       "      <td>2.172607</td>\n",
       "      <td>0.263033</td>\n",
       "      <td>-0.854764</td>\n",
       "    </tr>\n",
       "    <tr>\n",
       "      <th>984</th>\n",
       "      <td>1.613186</td>\n",
       "      <td>0.101431</td>\n",
       "      <td>0.666384</td>\n",
       "      <td>0.654632</td>\n",
       "      <td>1.346054</td>\n",
       "    </tr>\n",
       "    <tr>\n",
       "      <th>985</th>\n",
       "      <td>0.532596</td>\n",
       "      <td>-1.272136</td>\n",
       "      <td>2.374528</td>\n",
       "      <td>-0.809191</td>\n",
       "      <td>-1.051743</td>\n",
       "    </tr>\n",
       "    <tr>\n",
       "      <th>986</th>\n",
       "      <td>-1.087503</td>\n",
       "      <td>-0.083201</td>\n",
       "      <td>0.291605</td>\n",
       "      <td>0.928295</td>\n",
       "      <td>1.348445</td>\n",
       "    </tr>\n",
       "    <tr>\n",
       "      <th>987</th>\n",
       "      <td>0.562511</td>\n",
       "      <td>0.799510</td>\n",
       "      <td>-1.351411</td>\n",
       "      <td>0.892198</td>\n",
       "      <td>-0.303308</td>\n",
       "    </tr>\n",
       "    <tr>\n",
       "      <th>988</th>\n",
       "      <td>-1.301420</td>\n",
       "      <td>0.941589</td>\n",
       "      <td>0.406639</td>\n",
       "      <td>0.226949</td>\n",
       "      <td>-0.845787</td>\n",
       "    </tr>\n",
       "    <tr>\n",
       "      <th>989</th>\n",
       "      <td>0.151608</td>\n",
       "      <td>0.259382</td>\n",
       "      <td>-0.323015</td>\n",
       "      <td>-0.825429</td>\n",
       "      <td>-0.893177</td>\n",
       "    </tr>\n",
       "    <tr>\n",
       "      <th>990</th>\n",
       "      <td>-0.617960</td>\n",
       "      <td>-2.344616</td>\n",
       "      <td>0.576733</td>\n",
       "      <td>0.332883</td>\n",
       "      <td>0.376793</td>\n",
       "    </tr>\n",
       "    <tr>\n",
       "      <th>991</th>\n",
       "      <td>1.156969</td>\n",
       "      <td>-1.972064</td>\n",
       "      <td>0.148381</td>\n",
       "      <td>-0.233703</td>\n",
       "      <td>-0.377715</td>\n",
       "    </tr>\n",
       "    <tr>\n",
       "      <th>992</th>\n",
       "      <td>0.413931</td>\n",
       "      <td>0.372013</td>\n",
       "      <td>1.709799</td>\n",
       "      <td>0.983942</td>\n",
       "      <td>-1.075954</td>\n",
       "    </tr>\n",
       "    <tr>\n",
       "      <th>993</th>\n",
       "      <td>-1.792172</td>\n",
       "      <td>-0.905637</td>\n",
       "      <td>1.687352</td>\n",
       "      <td>0.748824</td>\n",
       "      <td>1.778484</td>\n",
       "    </tr>\n",
       "    <tr>\n",
       "      <th>994</th>\n",
       "      <td>-0.686015</td>\n",
       "      <td>-1.151230</td>\n",
       "      <td>-0.550978</td>\n",
       "      <td>-1.012865</td>\n",
       "      <td>0.599347</td>\n",
       "    </tr>\n",
       "    <tr>\n",
       "      <th>995</th>\n",
       "      <td>-0.184321</td>\n",
       "      <td>0.766813</td>\n",
       "      <td>1.501902</td>\n",
       "      <td>0.204322</td>\n",
       "      <td>0.404298</td>\n",
       "    </tr>\n",
       "    <tr>\n",
       "      <th>996</th>\n",
       "      <td>-1.292931</td>\n",
       "      <td>-0.275122</td>\n",
       "      <td>0.459422</td>\n",
       "      <td>-0.735011</td>\n",
       "      <td>0.124738</td>\n",
       "    </tr>\n",
       "    <tr>\n",
       "      <th>997</th>\n",
       "      <td>-1.179102</td>\n",
       "      <td>-0.602549</td>\n",
       "      <td>-1.717491</td>\n",
       "      <td>0.735724</td>\n",
       "      <td>-1.202951</td>\n",
       "    </tr>\n",
       "    <tr>\n",
       "      <th>998</th>\n",
       "      <td>1.045333</td>\n",
       "      <td>-0.039230</td>\n",
       "      <td>-0.280667</td>\n",
       "      <td>-0.721801</td>\n",
       "      <td>-1.493832</td>\n",
       "    </tr>\n",
       "    <tr>\n",
       "      <th>999</th>\n",
       "      <td>0.379512</td>\n",
       "      <td>0.171505</td>\n",
       "      <td>1.355123</td>\n",
       "      <td>-0.372541</td>\n",
       "      <td>0.259838</td>\n",
       "    </tr>\n",
       "  </tbody>\n",
       "</table>\n",
       "<p>1000 rows × 5 columns</p>\n",
       "</div>"
      ],
      "text/plain": [
       "            0         1         2         3         4\n",
       "0    0.646902  0.458781  0.160737 -0.050862 -0.112215\n",
       "1   -0.754866  0.550206 -0.489823 -0.891884 -2.727380\n",
       "2   -2.021157 -0.541520 -1.214842  1.658103 -1.449825\n",
       "3    0.420028  2.122123 -0.245825 -1.631072  1.102039\n",
       "4   -0.366071 -0.826553 -0.561772 -2.369811 -0.812363\n",
       "5   -0.116635  0.849535 -0.477603  1.273722 -2.336463\n",
       "6   -1.057143 -1.001456  1.440642  0.270954 -0.320548\n",
       "7    0.381766 -0.005303 -0.851964  1.719079  2.014669\n",
       "8    1.028739 -1.279225 -1.850856  0.008095 -1.179051\n",
       "9   -0.558042  0.431705  0.348529  1.242510 -0.211434\n",
       "10   0.582695  0.986894 -3.144516  0.650536 -0.000741\n",
       "11   0.814296 -0.764777 -0.392169 -1.955033  0.294000\n",
       "12  -0.556459 -0.154641  0.191730  0.772257 -0.409070\n",
       "13  -2.109626  0.123842  0.648405  0.588917 -0.887019\n",
       "14  -1.140953 -1.012783  0.379316 -0.181892  0.564675\n",
       "15  -1.566885  0.995043 -0.587863 -0.499863  0.429786\n",
       "16  -0.012963 -1.939778  0.311918  0.064929 -1.253436\n",
       "17   1.354998  0.161577 -1.049116 -0.254993 -0.233156\n",
       "18  -0.936048 -1.006728  0.453557 -0.694374  0.259965\n",
       "19  -2.231888  0.514036  0.820987  0.060190  1.434336\n",
       "20  -1.143106  1.178793  0.087019 -0.156521  0.698580\n",
       "21  -0.144500  0.995518 -1.013457  0.223510 -0.103362\n",
       "22  -0.743607 -0.821403  0.274088 -2.255627  0.845665\n",
       "23  -0.308370 -0.803049 -0.121852 -0.873723 -0.076340\n",
       "24  -1.424567 -0.662985 -1.099664 -0.521869 -0.592521\n",
       "25  -1.215402 -2.078707  0.870592  0.812924 -0.193481\n",
       "26   0.272546 -0.306366 -0.036724 -0.002326  0.278188\n",
       "27  -1.405004  1.350775 -0.336271  0.077373  0.489668\n",
       "28  -1.141360 -0.654873  2.287752  1.809534  1.119275\n",
       "29   0.390862 -0.610846  0.357697  0.195639  0.433177\n",
       "..        ...       ...       ...       ...       ...\n",
       "970 -1.332948 -0.089893 -0.248492 -0.265217 -1.103290\n",
       "971 -0.345401 -1.320071 -0.718290  0.629590  0.807265\n",
       "972  0.403443  2.157515 -1.323880  0.871502 -0.201172\n",
       "973 -1.246609 -0.413094 -0.396685 -1.463023  0.731270\n",
       "974  1.315739  1.032161 -0.318450 -1.164374  0.729953\n",
       "975  0.199900  0.032767  0.045922  0.180221  0.700809\n",
       "976  1.775953 -2.188740 -0.571008 -0.544356 -1.981431\n",
       "977  0.086610  1.247931  0.394311  1.857867 -3.340469\n",
       "978  0.321996  0.049000  0.521024 -0.504189  1.020696\n",
       "979  0.634960  0.727865 -1.550981 -0.038508  0.030337\n",
       "980 -0.738644  1.504382 -0.609228 -0.058690  1.117944\n",
       "981  0.578014  1.096434 -0.380589  2.127914 -0.691937\n",
       "982 -0.776170  0.107943 -0.721520  0.068442 -0.350465\n",
       "983  0.191437 -0.474447  2.172607  0.263033 -0.854764\n",
       "984  1.613186  0.101431  0.666384  0.654632  1.346054\n",
       "985  0.532596 -1.272136  2.374528 -0.809191 -1.051743\n",
       "986 -1.087503 -0.083201  0.291605  0.928295  1.348445\n",
       "987  0.562511  0.799510 -1.351411  0.892198 -0.303308\n",
       "988 -1.301420  0.941589  0.406639  0.226949 -0.845787\n",
       "989  0.151608  0.259382 -0.323015 -0.825429 -0.893177\n",
       "990 -0.617960 -2.344616  0.576733  0.332883  0.376793\n",
       "991  1.156969 -1.972064  0.148381 -0.233703 -0.377715\n",
       "992  0.413931  0.372013  1.709799  0.983942 -1.075954\n",
       "993 -1.792172 -0.905637  1.687352  0.748824  1.778484\n",
       "994 -0.686015 -1.151230 -0.550978 -1.012865  0.599347\n",
       "995 -0.184321  0.766813  1.501902  0.204322  0.404298\n",
       "996 -1.292931 -0.275122  0.459422 -0.735011  0.124738\n",
       "997 -1.179102 -0.602549 -1.717491  0.735724 -1.202951\n",
       "998  1.045333 -0.039230 -0.280667 -0.721801 -1.493832\n",
       "999  0.379512  0.171505  1.355123 -0.372541  0.259838\n",
       "\n",
       "[1000 rows x 5 columns]"
      ]
     },
     "execution_count": 121,
     "metadata": {},
     "output_type": "execute_result"
    }
   ],
   "source": [
    "data = np.random.randn(1000,5)\n",
    "df = DataFrame(data)\n",
    "df"
   ]
  },
  {
   "cell_type": "code",
   "execution_count": 122,
   "metadata": {
    "collapsed": true
   },
   "outputs": [
    {
     "data": {
      "text/html": [
       "<div>\n",
       "<style scoped>\n",
       "    .dataframe tbody tr th:only-of-type {\n",
       "        vertical-align: middle;\n",
       "    }\n",
       "\n",
       "    .dataframe tbody tr th {\n",
       "        vertical-align: top;\n",
       "    }\n",
       "\n",
       "    .dataframe thead th {\n",
       "        text-align: right;\n",
       "    }\n",
       "</style>\n",
       "<table border=\"1\" class=\"dataframe\">\n",
       "  <thead>\n",
       "    <tr style=\"text-align: right;\">\n",
       "      <th></th>\n",
       "      <th>0</th>\n",
       "      <th>1</th>\n",
       "      <th>2</th>\n",
       "      <th>3</th>\n",
       "      <th>4</th>\n",
       "    </tr>\n",
       "  </thead>\n",
       "  <tbody>\n",
       "    <tr>\n",
       "      <th>count</th>\n",
       "      <td>1000.000000</td>\n",
       "      <td>1000.000000</td>\n",
       "      <td>1000.000000</td>\n",
       "      <td>1000.000000</td>\n",
       "      <td>1000.000000</td>\n",
       "    </tr>\n",
       "    <tr>\n",
       "      <th>mean</th>\n",
       "      <td>-0.064284</td>\n",
       "      <td>-0.005540</td>\n",
       "      <td>-0.029213</td>\n",
       "      <td>-0.047367</td>\n",
       "      <td>-0.030298</td>\n",
       "    </tr>\n",
       "    <tr>\n",
       "      <th>std</th>\n",
       "      <td>0.999622</td>\n",
       "      <td>0.998413</td>\n",
       "      <td>1.005455</td>\n",
       "      <td>0.970277</td>\n",
       "      <td>0.996398</td>\n",
       "    </tr>\n",
       "    <tr>\n",
       "      <th>min</th>\n",
       "      <td>-3.244842</td>\n",
       "      <td>-3.563314</td>\n",
       "      <td>-3.144516</td>\n",
       "      <td>-2.920514</td>\n",
       "      <td>-3.425484</td>\n",
       "    </tr>\n",
       "    <tr>\n",
       "      <th>25%</th>\n",
       "      <td>-0.727001</td>\n",
       "      <td>-0.697520</td>\n",
       "      <td>-0.654369</td>\n",
       "      <td>-0.722621</td>\n",
       "      <td>-0.678477</td>\n",
       "    </tr>\n",
       "    <tr>\n",
       "      <th>50%</th>\n",
       "      <td>-0.066295</td>\n",
       "      <td>0.014070</td>\n",
       "      <td>-0.038016</td>\n",
       "      <td>-0.038128</td>\n",
       "      <td>0.006327</td>\n",
       "    </tr>\n",
       "    <tr>\n",
       "      <th>75%</th>\n",
       "      <td>0.562850</td>\n",
       "      <td>0.675553</td>\n",
       "      <td>0.648869</td>\n",
       "      <td>0.597189</td>\n",
       "      <td>0.658080</td>\n",
       "    </tr>\n",
       "    <tr>\n",
       "      <th>max</th>\n",
       "      <td>3.358399</td>\n",
       "      <td>4.253374</td>\n",
       "      <td>2.919353</td>\n",
       "      <td>3.138706</td>\n",
       "      <td>3.115740</td>\n",
       "    </tr>\n",
       "  </tbody>\n",
       "</table>\n",
       "</div>"
      ],
      "text/plain": [
       "                 0            1            2            3            4\n",
       "count  1000.000000  1000.000000  1000.000000  1000.000000  1000.000000\n",
       "mean     -0.064284    -0.005540    -0.029213    -0.047367    -0.030298\n",
       "std       0.999622     0.998413     1.005455     0.970277     0.996398\n",
       "min      -3.244842    -3.563314    -3.144516    -2.920514    -3.425484\n",
       "25%      -0.727001    -0.697520    -0.654369    -0.722621    -0.678477\n",
       "50%      -0.066295     0.014070    -0.038016    -0.038128     0.006327\n",
       "75%       0.562850     0.675553     0.648869     0.597189     0.658080\n",
       "max       3.358399     4.253374     2.919353     3.138706     3.115740"
      ]
     },
     "execution_count": 122,
     "metadata": {},
     "output_type": "execute_result"
    }
   ],
   "source": [
    "df.describe()"
   ]
  },
  {
   "cell_type": "markdown",
   "metadata": {},
   "source": [
    "使用std()函数可以求得DataFrame对象每一列的标准差"
   ]
  },
  {
   "cell_type": "code",
   "execution_count": 151,
   "metadata": {
    "collapsed": true
   },
   "outputs": [
    {
     "data": {
      "text/plain": [
       "0    0.999622\n",
       "1    0.998413\n",
       "2    1.005455\n",
       "3    0.970277\n",
       "4    0.996398\n",
       "dtype: float64"
      ]
     },
     "execution_count": 151,
     "metadata": {},
     "output_type": "execute_result"
    }
   ],
   "source": [
    "df.std()"
   ]
  },
  {
   "cell_type": "markdown",
   "metadata": {},
   "source": [
    "根据每一列或行的标准差，对DataFrame元素进行过滤。\n",
    "\n",
    "借助any()或all()函数, 测试是否有True，有一个或以上返回True，反之返回False\n",
    "\n",
    "对每一列应用筛选条件,去除标准差太大的数据"
   ]
  },
  {
   "cell_type": "code",
   "execution_count": 150,
   "metadata": {
    "collapsed": true
   },
   "outputs": [
    {
     "data": {
      "text/html": [
       "<div>\n",
       "<style scoped>\n",
       "    .dataframe tbody tr th:only-of-type {\n",
       "        vertical-align: middle;\n",
       "    }\n",
       "\n",
       "    .dataframe tbody tr th {\n",
       "        vertical-align: top;\n",
       "    }\n",
       "\n",
       "    .dataframe thead th {\n",
       "        text-align: right;\n",
       "    }\n",
       "</style>\n",
       "<table border=\"1\" class=\"dataframe\">\n",
       "  <thead>\n",
       "    <tr style=\"text-align: right;\">\n",
       "      <th></th>\n",
       "      <th>0</th>\n",
       "      <th>1</th>\n",
       "      <th>2</th>\n",
       "      <th>3</th>\n",
       "      <th>4</th>\n",
       "    </tr>\n",
       "  </thead>\n",
       "  <tbody>\n",
       "    <tr>\n",
       "      <th>243</th>\n",
       "      <td>-2.501238</td>\n",
       "      <td>3.863485</td>\n",
       "      <td>-0.496771</td>\n",
       "      <td>-0.694454</td>\n",
       "      <td>0.210509</td>\n",
       "    </tr>\n",
       "    <tr>\n",
       "      <th>334</th>\n",
       "      <td>3.358399</td>\n",
       "      <td>0.833767</td>\n",
       "      <td>-1.367917</td>\n",
       "      <td>0.651089</td>\n",
       "      <td>-0.067588</td>\n",
       "    </tr>\n",
       "    <tr>\n",
       "      <th>364</th>\n",
       "      <td>2.977903</td>\n",
       "      <td>-0.542442</td>\n",
       "      <td>0.310394</td>\n",
       "      <td>1.342096</td>\n",
       "      <td>-2.207332</td>\n",
       "    </tr>\n",
       "    <tr>\n",
       "      <th>617</th>\n",
       "      <td>0.535072</td>\n",
       "      <td>-0.311766</td>\n",
       "      <td>-1.394649</td>\n",
       "      <td>0.139071</td>\n",
       "      <td>3.115740</td>\n",
       "    </tr>\n",
       "    <tr>\n",
       "      <th>679</th>\n",
       "      <td>-0.226781</td>\n",
       "      <td>-0.248396</td>\n",
       "      <td>2.580431</td>\n",
       "      <td>3.138706</td>\n",
       "      <td>-0.461940</td>\n",
       "    </tr>\n",
       "    <tr>\n",
       "      <th>774</th>\n",
       "      <td>0.547871</td>\n",
       "      <td>4.253374</td>\n",
       "      <td>-1.266269</td>\n",
       "      <td>-0.181839</td>\n",
       "      <td>-0.028927</td>\n",
       "    </tr>\n",
       "    <tr>\n",
       "      <th>816</th>\n",
       "      <td>3.135140</td>\n",
       "      <td>1.121601</td>\n",
       "      <td>1.032683</td>\n",
       "      <td>0.223086</td>\n",
       "      <td>0.240447</td>\n",
       "    </tr>\n",
       "  </tbody>\n",
       "</table>\n",
       "</div>"
      ],
      "text/plain": [
       "            0         1         2         3         4\n",
       "243 -2.501238  3.863485 -0.496771 -0.694454  0.210509\n",
       "334  3.358399  0.833767 -1.367917  0.651089 -0.067588\n",
       "364  2.977903 -0.542442  0.310394  1.342096 -2.207332\n",
       "617  0.535072 -0.311766 -1.394649  0.139071  3.115740\n",
       "679 -0.226781 -0.248396  2.580431  3.138706 -0.461940\n",
       "774  0.547871  4.253374 -1.266269 -0.181839 -0.028927\n",
       "816  3.135140  1.121601  1.032683  0.223086  0.240447"
      ]
     },
     "execution_count": 150,
     "metadata": {},
     "output_type": "execute_result"
    }
   ],
   "source": [
    "# 每一行是一个样本 每一列是一类统计信息\n",
    "df.mean() # 每一列的均值 (这类信息所有样本的概况) Series\n",
    "df-df.mean()# DataFrame - Series  df中每一行都和Series做运算\n",
    "df-df.mean()>3*df.std() # 某个值比平局值大很多 超过了标准差的3倍\n",
    "(df-df.mean()>3*df.std()).any() # 哪一列有\n",
    "(df-df.mean()>3*df.std()).any(axis=1) # 哪一行有\n",
    "df[(df-df.mean()>3*df.std()).any(axis=1)] # 异常样本检测"
   ]
  },
  {
   "cell_type": "markdown",
   "metadata": {},
   "source": [
    "删除特定索引df.drop(labels,inplace = True)"
   ]
  },
  {
   "cell_type": "code",
   "execution_count": 156,
   "metadata": {
    "collapsed": true
   },
   "outputs": [
    {
     "data": {
      "text/plain": [
       "Int64Index([243, 334, 364, 617, 679, 774, 816], dtype='int64')"
      ]
     },
     "execution_count": 156,
     "metadata": {},
     "output_type": "execute_result"
    }
   ],
   "source": [
    "drop_idx = df[(df-df.mean()>3*df.std()).any(axis=1)].index\n",
    "drop_idx"
   ]
  },
  {
   "cell_type": "code",
   "execution_count": 164,
   "metadata": {
    "collapsed": true
   },
   "outputs": [
    {
     "data": {
      "text/plain": [
       "(993, 5)"
      ]
     },
     "execution_count": 164,
     "metadata": {},
     "output_type": "execute_result"
    }
   ],
   "source": [
    "df.shape"
   ]
  },
  {
   "cell_type": "code",
   "execution_count": 162,
   "metadata": {},
   "outputs": [],
   "source": [
    "df.drop(drop_idx,inplace=True) # 默认就是删除行"
   ]
  },
  {
   "cell_type": "code",
   "execution_count": 91,
   "metadata": {},
   "outputs": [],
   "source": []
  },
  {
   "cell_type": "code",
   "execution_count": 165,
   "metadata": {},
   "outputs": [],
   "source": [
    "# 异常数据对于 ML模型训练的危害"
   ]
  },
  {
   "cell_type": "code",
   "execution_count": null,
   "metadata": {},
   "outputs": [],
   "source": []
  },
  {
   "cell_type": "markdown",
   "metadata": {},
   "source": [
    "============================================\n",
    "\n",
    "练习21：\n",
    "\n",
    "    新建一个形状为10000*3的标准正态分布的DataFrame(np.random.randn)，去除掉所有满足以下情况的行：其中任一元素绝对值大于3倍标准差\n",
    "\n",
    "============================================"
   ]
  },
  {
   "cell_type": "code",
   "execution_count": null,
   "metadata": {},
   "outputs": [],
   "source": []
  },
  {
   "cell_type": "markdown",
   "metadata": {},
   "source": [
    "## 4. 排序"
   ]
  },
  {
   "cell_type": "markdown",
   "metadata": {},
   "source": [
    "#### 使用.take()函数排序\n",
    "\n",
    "    - take()函数接受一个索引列表，用数字表示\n",
    "    - eg:df.take([1,3,4,2,5])\n",
    "\n",
    "可以借助np.random.permutation()函数随机排序"
   ]
  },
  {
   "cell_type": "code",
   "execution_count": 166,
   "metadata": {
    "collapsed": true
   },
   "outputs": [
    {
     "data": {
      "text/html": [
       "<div>\n",
       "<style scoped>\n",
       "    .dataframe tbody tr th:only-of-type {\n",
       "        vertical-align: middle;\n",
       "    }\n",
       "\n",
       "    .dataframe tbody tr th {\n",
       "        vertical-align: top;\n",
       "    }\n",
       "\n",
       "    .dataframe thead th {\n",
       "        text-align: right;\n",
       "    }\n",
       "</style>\n",
       "<table border=\"1\" class=\"dataframe\">\n",
       "  <thead>\n",
       "    <tr style=\"text-align: right;\">\n",
       "      <th></th>\n",
       "      <th>甲</th>\n",
       "      <th>乙</th>\n",
       "      <th>丙</th>\n",
       "      <th>丁</th>\n",
       "      <th>戊</th>\n",
       "    </tr>\n",
       "  </thead>\n",
       "  <tbody>\n",
       "    <tr>\n",
       "      <th>A</th>\n",
       "      <td>94</td>\n",
       "      <td>56</td>\n",
       "      <td>42</td>\n",
       "      <td>61</td>\n",
       "      <td>35</td>\n",
       "    </tr>\n",
       "    <tr>\n",
       "      <th>B</th>\n",
       "      <td>97</td>\n",
       "      <td>35</td>\n",
       "      <td>87</td>\n",
       "      <td>36</td>\n",
       "      <td>29</td>\n",
       "    </tr>\n",
       "    <tr>\n",
       "      <th>C</th>\n",
       "      <td>0</td>\n",
       "      <td>47</td>\n",
       "      <td>5</td>\n",
       "      <td>17</td>\n",
       "      <td>17</td>\n",
       "    </tr>\n",
       "    <tr>\n",
       "      <th>D</th>\n",
       "      <td>54</td>\n",
       "      <td>46</td>\n",
       "      <td>47</td>\n",
       "      <td>77</td>\n",
       "      <td>49</td>\n",
       "    </tr>\n",
       "    <tr>\n",
       "      <th>E</th>\n",
       "      <td>93</td>\n",
       "      <td>1</td>\n",
       "      <td>39</td>\n",
       "      <td>79</td>\n",
       "      <td>78</td>\n",
       "    </tr>\n",
       "  </tbody>\n",
       "</table>\n",
       "</div>"
      ],
      "text/plain": [
       "    甲   乙   丙   丁   戊\n",
       "A  94  56  42  61  35\n",
       "B  97  35  87  36  29\n",
       "C   0  47   5  17  17\n",
       "D  54  46  47  77  49\n",
       "E  93   1  39  79  78"
      ]
     },
     "execution_count": 166,
     "metadata": {},
     "output_type": "execute_result"
    }
   ],
   "source": [
    "data = np.random.randint(0,100,size=(5,5))\n",
    "index = list('ABCDE')\n",
    "columns = list('甲乙丙丁戊')\n",
    "df = DataFrame(data=data,index=index,columns=columns)\n",
    "df"
   ]
  },
  {
   "cell_type": "code",
   "execution_count": 167,
   "metadata": {
    "collapsed": true
   },
   "outputs": [
    {
     "data": {
      "text/html": [
       "<div>\n",
       "<style scoped>\n",
       "    .dataframe tbody tr th:only-of-type {\n",
       "        vertical-align: middle;\n",
       "    }\n",
       "\n",
       "    .dataframe tbody tr th {\n",
       "        vertical-align: top;\n",
       "    }\n",
       "\n",
       "    .dataframe thead th {\n",
       "        text-align: right;\n",
       "    }\n",
       "</style>\n",
       "<table border=\"1\" class=\"dataframe\">\n",
       "  <thead>\n",
       "    <tr style=\"text-align: right;\">\n",
       "      <th></th>\n",
       "      <th>丁</th>\n",
       "      <th>乙</th>\n",
       "      <th>丙</th>\n",
       "      <th>甲</th>\n",
       "      <th>戊</th>\n",
       "    </tr>\n",
       "  </thead>\n",
       "  <tbody>\n",
       "    <tr>\n",
       "      <th>A</th>\n",
       "      <td>61</td>\n",
       "      <td>56</td>\n",
       "      <td>42</td>\n",
       "      <td>94</td>\n",
       "      <td>35</td>\n",
       "    </tr>\n",
       "    <tr>\n",
       "      <th>B</th>\n",
       "      <td>36</td>\n",
       "      <td>35</td>\n",
       "      <td>87</td>\n",
       "      <td>97</td>\n",
       "      <td>29</td>\n",
       "    </tr>\n",
       "    <tr>\n",
       "      <th>C</th>\n",
       "      <td>17</td>\n",
       "      <td>47</td>\n",
       "      <td>5</td>\n",
       "      <td>0</td>\n",
       "      <td>17</td>\n",
       "    </tr>\n",
       "    <tr>\n",
       "      <th>D</th>\n",
       "      <td>77</td>\n",
       "      <td>46</td>\n",
       "      <td>47</td>\n",
       "      <td>54</td>\n",
       "      <td>49</td>\n",
       "    </tr>\n",
       "    <tr>\n",
       "      <th>E</th>\n",
       "      <td>79</td>\n",
       "      <td>1</td>\n",
       "      <td>39</td>\n",
       "      <td>93</td>\n",
       "      <td>78</td>\n",
       "    </tr>\n",
       "  </tbody>\n",
       "</table>\n",
       "</div>"
      ],
      "text/plain": [
       "    丁   乙   丙   甲   戊\n",
       "A  61  56  42  94  35\n",
       "B  36  35  87  97  29\n",
       "C  17  47   5   0  17\n",
       "D  77  46  47  54  49\n",
       "E  79   1  39  93  78"
      ]
     },
     "execution_count": 167,
     "metadata": {},
     "output_type": "execute_result"
    }
   ],
   "source": [
    "df.take([3,1,2,0,4]) # 行\n",
    "df.take([3,1,2,0,4],axis=1) # 列"
   ]
  },
  {
   "cell_type": "code",
   "execution_count": 169,
   "metadata": {},
   "outputs": [
    {
     "data": {
      "text/plain": [
       "array([2, 3, 8, 1, 0, 4, 7, 6, 5, 9])"
      ]
     },
     "execution_count": 169,
     "metadata": {},
     "output_type": "execute_result"
    }
   ],
   "source": [
    "np.random.permutation(10) # 0-10的随机数 10个"
   ]
  },
  {
   "cell_type": "code",
   "execution_count": 107,
   "metadata": {
    "collapsed": true
   },
   "outputs": [
    {
     "data": {
      "text/html": [
       "<div>\n",
       "<style scoped>\n",
       "    .dataframe tbody tr th:only-of-type {\n",
       "        vertical-align: middle;\n",
       "    }\n",
       "\n",
       "    .dataframe tbody tr th {\n",
       "        vertical-align: top;\n",
       "    }\n",
       "\n",
       "    .dataframe thead th {\n",
       "        text-align: right;\n",
       "    }\n",
       "</style>\n",
       "<table border=\"1\" class=\"dataframe\">\n",
       "  <thead>\n",
       "    <tr style=\"text-align: right;\">\n",
       "      <th></th>\n",
       "      <th>甲</th>\n",
       "      <th>乙</th>\n",
       "      <th>丙</th>\n",
       "      <th>丁</th>\n",
       "      <th>戊</th>\n",
       "    </tr>\n",
       "  </thead>\n",
       "  <tbody>\n",
       "    <tr>\n",
       "      <th>C</th>\n",
       "      <td>25</td>\n",
       "      <td>99</td>\n",
       "      <td>35</td>\n",
       "      <td>28</td>\n",
       "      <td>39</td>\n",
       "    </tr>\n",
       "    <tr>\n",
       "      <th>D</th>\n",
       "      <td>92</td>\n",
       "      <td>18</td>\n",
       "      <td>93</td>\n",
       "      <td>96</td>\n",
       "      <td>94</td>\n",
       "    </tr>\n",
       "    <tr>\n",
       "      <th>E</th>\n",
       "      <td>39</td>\n",
       "      <td>81</td>\n",
       "      <td>97</td>\n",
       "      <td>52</td>\n",
       "      <td>76</td>\n",
       "    </tr>\n",
       "    <tr>\n",
       "      <th>A</th>\n",
       "      <td>38</td>\n",
       "      <td>25</td>\n",
       "      <td>29</td>\n",
       "      <td>82</td>\n",
       "      <td>30</td>\n",
       "    </tr>\n",
       "    <tr>\n",
       "      <th>B</th>\n",
       "      <td>11</td>\n",
       "      <td>50</td>\n",
       "      <td>9</td>\n",
       "      <td>62</td>\n",
       "      <td>3</td>\n",
       "    </tr>\n",
       "  </tbody>\n",
       "</table>\n",
       "</div>"
      ],
      "text/plain": [
       "    甲   乙   丙   丁   戊\n",
       "C  25  99  35  28  39\n",
       "D  92  18  93  96  94\n",
       "E  39  81  97  52  76\n",
       "A  38  25  29  82  30\n",
       "B  11  50   9  62   3"
      ]
     },
     "execution_count": 107,
     "metadata": {},
     "output_type": "execute_result"
    }
   ],
   "source": [
    "# 使用permutation 产生随机索引 来随机排序\n",
    "df.take(np.random.permutation(5))"
   ]
  },
  {
   "cell_type": "markdown",
   "metadata": {},
   "source": [
    "#### 随机抽样"
   ]
  },
  {
   "cell_type": "markdown",
   "metadata": {},
   "source": [
    "当DataFrame规模足够大时，直接使用np.random.randint()函数，就配合take()函数实现随机抽样"
   ]
  },
  {
   "cell_type": "code",
   "execution_count": 182,
   "metadata": {
    "collapsed": true
   },
   "outputs": [
    {
     "data": {
      "text/html": [
       "<div>\n",
       "<style scoped>\n",
       "    .dataframe tbody tr th:only-of-type {\n",
       "        vertical-align: middle;\n",
       "    }\n",
       "\n",
       "    .dataframe tbody tr th {\n",
       "        vertical-align: top;\n",
       "    }\n",
       "\n",
       "    .dataframe thead th {\n",
       "        text-align: right;\n",
       "    }\n",
       "</style>\n",
       "<table border=\"1\" class=\"dataframe\">\n",
       "  <thead>\n",
       "    <tr style=\"text-align: right;\">\n",
       "      <th></th>\n",
       "      <th>甲</th>\n",
       "      <th>乙</th>\n",
       "      <th>丙</th>\n",
       "      <th>丁</th>\n",
       "      <th>戊</th>\n",
       "    </tr>\n",
       "  </thead>\n",
       "  <tbody>\n",
       "    <tr>\n",
       "      <th>A</th>\n",
       "      <td>94</td>\n",
       "      <td>56</td>\n",
       "      <td>42</td>\n",
       "      <td>61</td>\n",
       "      <td>35</td>\n",
       "    </tr>\n",
       "    <tr>\n",
       "      <th>D</th>\n",
       "      <td>54</td>\n",
       "      <td>46</td>\n",
       "      <td>47</td>\n",
       "      <td>77</td>\n",
       "      <td>49</td>\n",
       "    </tr>\n",
       "  </tbody>\n",
       "</table>\n",
       "</div>"
      ],
      "text/plain": [
       "    甲   乙   丙   丁   戊\n",
       "A  94  56  42  61  35\n",
       "D  54  46  47  77  49"
      ]
     },
     "execution_count": 182,
     "metadata": {},
     "output_type": "execute_result"
    }
   ],
   "source": [
    "df.take(np.random.randint(0,5,size=2))\n",
    "# randint的随机数可能重复 可能取不全 是随机抽样\n",
    "# permutation只是打乱顺序值不会少也不会重复"
   ]
  },
  {
   "cell_type": "markdown",
   "metadata": {},
   "source": [
    "============================================\n",
    "\n",
    "\n",
    "练习22：\n",
    "\n",
    "   假设有张三李四王老五的期中考试成绩ddd2，对着三名同学随机排序\n",
    "\n",
    "============================================"
   ]
  },
  {
   "cell_type": "code",
   "execution_count": 181,
   "metadata": {},
   "outputs": [
    {
     "data": {
      "text/html": [
       "<div>\n",
       "<style scoped>\n",
       "    .dataframe tbody tr th:only-of-type {\n",
       "        vertical-align: middle;\n",
       "    }\n",
       "\n",
       "    .dataframe tbody tr th {\n",
       "        vertical-align: top;\n",
       "    }\n",
       "\n",
       "    .dataframe thead th {\n",
       "        text-align: right;\n",
       "    }\n",
       "</style>\n",
       "<table border=\"1\" class=\"dataframe\">\n",
       "  <thead>\n",
       "    <tr style=\"text-align: right;\">\n",
       "      <th></th>\n",
       "      <th>甲</th>\n",
       "      <th>乙</th>\n",
       "      <th>丙</th>\n",
       "      <th>丁</th>\n",
       "      <th>戊</th>\n",
       "    </tr>\n",
       "  </thead>\n",
       "  <tbody>\n",
       "    <tr>\n",
       "      <th>A</th>\n",
       "      <td>94</td>\n",
       "      <td>56</td>\n",
       "      <td>42</td>\n",
       "      <td>61</td>\n",
       "      <td>35</td>\n",
       "    </tr>\n",
       "    <tr>\n",
       "      <th>E</th>\n",
       "      <td>93</td>\n",
       "      <td>1</td>\n",
       "      <td>39</td>\n",
       "      <td>79</td>\n",
       "      <td>78</td>\n",
       "    </tr>\n",
       "    <tr>\n",
       "      <th>B</th>\n",
       "      <td>97</td>\n",
       "      <td>35</td>\n",
       "      <td>87</td>\n",
       "      <td>36</td>\n",
       "      <td>29</td>\n",
       "    </tr>\n",
       "    <tr>\n",
       "      <th>C</th>\n",
       "      <td>0</td>\n",
       "      <td>47</td>\n",
       "      <td>5</td>\n",
       "      <td>17</td>\n",
       "      <td>17</td>\n",
       "    </tr>\n",
       "    <tr>\n",
       "      <th>D</th>\n",
       "      <td>54</td>\n",
       "      <td>46</td>\n",
       "      <td>47</td>\n",
       "      <td>77</td>\n",
       "      <td>49</td>\n",
       "    </tr>\n",
       "  </tbody>\n",
       "</table>\n",
       "</div>"
      ],
      "text/plain": [
       "    甲   乙   丙   丁   戊\n",
       "A  94  56  42  61  35\n",
       "E  93   1  39  79  78\n",
       "B  97  35  87  36  29\n",
       "C   0  47   5  17  17\n",
       "D  54  46  47  77  49"
      ]
     },
     "execution_count": 181,
     "metadata": {},
     "output_type": "execute_result"
    }
   ],
   "source": [
    "df.take(np.random.permutation(5))"
   ]
  },
  {
   "cell_type": "markdown",
   "metadata": {},
   "source": [
    "## 5. 数据分类处理【重点】"
   ]
  },
  {
   "cell_type": "markdown",
   "metadata": {},
   "source": [
    "数据聚合是数据处理的最后一步，通常是要使每一个数组生成一个单一的数值。\n",
    "\n",
    "数据分类处理：\n",
    "\n",
    " - 分组：先把数据分为几组\n",
    " - 用函数处理：为不同组的数据应用不同的函数以转换数据\n",
    " - 合并：把不同组得到的结果合并起来\n",
    " \n",
    "数据分类处理的核心：\n",
    "     - groupby()函数\n",
    "     - groups属性查看分组情况"
   ]
  },
  {
   "cell_type": "code",
   "execution_count": 206,
   "metadata": {
    "collapsed": true
   },
   "outputs": [
    {
     "data": {
      "text/html": [
       "<div>\n",
       "<style scoped>\n",
       "    .dataframe tbody tr th:only-of-type {\n",
       "        vertical-align: middle;\n",
       "    }\n",
       "\n",
       "    .dataframe tbody tr th {\n",
       "        vertical-align: top;\n",
       "    }\n",
       "\n",
       "    .dataframe thead th {\n",
       "        text-align: right;\n",
       "    }\n",
       "</style>\n",
       "<table border=\"1\" class=\"dataframe\">\n",
       "  <thead>\n",
       "    <tr style=\"text-align: right;\">\n",
       "      <th></th>\n",
       "      <th>item</th>\n",
       "      <th>price</th>\n",
       "      <th>color</th>\n",
       "      <th>weight</th>\n",
       "    </tr>\n",
       "  </thead>\n",
       "  <tbody>\n",
       "    <tr>\n",
       "      <th>0</th>\n",
       "      <td>苹果</td>\n",
       "      <td>4.0</td>\n",
       "      <td>red</td>\n",
       "      <td>12</td>\n",
       "    </tr>\n",
       "    <tr>\n",
       "      <th>1</th>\n",
       "      <td>香蕉</td>\n",
       "      <td>3.0</td>\n",
       "      <td>yellow</td>\n",
       "      <td>20</td>\n",
       "    </tr>\n",
       "    <tr>\n",
       "      <th>2</th>\n",
       "      <td>橘子</td>\n",
       "      <td>3.0</td>\n",
       "      <td>yellow</td>\n",
       "      <td>50</td>\n",
       "    </tr>\n",
       "    <tr>\n",
       "      <th>3</th>\n",
       "      <td>香蕉</td>\n",
       "      <td>2.5</td>\n",
       "      <td>green</td>\n",
       "      <td>30</td>\n",
       "    </tr>\n",
       "    <tr>\n",
       "      <th>4</th>\n",
       "      <td>橘子</td>\n",
       "      <td>4.0</td>\n",
       "      <td>green</td>\n",
       "      <td>20</td>\n",
       "    </tr>\n",
       "    <tr>\n",
       "      <th>5</th>\n",
       "      <td>苹果</td>\n",
       "      <td>2.0</td>\n",
       "      <td>green</td>\n",
       "      <td>44</td>\n",
       "    </tr>\n",
       "    <tr>\n",
       "      <th>6</th>\n",
       "      <td>苹果</td>\n",
       "      <td>2.8</td>\n",
       "      <td>yello</td>\n",
       "      <td>37</td>\n",
       "    </tr>\n",
       "  </tbody>\n",
       "</table>\n",
       "</div>"
      ],
      "text/plain": [
       "  item  price   color  weight\n",
       "0   苹果    4.0     red      12\n",
       "1   香蕉    3.0  yellow      20\n",
       "2   橘子    3.0  yellow      50\n",
       "3   香蕉    2.5   green      30\n",
       "4   橘子    4.0   green      20\n",
       "5   苹果    2.0   green      44\n",
       "6   苹果    2.8   yello      37"
      ]
     },
     "execution_count": 206,
     "metadata": {},
     "output_type": "execute_result"
    }
   ],
   "source": [
    "# 示例数据 不要删！！！\n",
    "df = DataFrame({'item':['苹果','香蕉','橘子','香蕉','橘子','苹果','苹果'],\n",
    "                'price':[4,3,3,2.5,4,2,2.8],\n",
    "               'color':['red','yellow','yellow','green','green','green','yello'],\n",
    "               'weight':[12,20,50,30,20,44,37]})\n",
    "df"
   ]
  },
  {
   "cell_type": "markdown",
   "metadata": {
    "scrolled": true
   },
   "source": [
    "- 根据item分组,查看结果"
   ]
  },
  {
   "cell_type": "code",
   "execution_count": 240,
   "metadata": {
    "collapsed": true
   },
   "outputs": [
    {
     "data": {
      "text/plain": [
       "{'冬瓜': Int64Index([3, 8], dtype='int64'),\n",
       " '白菜': Int64Index([1, 5, 6], dtype='int64'),\n",
       " '萝卜': Int64Index([0, 7], dtype='int64'),\n",
       " '辣椒': Int64Index([2, 4], dtype='int64')}"
      ]
     },
     "execution_count": 240,
     "metadata": {},
     "output_type": "execute_result"
    }
   ],
   "source": [
    "df.groupby('item').groups"
   ]
  },
  {
   "cell_type": "markdown",
   "metadata": {},
   "source": [
    "- 获取weight的总和"
   ]
  },
  {
   "cell_type": "code",
   "execution_count": 226,
   "metadata": {
    "collapsed": true
   },
   "outputs": [
    {
     "data": {
      "text/plain": [
       "item\n",
       "橘子    70\n",
       "苹果    93\n",
       "香蕉    50\n",
       "Name: weight, dtype: int64"
      ]
     },
     "execution_count": 226,
     "metadata": {},
     "output_type": "execute_result"
    }
   ],
   "source": [
    "weight = df.groupby('item')['weight'].sum()\n",
    "df_weight = DataFrame(weight)\n",
    "df_weight\n",
    "df.groupby('item')[\"weight\"].sum()"
   ]
  },
  {
   "cell_type": "markdown",
   "metadata": {
    "collapsed": true
   },
   "source": [
    "- 把总和跟df进行merge合并"
   ]
  },
  {
   "cell_type": "code",
   "execution_count": 210,
   "metadata": {
    "collapsed": true
   },
   "outputs": [
    {
     "data": {
      "text/html": [
       "<div>\n",
       "<style scoped>\n",
       "    .dataframe tbody tr th:only-of-type {\n",
       "        vertical-align: middle;\n",
       "    }\n",
       "\n",
       "    .dataframe tbody tr th {\n",
       "        vertical-align: top;\n",
       "    }\n",
       "\n",
       "    .dataframe thead th {\n",
       "        text-align: right;\n",
       "    }\n",
       "</style>\n",
       "<table border=\"1\" class=\"dataframe\">\n",
       "  <thead>\n",
       "    <tr style=\"text-align: right;\">\n",
       "      <th></th>\n",
       "      <th>item</th>\n",
       "      <th>price</th>\n",
       "      <th>color</th>\n",
       "      <th>weight</th>\n",
       "      <th>weight_sum</th>\n",
       "    </tr>\n",
       "  </thead>\n",
       "  <tbody>\n",
       "    <tr>\n",
       "      <th>0</th>\n",
       "      <td>苹果</td>\n",
       "      <td>4.0</td>\n",
       "      <td>red</td>\n",
       "      <td>12</td>\n",
       "      <td>93</td>\n",
       "    </tr>\n",
       "    <tr>\n",
       "      <th>1</th>\n",
       "      <td>苹果</td>\n",
       "      <td>2.0</td>\n",
       "      <td>green</td>\n",
       "      <td>44</td>\n",
       "      <td>93</td>\n",
       "    </tr>\n",
       "    <tr>\n",
       "      <th>2</th>\n",
       "      <td>苹果</td>\n",
       "      <td>2.8</td>\n",
       "      <td>yello</td>\n",
       "      <td>37</td>\n",
       "      <td>93</td>\n",
       "    </tr>\n",
       "    <tr>\n",
       "      <th>3</th>\n",
       "      <td>香蕉</td>\n",
       "      <td>3.0</td>\n",
       "      <td>yellow</td>\n",
       "      <td>20</td>\n",
       "      <td>50</td>\n",
       "    </tr>\n",
       "    <tr>\n",
       "      <th>4</th>\n",
       "      <td>香蕉</td>\n",
       "      <td>2.5</td>\n",
       "      <td>green</td>\n",
       "      <td>30</td>\n",
       "      <td>50</td>\n",
       "    </tr>\n",
       "    <tr>\n",
       "      <th>5</th>\n",
       "      <td>橘子</td>\n",
       "      <td>3.0</td>\n",
       "      <td>yellow</td>\n",
       "      <td>50</td>\n",
       "      <td>70</td>\n",
       "    </tr>\n",
       "    <tr>\n",
       "      <th>6</th>\n",
       "      <td>橘子</td>\n",
       "      <td>4.0</td>\n",
       "      <td>green</td>\n",
       "      <td>20</td>\n",
       "      <td>70</td>\n",
       "    </tr>\n",
       "  </tbody>\n",
       "</table>\n",
       "</div>"
      ],
      "text/plain": [
       "  item  price   color  weight  weight_sum\n",
       "0   苹果    4.0     red      12          93\n",
       "1   苹果    2.0   green      44          93\n",
       "2   苹果    2.8   yello      37          93\n",
       "3   香蕉    3.0  yellow      20          50\n",
       "4   香蕉    2.5   green      30          50\n",
       "5   橘子    3.0  yellow      50          70\n",
       "6   橘子    4.0   green      20          70"
      ]
     },
     "execution_count": 210,
     "metadata": {},
     "output_type": "execute_result"
    }
   ],
   "source": [
    "pd.merge(df,df_weight,on='item',suffixes=[\"\",\"_sum\"])"
   ]
  },
  {
   "cell_type": "code",
   "execution_count": null,
   "metadata": {},
   "outputs": [],
   "source": []
  },
  {
   "cell_type": "code",
   "execution_count": null,
   "metadata": {},
   "outputs": [],
   "source": []
  },
  {
   "cell_type": "code",
   "execution_count": null,
   "metadata": {},
   "outputs": [],
   "source": []
  }
 ],
 "metadata": {
  "kernelspec": {
   "display_name": "Python 3",
   "language": "python",
   "name": "python3"
  },
  "language_info": {
   "codemirror_mode": {
    "name": "ipython",
    "version": 3
   },
   "file_extension": ".py",
   "mimetype": "text/x-python",
   "name": "python",
   "nbconvert_exporter": "python",
   "pygments_lexer": "ipython3",
   "version": "3.6.5"
  }
 },
 "nbformat": 4,
 "nbformat_minor": 1
}
