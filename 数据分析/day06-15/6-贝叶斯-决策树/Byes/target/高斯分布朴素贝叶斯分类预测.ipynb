{
 "cells": [
  {
   "cell_type": "code",
   "execution_count": 24,
   "metadata": {},
   "outputs": [],
   "source": [
    "import numpy as np\n",
    "import pandas as pd\n",
    "from pandas import Series,DataFrame\n",
    "import matplotlib.pyplot as plt\n",
    "%matplotlib inline\n",
    "\n",
    "from sklearn.naive_bayes import GaussianNB\n",
    "from sklearn.neighbors import KNeighborsClassifier\n",
    "from sklearn.linear_model import LogisticRegression\n",
    "from sklearn.datasets import load_iris\n",
    "from sklearn.model_selection import train_test_split"
   ]
  },
  {
   "cell_type": "code",
   "execution_count": 5,
   "metadata": {},
   "outputs": [],
   "source": [
    "iris = load_iris()\n",
    "data = iris.data\n",
    "target = iris.target"
   ]
  },
  {
   "cell_type": "code",
   "execution_count": 11,
   "metadata": {},
   "outputs": [],
   "source": [
    "X_train,X_test,y_train,y_test = train_test_split(data,target,test_size=0.2)"
   ]
  },
  {
   "cell_type": "code",
   "execution_count": 25,
   "metadata": {},
   "outputs": [
    {
     "name": "stdout",
     "output_type": "stream",
     "text": [
      "MultinomialNB在测试集上的评分为0.9333333333333333\n",
      "MultinomialNB在训练集上的评分为0.9666666666666667\n"
     ]
    }
   ],
   "source": [
    "mnb = GaussianNB()\n",
    "mnb.fit(X_train,y_train)\n",
    "# 评估分类器的方法\n",
    "print(\"MultinomialNB在测试集上的评分为{}\".format(mnb.score(X_test,y_test)))\n",
    "print(\"MultinomialNB在训练集上的评分为{}\".format(mnb.score(X_train,y_train)))"
   ]
  },
  {
   "cell_type": "code",
   "execution_count": 21,
   "metadata": {},
   "outputs": [
    {
     "name": "stdout",
     "output_type": "stream",
     "text": [
      "KNeighborsClassifier在测试集上的评分为1.0\n",
      "KNeighborsClassifier在训练集上的评分为0.9666666666666667\n"
     ]
    }
   ],
   "source": [
    "knn = KNeighborsClassifier()\n",
    "knn.fit(X_train,y_train)\n",
    "# 评估分类器的方法\n",
    "print(\"KNeighborsClassifier在测试集上的评分为{}\".format(knn.score(X_test,y_test)))\n",
    "print(\"KNeighborsClassifier在训练集上的评分为{}\".format(knn.score(X_train,y_train)))"
   ]
  },
  {
   "cell_type": "code",
   "execution_count": 22,
   "metadata": {},
   "outputs": [
    {
     "name": "stdout",
     "output_type": "stream",
     "text": [
      "LogisticRegression在测试集上的评分为1.0\n",
      "LogisticRegression在训练集上的评分为0.9583333333333334\n"
     ]
    }
   ],
   "source": [
    "logistic = LogisticRegression()\n",
    "logistic.fit(X_train,y_train)\n",
    "# 评估分类器的方法\n",
    "print(\"LogisticRegression在测试集上的评分为{}\".format(logistic.score(X_test,y_test)))\n",
    "print(\"LogisticRegression在训练集上的评分为{}\".format(logistic.score(X_train,y_train)))"
   ]
  }
 ],
 "metadata": {
  "kernelspec": {
   "display_name": "Python 3",
   "language": "python",
   "name": "python3"
  },
  "language_info": {
   "codemirror_mode": {
    "name": "ipython",
    "version": 3
   },
   "file_extension": ".py",
   "mimetype": "text/x-python",
   "name": "python",
   "nbconvert_exporter": "python",
   "pygments_lexer": "ipython3",
   "version": "3.6.2"
  }
 },
 "nbformat": 4,
 "nbformat_minor": 2
}
