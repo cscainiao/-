{
 "cells": [
  {
   "cell_type": "code",
   "execution_count": 1,
   "metadata": {},
   "outputs": [],
   "source": [
    "import numpy as np\n",
    "import pandas as pd\n",
    "from pandas import Series,DataFrame\n",
    "\n",
    "import matplotlib.pyplot as plt\n",
    "%matplotlib inline"
   ]
  },
  {
   "cell_type": "markdown",
   "metadata": {},
   "source": [
    "## 线型图\n",
    "\n",
    "用于描述数据的变化趋势"
   ]
  },
  {
   "cell_type": "code",
   "execution_count": 3,
   "metadata": {
    "collapsed": true
   },
   "outputs": [
    {
     "data": {
      "text/plain": [
       "<matplotlib.axes._subplots.AxesSubplot at 0x23ae8dbc860>"
      ]
     },
     "execution_count": 3,
     "metadata": {},
     "output_type": "execute_result"
    },
    {
     "data": {
      "image/png": "[encoded data removed]",
      "text/plain": [
       "<matplotlib.figure.Figure at 0x23ae8dc94e0>"
      ]
     },
     "metadata": {},
     "output_type": "display_data"
    }
   ],
   "source": [
    "# 10年-18年房价数据\n",
    "data = Series(data=[20000,26000,30000,36000,45000,55000,56000,58000,57000],index=[2010,2011,2012,2013,2014,2015,2016,2017,2018])\n",
    "data.plot()"
   ]
  },
  {
   "cell_type": "code",
   "execution_count": 7,
   "metadata": {
    "collapsed": true
   },
   "outputs": [
    {
     "data": {
      "text/html": [
       "<div>\n",
       "<style scoped>\n",
       "    .dataframe tbody tr th:only-of-type {\n",
       "        vertical-align: middle;\n",
       "    }\n",
       "\n",
       "    .dataframe tbody tr th {\n",
       "        vertical-align: top;\n",
       "    }\n",
       "\n",
       "    .dataframe thead th {\n",
       "        text-align: right;\n",
       "    }\n",
       "</style>\n",
       "<table border=\"1\" class=\"dataframe\">\n",
       "  <thead>\n",
       "    <tr style=\"text-align: right;\">\n",
       "      <th></th>\n",
       "      <th>beijing</th>\n",
       "      <th>chengdu</th>\n",
       "      <th>guangzhou</th>\n",
       "    </tr>\n",
       "  </thead>\n",
       "  <tbody>\n",
       "    <tr>\n",
       "      <th>2010</th>\n",
       "      <td>20000</td>\n",
       "      <td>6000</td>\n",
       "      <td>10000</td>\n",
       "    </tr>\n",
       "    <tr>\n",
       "      <th>2011</th>\n",
       "      <td>26000</td>\n",
       "      <td>6500</td>\n",
       "      <td>12500</td>\n",
       "    </tr>\n",
       "    <tr>\n",
       "      <th>2012</th>\n",
       "      <td>30000</td>\n",
       "      <td>8000</td>\n",
       "      <td>13000</td>\n",
       "    </tr>\n",
       "    <tr>\n",
       "      <th>2013</th>\n",
       "      <td>36000</td>\n",
       "      <td>8000</td>\n",
       "      <td>14000</td>\n",
       "    </tr>\n",
       "    <tr>\n",
       "      <th>2014</th>\n",
       "      <td>45000</td>\n",
       "      <td>8500</td>\n",
       "      <td>15500</td>\n",
       "    </tr>\n",
       "    <tr>\n",
       "      <th>2015</th>\n",
       "      <td>55000</td>\n",
       "      <td>8800</td>\n",
       "      <td>15800</td>\n",
       "    </tr>\n",
       "    <tr>\n",
       "      <th>2016</th>\n",
       "      <td>56000</td>\n",
       "      <td>10000</td>\n",
       "      <td>20000</td>\n",
       "    </tr>\n",
       "    <tr>\n",
       "      <th>2017</th>\n",
       "      <td>58000</td>\n",
       "      <td>12000</td>\n",
       "      <td>23000</td>\n",
       "    </tr>\n",
       "    <tr>\n",
       "      <th>2018</th>\n",
       "      <td>57000</td>\n",
       "      <td>20000</td>\n",
       "      <td>30000</td>\n",
       "    </tr>\n",
       "  </tbody>\n",
       "</table>\n",
       "</div>"
      ],
      "text/plain": [
       "      beijing  chengdu  guangzhou\n",
       "2010    20000     6000      10000\n",
       "2011    26000     6500      12500\n",
       "2012    30000     8000      13000\n",
       "2013    36000     8000      14000\n",
       "2014    45000     8500      15500\n",
       "2015    55000     8800      15800\n",
       "2016    56000    10000      20000\n",
       "2017    58000    12000      23000\n",
       "2018    57000    20000      30000"
      ]
     },
     "metadata": {},
     "output_type": "display_data"
    },
    {
     "data": {
      "text/plain": [
       "<matplotlib.axes._subplots.AxesSubplot at 0x23ae900eb38>"
      ]
     },
     "execution_count": 7,
     "metadata": {},
     "output_type": "execute_result"
    },
    {
     "data": {
      "image/png": "[encoded data removed]",
      "text/plain": [
       "<matplotlib.figure.Figure at 0x23ae910e7f0>"
      ]
     },
     "metadata": {},
     "output_type": "display_data"
    }
   ],
   "source": [
    "data1 = Series(data=[20000,26000,30000,36000,45000,55000,56000,58000,57000],\n",
    "               index=[2010,2011,2012,2013,2014,2015,2016,2017,2018],name='beijing')\n",
    "data2 = Series(data=[6000,6500,8000,8000,8500,8800,10000,12000,20000],\n",
    "               index=[2010,2011,2012,2013,2014,2015,2016,2017,2018],name='chengdu')\n",
    "data3 = Series(data=[10000,12500,13000,14000,15500,15800,20000,23000,30000],\n",
    "               index=[2010,2011,2012,2013,2014,2015,2016,2017,2018],name='guangzhou')\n",
    "\n",
    "price = DataFrame({\n",
    "    'beijing':data1,\n",
    "    'chengdu':data2,\n",
    "    'guangzhou':data3\n",
    "})\n",
    "# DataFrame绘制线型图，每一列成为一条线，表示每一个特征的走势，有几个特征就绘制几条数据线\n",
    "display(price)\n",
    "price.plot()"
   ]
  },
  {
   "cell_type": "markdown",
   "metadata": {},
   "source": [
    "## 柱状图\n",
    "\n",
    "用于描述数据值本身大小"
   ]
  },
  {
   "cell_type": "code",
   "execution_count": 9,
   "metadata": {
    "scrolled": true
   },
   "outputs": [
    {
     "data": {
      "text/plain": [
       "<matplotlib.axes._subplots.AxesSubplot at 0x23ae9c4c6a0>"
      ]
     },
     "execution_count": 9,
     "metadata": {},
     "output_type": "execute_result"
    },
    {
     "data": {
      "image/png": "[encoded data removed]",
      "text/plain": [
       "<matplotlib.figure.Figure at 0x23aea1e1dd8>"
      ]
     },
     "metadata": {},
     "output_type": "display_data"
    }
   ],
   "source": [
    "# 创建5个班级的python的平均成绩，比较各个班级成绩的好坏\n",
    "python_score = Series(data=np.random.randint(0,100,size=5),index=['class1','class2','class3','class4','class5'])\n",
    "python_score.plot(kind='bar')"
   ]
  },
  {
   "cell_type": "code",
   "execution_count": 13,
   "metadata": {
    "collapsed": true
   },
   "outputs": [
    {
     "data": {
      "text/html": [
       "<div>\n",
       "<style scoped>\n",
       "    .dataframe tbody tr th:only-of-type {\n",
       "        vertical-align: middle;\n",
       "    }\n",
       "\n",
       "    .dataframe tbody tr th {\n",
       "        vertical-align: top;\n",
       "    }\n",
       "\n",
       "    .dataframe thead th {\n",
       "        text-align: right;\n",
       "    }\n",
       "</style>\n",
       "<table border=\"1\" class=\"dataframe\">\n",
       "  <thead>\n",
       "    <tr style=\"text-align: right;\">\n",
       "      <th></th>\n",
       "      <th>java</th>\n",
       "      <th>php</th>\n",
       "      <th>python</th>\n",
       "    </tr>\n",
       "  </thead>\n",
       "  <tbody>\n",
       "    <tr>\n",
       "      <th>class1</th>\n",
       "      <td>70</td>\n",
       "      <td>44</td>\n",
       "      <td>42</td>\n",
       "    </tr>\n",
       "    <tr>\n",
       "      <th>class2</th>\n",
       "      <td>48</td>\n",
       "      <td>54</td>\n",
       "      <td>49</td>\n",
       "    </tr>\n",
       "    <tr>\n",
       "      <th>class3</th>\n",
       "      <td>42</td>\n",
       "      <td>34</td>\n",
       "      <td>56</td>\n",
       "    </tr>\n",
       "    <tr>\n",
       "      <th>class4</th>\n",
       "      <td>52</td>\n",
       "      <td>42</td>\n",
       "      <td>27</td>\n",
       "    </tr>\n",
       "    <tr>\n",
       "      <th>class5</th>\n",
       "      <td>36</td>\n",
       "      <td>12</td>\n",
       "      <td>17</td>\n",
       "    </tr>\n",
       "  </tbody>\n",
       "</table>\n",
       "</div>"
      ],
      "text/plain": [
       "        java  php  python\n",
       "class1    70   44      42\n",
       "class2    48   54      49\n",
       "class3    42   34      56\n",
       "class4    52   42      27\n",
       "class5    36   12      17"
      ]
     },
     "metadata": {},
     "output_type": "display_data"
    },
    {
     "data": {
      "text/plain": [
       "<matplotlib.axes._subplots.AxesSubplot at 0x23aea1cc550>"
      ]
     },
     "execution_count": 13,
     "metadata": {},
     "output_type": "execute_result"
    },
    {
     "data": {
      "image/png": "[encoded data removed]",
      "text/plain": [
       "<matplotlib.figure.Figure at 0x23aea084390>"
      ]
     },
     "metadata": {},
     "output_type": "display_data"
    }
   ],
   "source": [
    "index = index=['class1','class2','class3','class4','class5']\n",
    "python_score = Series(data=np.random.randint(0,100,size=5),index=index)\n",
    "java_score = Series(data=np.random.randint(0,100,size=5),index=index)\n",
    "php_score = Series(data=np.random.randint(0,100,size=5),index=index)\n",
    "\n",
    "class_score = DataFrame({\n",
    "    'python':python_score,\n",
    "    'java':java_score,\n",
    "    'php':php_score\n",
    "})\n",
    "\n",
    "display(class_score)\n",
    "class_score.plot(kind='bar')"
   ]
  },
  {
   "cell_type": "code",
   "execution_count": 12,
   "metadata": {
    "collapsed": true
   },
   "outputs": [
    {
     "data": {
      "text/plain": [
       "<matplotlib.axes._subplots.AxesSubplot at 0x23ae8dc48d0>"
      ]
     },
     "execution_count": 12,
     "metadata": {},
     "output_type": "execute_result"
    },
    {
     "data": {
      "image/png": "[encoded data removed]",
      "text/plain": [
       "<matplotlib.figure.Figure at 0x23aea1c14a8>"
      ]
     },
     "metadata": {},
     "output_type": "display_data"
    }
   ],
   "source": [
    "class_score.plot(kind='barh')"
   ]
  },
  {
   "cell_type": "markdown",
   "metadata": {},
   "source": [
    "## 直方图"
   ]
  },
  {
   "cell_type": "code",
   "execution_count": 40,
   "metadata": {
    "scrolled": true
   },
   "outputs": [
    {
     "data": {
      "text/plain": [
       "array([5, 8, 9, 5, 0, 0, 1, 7, 6, 9])"
      ]
     },
     "metadata": {},
     "output_type": "display_data"
    },
    {
     "data": {
      "text/plain": [
       "<matplotlib.axes._subplots.AxesSubplot at 0x23aeda476a0>"
      ]
     },
     "execution_count": 40,
     "metadata": {},
     "output_type": "execute_result"
    },
    {
     "data": {
      "image/png": "[encoded data removed]",
      "text/plain": [
       "<matplotlib.figure.Figure at 0x23aeda389b0>"
      ]
     },
     "metadata": {},
     "output_type": "display_data"
    }
   ],
   "source": [
    "# 随机数种子，固定随机数的随机情况\n",
    "# 不同的种子控制不同的随机\n",
    "np.random.seed(1)\n",
    "n = Series(np.random.randint(0,10,size=10))\n",
    "display(n.values)\n",
    "# 直方图经常跟核密度估计配合使用\n",
    "# 直方图用来描述数据出现的次数\n",
    "# 核密度图用来描述数据分布的趋势\n",
    "# normed = True 把直方图数据的出现频数转换成频率\n",
    "n.plot(kind='hist',bins=5,normed = True)\n",
    "n.plot(kind='kde')"
   ]
  },
  {
   "cell_type": "code",
   "execution_count": 44,
   "metadata": {
    "collapsed": true
   },
   "outputs": [
    {
     "data": {
      "text/html": [
       "<div>\n",
       "<style scoped>\n",
       "    .dataframe tbody tr th:only-of-type {\n",
       "        vertical-align: middle;\n",
       "    }\n",
       "\n",
       "    .dataframe tbody tr th {\n",
       "        vertical-align: top;\n",
       "    }\n",
       "\n",
       "    .dataframe thead th {\n",
       "        text-align: right;\n",
       "    }\n",
       "</style>\n",
       "<table border=\"1\" class=\"dataframe\">\n",
       "  <thead>\n",
       "    <tr style=\"text-align: right;\">\n",
       "      <th></th>\n",
       "      <th>x</th>\n",
       "      <th>y</th>\n",
       "      <th>z</th>\n",
       "    </tr>\n",
       "  </thead>\n",
       "  <tbody>\n",
       "    <tr>\n",
       "      <th>0</th>\n",
       "      <td>0.000000</td>\n",
       "      <td>0.000000e+00</td>\n",
       "      <td>1.000000</td>\n",
       "    </tr>\n",
       "    <tr>\n",
       "      <th>1</th>\n",
       "      <td>0.161107</td>\n",
       "      <td>1.604113e-01</td>\n",
       "      <td>0.987050</td>\n",
       "    </tr>\n",
       "    <tr>\n",
       "      <th>2</th>\n",
       "      <td>0.322215</td>\n",
       "      <td>3.166680e-01</td>\n",
       "      <td>0.948536</td>\n",
       "    </tr>\n",
       "    <tr>\n",
       "      <th>3</th>\n",
       "      <td>0.483322</td>\n",
       "      <td>4.647232e-01</td>\n",
       "      <td>0.885456</td>\n",
       "    </tr>\n",
       "    <tr>\n",
       "      <th>4</th>\n",
       "      <td>0.644429</td>\n",
       "      <td>6.007423e-01</td>\n",
       "      <td>0.799443</td>\n",
       "    </tr>\n",
       "    <tr>\n",
       "      <th>5</th>\n",
       "      <td>0.805537</td>\n",
       "      <td>7.212024e-01</td>\n",
       "      <td>0.692724</td>\n",
       "    </tr>\n",
       "    <tr>\n",
       "      <th>6</th>\n",
       "      <td>0.966644</td>\n",
       "      <td>8.229839e-01</td>\n",
       "      <td>0.568065</td>\n",
       "    </tr>\n",
       "    <tr>\n",
       "      <th>7</th>\n",
       "      <td>1.127751</td>\n",
       "      <td>9.034504e-01</td>\n",
       "      <td>0.428693</td>\n",
       "    </tr>\n",
       "    <tr>\n",
       "      <th>8</th>\n",
       "      <td>1.288859</td>\n",
       "      <td>9.605181e-01</td>\n",
       "      <td>0.278217</td>\n",
       "    </tr>\n",
       "    <tr>\n",
       "      <th>9</th>\n",
       "      <td>1.449966</td>\n",
       "      <td>9.927089e-01</td>\n",
       "      <td>0.120537</td>\n",
       "    </tr>\n",
       "    <tr>\n",
       "      <th>10</th>\n",
       "      <td>1.611073</td>\n",
       "      <td>9.991890e-01</td>\n",
       "      <td>-0.040266</td>\n",
       "    </tr>\n",
       "    <tr>\n",
       "      <th>11</th>\n",
       "      <td>1.772180</td>\n",
       "      <td>9.797907e-01</td>\n",
       "      <td>-0.200026</td>\n",
       "    </tr>\n",
       "    <tr>\n",
       "      <th>12</th>\n",
       "      <td>1.933288</td>\n",
       "      <td>9.350162e-01</td>\n",
       "      <td>-0.354605</td>\n",
       "    </tr>\n",
       "    <tr>\n",
       "      <th>13</th>\n",
       "      <td>2.094395</td>\n",
       "      <td>8.660254e-01</td>\n",
       "      <td>-0.500000</td>\n",
       "    </tr>\n",
       "    <tr>\n",
       "      <th>14</th>\n",
       "      <td>2.255502</td>\n",
       "      <td>7.746050e-01</td>\n",
       "      <td>-0.632445</td>\n",
       "    </tr>\n",
       "    <tr>\n",
       "      <th>15</th>\n",
       "      <td>2.416610</td>\n",
       "      <td>6.631227e-01</td>\n",
       "      <td>-0.748511</td>\n",
       "    </tr>\n",
       "    <tr>\n",
       "      <th>16</th>\n",
       "      <td>2.577717</td>\n",
       "      <td>5.344658e-01</td>\n",
       "      <td>-0.845190</td>\n",
       "    </tr>\n",
       "    <tr>\n",
       "      <th>17</th>\n",
       "      <td>2.738824</td>\n",
       "      <td>3.919666e-01</td>\n",
       "      <td>-0.919979</td>\n",
       "    </tr>\n",
       "    <tr>\n",
       "      <th>18</th>\n",
       "      <td>2.899932</td>\n",
       "      <td>2.393157e-01</td>\n",
       "      <td>-0.970942</td>\n",
       "    </tr>\n",
       "    <tr>\n",
       "      <th>19</th>\n",
       "      <td>3.061039</td>\n",
       "      <td>8.046657e-02</td>\n",
       "      <td>-0.996757</td>\n",
       "    </tr>\n",
       "    <tr>\n",
       "      <th>20</th>\n",
       "      <td>3.222146</td>\n",
       "      <td>-8.046657e-02</td>\n",
       "      <td>-0.996757</td>\n",
       "    </tr>\n",
       "    <tr>\n",
       "      <th>21</th>\n",
       "      <td>3.383254</td>\n",
       "      <td>-2.393157e-01</td>\n",
       "      <td>-0.970942</td>\n",
       "    </tr>\n",
       "    <tr>\n",
       "      <th>22</th>\n",
       "      <td>3.544361</td>\n",
       "      <td>-3.919666e-01</td>\n",
       "      <td>-0.919979</td>\n",
       "    </tr>\n",
       "    <tr>\n",
       "      <th>23</th>\n",
       "      <td>3.705468</td>\n",
       "      <td>-5.344658e-01</td>\n",
       "      <td>-0.845190</td>\n",
       "    </tr>\n",
       "    <tr>\n",
       "      <th>24</th>\n",
       "      <td>3.866576</td>\n",
       "      <td>-6.631227e-01</td>\n",
       "      <td>-0.748511</td>\n",
       "    </tr>\n",
       "    <tr>\n",
       "      <th>25</th>\n",
       "      <td>4.027683</td>\n",
       "      <td>-7.746050e-01</td>\n",
       "      <td>-0.632445</td>\n",
       "    </tr>\n",
       "    <tr>\n",
       "      <th>26</th>\n",
       "      <td>4.188790</td>\n",
       "      <td>-8.660254e-01</td>\n",
       "      <td>-0.500000</td>\n",
       "    </tr>\n",
       "    <tr>\n",
       "      <th>27</th>\n",
       "      <td>4.349898</td>\n",
       "      <td>-9.350162e-01</td>\n",
       "      <td>-0.354605</td>\n",
       "    </tr>\n",
       "    <tr>\n",
       "      <th>28</th>\n",
       "      <td>4.511005</td>\n",
       "      <td>-9.797907e-01</td>\n",
       "      <td>-0.200026</td>\n",
       "    </tr>\n",
       "    <tr>\n",
       "      <th>29</th>\n",
       "      <td>4.672112</td>\n",
       "      <td>-9.991890e-01</td>\n",
       "      <td>-0.040266</td>\n",
       "    </tr>\n",
       "    <tr>\n",
       "      <th>30</th>\n",
       "      <td>4.833219</td>\n",
       "      <td>-9.927089e-01</td>\n",
       "      <td>0.120537</td>\n",
       "    </tr>\n",
       "    <tr>\n",
       "      <th>31</th>\n",
       "      <td>4.994327</td>\n",
       "      <td>-9.605181e-01</td>\n",
       "      <td>0.278217</td>\n",
       "    </tr>\n",
       "    <tr>\n",
       "      <th>32</th>\n",
       "      <td>5.155434</td>\n",
       "      <td>-9.034504e-01</td>\n",
       "      <td>0.428693</td>\n",
       "    </tr>\n",
       "    <tr>\n",
       "      <th>33</th>\n",
       "      <td>5.316541</td>\n",
       "      <td>-8.229839e-01</td>\n",
       "      <td>0.568065</td>\n",
       "    </tr>\n",
       "    <tr>\n",
       "      <th>34</th>\n",
       "      <td>5.477649</td>\n",
       "      <td>-7.212024e-01</td>\n",
       "      <td>0.692724</td>\n",
       "    </tr>\n",
       "    <tr>\n",
       "      <th>35</th>\n",
       "      <td>5.638756</td>\n",
       "      <td>-6.007423e-01</td>\n",
       "      <td>0.799443</td>\n",
       "    </tr>\n",
       "    <tr>\n",
       "      <th>36</th>\n",
       "      <td>5.799863</td>\n",
       "      <td>-4.647232e-01</td>\n",
       "      <td>0.885456</td>\n",
       "    </tr>\n",
       "    <tr>\n",
       "      <th>37</th>\n",
       "      <td>5.960971</td>\n",
       "      <td>-3.166680e-01</td>\n",
       "      <td>0.948536</td>\n",
       "    </tr>\n",
       "    <tr>\n",
       "      <th>38</th>\n",
       "      <td>6.122078</td>\n",
       "      <td>-1.604113e-01</td>\n",
       "      <td>0.987050</td>\n",
       "    </tr>\n",
       "    <tr>\n",
       "      <th>39</th>\n",
       "      <td>6.283185</td>\n",
       "      <td>-2.449294e-16</td>\n",
       "      <td>1.000000</td>\n",
       "    </tr>\n",
       "  </tbody>\n",
       "</table>\n",
       "</div>"
      ],
      "text/plain": [
       "           x             y         z\n",
       "0   0.000000  0.000000e+00  1.000000\n",
       "1   0.161107  1.604113e-01  0.987050\n",
       "2   0.322215  3.166680e-01  0.948536\n",
       "3   0.483322  4.647232e-01  0.885456\n",
       "4   0.644429  6.007423e-01  0.799443\n",
       "5   0.805537  7.212024e-01  0.692724\n",
       "6   0.966644  8.229839e-01  0.568065\n",
       "7   1.127751  9.034504e-01  0.428693\n",
       "8   1.288859  9.605181e-01  0.278217\n",
       "9   1.449966  9.927089e-01  0.120537\n",
       "10  1.611073  9.991890e-01 -0.040266\n",
       "11  1.772180  9.797907e-01 -0.200026\n",
       "12  1.933288  9.350162e-01 -0.354605\n",
       "13  2.094395  8.660254e-01 -0.500000\n",
       "14  2.255502  7.746050e-01 -0.632445\n",
       "15  2.416610  6.631227e-01 -0.748511\n",
       "16  2.577717  5.344658e-01 -0.845190\n",
       "17  2.738824  3.919666e-01 -0.919979\n",
       "18  2.899932  2.393157e-01 -0.970942\n",
       "19  3.061039  8.046657e-02 -0.996757\n",
       "20  3.222146 -8.046657e-02 -0.996757\n",
       "21  3.383254 -2.393157e-01 -0.970942\n",
       "22  3.544361 -3.919666e-01 -0.919979\n",
       "23  3.705468 -5.344658e-01 -0.845190\n",
       "24  3.866576 -6.631227e-01 -0.748511\n",
       "25  4.027683 -7.746050e-01 -0.632445\n",
       "26  4.188790 -8.660254e-01 -0.500000\n",
       "27  4.349898 -9.350162e-01 -0.354605\n",
       "28  4.511005 -9.797907e-01 -0.200026\n",
       "29  4.672112 -9.991890e-01 -0.040266\n",
       "30  4.833219 -9.927089e-01  0.120537\n",
       "31  4.994327 -9.605181e-01  0.278217\n",
       "32  5.155434 -9.034504e-01  0.428693\n",
       "33  5.316541 -8.229839e-01  0.568065\n",
       "34  5.477649 -7.212024e-01  0.692724\n",
       "35  5.638756 -6.007423e-01  0.799443\n",
       "36  5.799863 -4.647232e-01  0.885456\n",
       "37  5.960971 -3.166680e-01  0.948536\n",
       "38  6.122078 -1.604113e-01  0.987050\n",
       "39  6.283185 -2.449294e-16  1.000000"
      ]
     },
     "execution_count": 44,
     "metadata": {},
     "output_type": "execute_result"
    }
   ],
   "source": [
    "# 弧度\n",
    "x = np.linspace(0,2*np.pi,40)\n",
    "# 正弦\n",
    "y = np.sin(x)\n",
    "# 余弦\n",
    "z = np.cos(x)\n",
    "\n",
    "sin_func = DataFrame({\n",
    "    'x':x,\n",
    "    'y':y,\n",
    "    'z':z\n",
    "})\n",
    "sin_func"
   ]
  },
  {
   "cell_type": "code",
   "execution_count": 46,
   "metadata": {
    "collapsed": true
   },
   "outputs": [
    {
     "data": {
      "text/plain": [
       "<matplotlib.axes._subplots.AxesSubplot at 0x23aedff3198>"
      ]
     },
     "execution_count": 46,
     "metadata": {},
     "output_type": "execute_result"
    },
    {
     "data": {
      "image/png": "[encoded data removed]",
      "text/plain": [
       "<matplotlib.figure.Figure at 0x23aedff5080>"
      ]
     },
     "metadata": {},
     "output_type": "display_data"
    }
   ],
   "source": [
    "# x、y 表示映射在x\\y轴的数据\n",
    "sin_func.plot(kind='scatter',x='y',y='z')"
   ]
  },
  {
   "cell_type": "code",
   "execution_count": 49,
   "metadata": {
    "scrolled": true
   },
   "outputs": [
    {
     "data": {
      "text/plain": [
       "0.8939966636005579"
      ]
     },
     "execution_count": 49,
     "metadata": {},
     "output_type": "execute_result"
    }
   ],
   "source": [
    "np.sin(90)"
   ]
  },
  {
   "cell_type": "markdown",
   "metadata": {},
   "source": [
    "- 弧度/2*np.pi = 角度/360\n",
    "\n",
    "- 求弧度90对应的角度是多少？？"
   ]
  },
  {
   "cell_type": "code",
   "execution_count": 51,
   "metadata": {},
   "outputs": [
    {
     "data": {
      "text/plain": [
       "133.8009881546459"
      ]
     },
     "execution_count": 51,
     "metadata": {},
     "output_type": "execute_result"
    }
   ],
   "source": [
    "(90*360/2*np.pi)%360"
   ]
  }
 ],
 "metadata": {
  "kernelspec": {
   "display_name": "Python 3",
   "language": "python",
   "name": "python3"
  },
  "language_info": {
   "codemirror_mode": {
    "name": "ipython",
    "version": 3
   },
   "file_extension": ".py",
   "mimetype": "text/x-python",
   "name": "python",
   "nbconvert_exporter": "python",
   "pygments_lexer": "ipython3",
   "version": "3.6.4"
  }
 },
 "nbformat": 4,
 "nbformat_minor": 2
}
