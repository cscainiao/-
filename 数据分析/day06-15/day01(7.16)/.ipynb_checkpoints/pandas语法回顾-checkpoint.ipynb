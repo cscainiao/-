{
 "cells": [
  {
   "cell_type": "code",
   "execution_count": 1,
   "metadata": {},
   "outputs": [],
   "source": [
    "import numpy as np\n",
    "import pandas as pd\n",
    "from pandas import Series,DataFrame"
   ]
  },
  {
   "cell_type": "code",
   "execution_count": 2,
   "metadata": {
    "collapsed": true
   },
   "outputs": [
    {
     "data": {
      "text/html": [
       "<div>\n",
       "<style scoped>\n",
       "    .dataframe tbody tr th:only-of-type {\n",
       "        vertical-align: middle;\n",
       "    }\n",
       "\n",
       "    .dataframe tbody tr th {\n",
       "        vertical-align: top;\n",
       "    }\n",
       "\n",
       "    .dataframe thead tr th {\n",
       "        text-align: left;\n",
       "    }\n",
       "</style>\n",
       "<table border=\"1\" class=\"dataframe\">\n",
       "  <thead>\n",
       "    <tr>\n",
       "      <th>城市</th>\n",
       "      <th colspan=\"3\" halign=\"left\">上半年</th>\n",
       "      <th colspan=\"3\" halign=\"left\">下半年</th>\n",
       "    </tr>\n",
       "    <tr>\n",
       "      <th></th>\n",
       "      <th>90#</th>\n",
       "      <th>93#</th>\n",
       "      <th>97#</th>\n",
       "      <th>90#</th>\n",
       "      <th>93#</th>\n",
       "      <th>97#</th>\n",
       "    </tr>\n",
       "  </thead>\n",
       "  <tbody>\n",
       "    <tr>\n",
       "      <th>成都</th>\n",
       "      <td>8000</td>\n",
       "      <td>9000</td>\n",
       "      <td>3000</td>\n",
       "      <td>9000</td>\n",
       "      <td>10000</td>\n",
       "      <td>3200</td>\n",
       "    </tr>\n",
       "    <tr>\n",
       "      <th>绵阳</th>\n",
       "      <td>5600</td>\n",
       "      <td>7000</td>\n",
       "      <td>1600</td>\n",
       "      <td>5800</td>\n",
       "      <td>8000</td>\n",
       "      <td>2100</td>\n",
       "    </tr>\n",
       "    <tr>\n",
       "      <th>汶川</th>\n",
       "      <td>4000</td>\n",
       "      <td>5000</td>\n",
       "      <td>2000</td>\n",
       "      <td>4600</td>\n",
       "      <td>7800</td>\n",
       "      <td>1700</td>\n",
       "    </tr>\n",
       "    <tr>\n",
       "      <th>攀枝花</th>\n",
       "      <td>3200</td>\n",
       "      <td>4500</td>\n",
       "      <td>1000</td>\n",
       "      <td>3400</td>\n",
       "      <td>3800</td>\n",
       "      <td>2000</td>\n",
       "    </tr>\n",
       "  </tbody>\n",
       "</table>\n",
       "</div>"
      ],
      "text/plain": [
       "城市    上半年               下半年             \n",
       "      90#   93#   97#   90#    93#   97#\n",
       "成都   8000  9000  3000  9000  10000  3200\n",
       "绵阳   5600  7000  1600  5800   8000  2100\n",
       "汶川   4000  5000  2000  4600   7800  1700\n",
       "攀枝花  3200  4500  1000  3400   3800  2000"
      ]
     },
     "execution_count": 2,
     "metadata": {},
     "output_type": "execute_result"
    }
   ],
   "source": [
    "# 读取包含多层级索引的excel，使用header参数\n",
    "# header = [index1,index2...] 多层级使用，index1..index2表示多级索引的行\n",
    "# header = None 无列标签时使用\n",
    "pd.read_excel('业务表.xlsx',header=[0,1])"
   ]
  },
  {
   "cell_type": "code",
   "execution_count": 5,
   "metadata": {},
   "outputs": [
    {
     "data": {
      "text/html": [
       "<div>\n",
       "<style scoped>\n",
       "    .dataframe tbody tr th:only-of-type {\n",
       "        vertical-align: middle;\n",
       "    }\n",
       "\n",
       "    .dataframe tbody tr th {\n",
       "        vertical-align: top;\n",
       "    }\n",
       "\n",
       "    .dataframe thead th {\n",
       "        text-align: right;\n",
       "    }\n",
       "</style>\n",
       "<table border=\"1\" class=\"dataframe\">\n",
       "  <thead>\n",
       "    <tr style=\"text-align: right;\">\n",
       "      <th></th>\n",
       "      <th>1</th>\n",
       "      <th>2</th>\n",
       "      <th>3</th>\n",
       "      <th>4</th>\n",
       "      <th>5</th>\n",
       "      <th>6</th>\n",
       "    </tr>\n",
       "    <tr>\n",
       "      <th>0</th>\n",
       "      <th></th>\n",
       "      <th></th>\n",
       "      <th></th>\n",
       "      <th></th>\n",
       "      <th></th>\n",
       "      <th></th>\n",
       "    </tr>\n",
       "  </thead>\n",
       "  <tbody>\n",
       "    <tr>\n",
       "      <th>成都</th>\n",
       "      <td>8000</td>\n",
       "      <td>9000</td>\n",
       "      <td>3000</td>\n",
       "      <td>9000</td>\n",
       "      <td>10000</td>\n",
       "      <td>3200</td>\n",
       "    </tr>\n",
       "    <tr>\n",
       "      <th>绵阳</th>\n",
       "      <td>5600</td>\n",
       "      <td>7000</td>\n",
       "      <td>1600</td>\n",
       "      <td>5800</td>\n",
       "      <td>8000</td>\n",
       "      <td>2100</td>\n",
       "    </tr>\n",
       "    <tr>\n",
       "      <th>汶川</th>\n",
       "      <td>4000</td>\n",
       "      <td>5000</td>\n",
       "      <td>2000</td>\n",
       "      <td>4600</td>\n",
       "      <td>7800</td>\n",
       "      <td>1700</td>\n",
       "    </tr>\n",
       "    <tr>\n",
       "      <th>攀枝花</th>\n",
       "      <td>3200</td>\n",
       "      <td>4500</td>\n",
       "      <td>1000</td>\n",
       "      <td>3400</td>\n",
       "      <td>3800</td>\n",
       "      <td>2000</td>\n",
       "    </tr>\n",
       "  </tbody>\n",
       "</table>\n",
       "</div>"
      ],
      "text/plain": [
       "        1     2     3     4      5     6\n",
       "0                                       \n",
       "成都   8000  9000  3000  9000  10000  3200\n",
       "绵阳   5600  7000  1600  5800   8000  2100\n",
       "汶川   4000  5000  2000  4600   7800  1700\n",
       "攀枝花  3200  4500  1000  3400   3800  2000"
      ]
     },
     "execution_count": 5,
     "metadata": {},
     "output_type": "execute_result"
    }
   ],
   "source": [
    "# sheet_name 用于指定表格当中sheet的编号，0表示sheet1，1表示sheet2。。。\n",
    "# index_col 表示以哪一列作为行索引\n",
    "sheet2 = pd.read_excel('业务表.xlsx',sheet_name=1,header=None,index_col=0)\n",
    "sheet2"
   ]
  },
  {
   "cell_type": "code",
   "execution_count": 20,
   "metadata": {
    "collapsed": true
   },
   "outputs": [
    {
     "data": {
      "text/html": [
       "<div>\n",
       "<style scoped>\n",
       "    .dataframe tbody tr th:only-of-type {\n",
       "        vertical-align: middle;\n",
       "    }\n",
       "\n",
       "    .dataframe tbody tr th {\n",
       "        vertical-align: top;\n",
       "    }\n",
       "\n",
       "    .dataframe thead th {\n",
       "        text-align: right;\n",
       "    }\n",
       "</style>\n",
       "<table border=\"1\" class=\"dataframe\">\n",
       "  <thead>\n",
       "    <tr style=\"text-align: right;\">\n",
       "      <th></th>\n",
       "      <th>0</th>\n",
       "      <th>1</th>\n",
       "      <th>2</th>\n",
       "      <th>3</th>\n",
       "      <th>4</th>\n",
       "      <th>5</th>\n",
       "      <th>6</th>\n",
       "    </tr>\n",
       "  </thead>\n",
       "  <tbody>\n",
       "    <tr>\n",
       "      <th>0</th>\n",
       "      <td>成都</td>\n",
       "      <td>8000</td>\n",
       "      <td>9000</td>\n",
       "      <td>3000</td>\n",
       "      <td>9000</td>\n",
       "      <td>10000</td>\n",
       "      <td>3200</td>\n",
       "    </tr>\n",
       "    <tr>\n",
       "      <th>1</th>\n",
       "      <td>绵阳</td>\n",
       "      <td>5600</td>\n",
       "      <td>7000</td>\n",
       "      <td>1600</td>\n",
       "      <td>5800</td>\n",
       "      <td>8000</td>\n",
       "      <td>2100</td>\n",
       "    </tr>\n",
       "    <tr>\n",
       "      <th>2</th>\n",
       "      <td>汶川</td>\n",
       "      <td>4000</td>\n",
       "      <td>5000</td>\n",
       "      <td>2000</td>\n",
       "      <td>4600</td>\n",
       "      <td>7800</td>\n",
       "      <td>1700</td>\n",
       "    </tr>\n",
       "    <tr>\n",
       "      <th>3</th>\n",
       "      <td>攀枝花</td>\n",
       "      <td>3200</td>\n",
       "      <td>4500</td>\n",
       "      <td>1000</td>\n",
       "      <td>3400</td>\n",
       "      <td>3800</td>\n",
       "      <td>2000</td>\n",
       "    </tr>\n",
       "  </tbody>\n",
       "</table>\n",
       "</div>"
      ],
      "text/plain": [
       "     0     1     2     3     4      5     6\n",
       "0   成都  8000  9000  3000  9000  10000  3200\n",
       "1   绵阳  5600  7000  1600  5800   8000  2100\n",
       "2   汶川  4000  5000  2000  4600   7800  1700\n",
       "3  攀枝花  3200  4500  1000  3400   3800  2000"
      ]
     },
     "execution_count": 20,
     "metadata": {},
     "output_type": "execute_result"
    }
   ],
   "source": [
    "# 设置某一列为行索引\n",
    "# sheet2.set_index(0)\n",
    "# 把行索引设置为新的列\n",
    "# sheet2.reset_index()"
   ]
  },
  {
   "cell_type": "code",
   "execution_count": 6,
   "metadata": {},
   "outputs": [],
   "source": [
    "column = pd.MultiIndex.from_product([['上半年','下半年'],['90#','93#','97#']])"
   ]
  },
  {
   "cell_type": "code",
   "execution_count": 7,
   "metadata": {},
   "outputs": [
    {
     "data": {
      "text/html": [
       "<div>\n",
       "<style scoped>\n",
       "    .dataframe tbody tr th:only-of-type {\n",
       "        vertical-align: middle;\n",
       "    }\n",
       "\n",
       "    .dataframe tbody tr th {\n",
       "        vertical-align: top;\n",
       "    }\n",
       "\n",
       "    .dataframe thead tr th {\n",
       "        text-align: left;\n",
       "    }\n",
       "\n",
       "    .dataframe thead tr:last-of-type th {\n",
       "        text-align: right;\n",
       "    }\n",
       "</style>\n",
       "<table border=\"1\" class=\"dataframe\">\n",
       "  <thead>\n",
       "    <tr>\n",
       "      <th></th>\n",
       "      <th colspan=\"3\" halign=\"left\">上半年</th>\n",
       "      <th colspan=\"3\" halign=\"left\">下半年</th>\n",
       "    </tr>\n",
       "    <tr>\n",
       "      <th></th>\n",
       "      <th>90#</th>\n",
       "      <th>93#</th>\n",
       "      <th>97#</th>\n",
       "      <th>90#</th>\n",
       "      <th>93#</th>\n",
       "      <th>97#</th>\n",
       "    </tr>\n",
       "    <tr>\n",
       "      <th>0</th>\n",
       "      <th></th>\n",
       "      <th></th>\n",
       "      <th></th>\n",
       "      <th></th>\n",
       "      <th></th>\n",
       "      <th></th>\n",
       "    </tr>\n",
       "  </thead>\n",
       "  <tbody>\n",
       "    <tr>\n",
       "      <th>成都</th>\n",
       "      <td>8000</td>\n",
       "      <td>9000</td>\n",
       "      <td>3000</td>\n",
       "      <td>9000</td>\n",
       "      <td>10000</td>\n",
       "      <td>3200</td>\n",
       "    </tr>\n",
       "    <tr>\n",
       "      <th>绵阳</th>\n",
       "      <td>5600</td>\n",
       "      <td>7000</td>\n",
       "      <td>1600</td>\n",
       "      <td>5800</td>\n",
       "      <td>8000</td>\n",
       "      <td>2100</td>\n",
       "    </tr>\n",
       "    <tr>\n",
       "      <th>汶川</th>\n",
       "      <td>4000</td>\n",
       "      <td>5000</td>\n",
       "      <td>2000</td>\n",
       "      <td>4600</td>\n",
       "      <td>7800</td>\n",
       "      <td>1700</td>\n",
       "    </tr>\n",
       "    <tr>\n",
       "      <th>攀枝花</th>\n",
       "      <td>3200</td>\n",
       "      <td>4500</td>\n",
       "      <td>1000</td>\n",
       "      <td>3400</td>\n",
       "      <td>3800</td>\n",
       "      <td>2000</td>\n",
       "    </tr>\n",
       "  </tbody>\n",
       "</table>\n",
       "</div>"
      ],
      "text/plain": [
       "      上半年               下半年             \n",
       "      90#   93#   97#   90#    93#   97#\n",
       "0                                       \n",
       "成都   8000  9000  3000  9000  10000  3200\n",
       "绵阳   5600  7000  1600  5800   8000  2100\n",
       "汶川   4000  5000  2000  4600   7800  1700\n",
       "攀枝花  3200  4500  1000  3400   3800  2000"
      ]
     },
     "execution_count": 7,
     "metadata": {},
     "output_type": "execute_result"
    }
   ],
   "source": [
    "# 使用dataFrame的columns属性，来对表格索引重新赋值\n",
    "sheet2.columns = column\n",
    "sheet2"
   ]
  },
  {
   "cell_type": "code",
   "execution_count": 17,
   "metadata": {},
   "outputs": [],
   "source": [
    "# 多级索引的赋值使用如下方法\n",
    "sheet2.loc['成都',('上半年','90#')] = 8900"
   ]
  },
  {
   "cell_type": "code",
   "execution_count": 28,
   "metadata": {
    "collapsed": true
   },
   "outputs": [
    {
     "name": "stderr",
     "output_type": "stream",
     "text": [
      "d:\\python3.6\\lib\\site-packages\\pandas\\core\\indexing.py:194: SettingWithCopyWarning: \n",
      "A value is trying to be set on a copy of a slice from a DataFrame\n",
      "\n",
      "See the caveats in the documentation: http://pandas.pydata.org/pandas-docs/stable/indexing.html#indexing-view-versus-copy\n",
      "  self._setitem_with_indexer(indexer, value)\n",
      "d:\\python3.6\\lib\\site-packages\\ipykernel_launcher.py:1: SettingWithCopyWarning: \n",
      "A value is trying to be set on a copy of a slice from a DataFrame\n",
      "\n",
      "See the caveats in the documentation: http://pandas.pydata.org/pandas-docs/stable/indexing.html#indexing-view-versus-copy\n",
      "  \"\"\"Entry point for launching an IPython kernel.\n"
     ]
    }
   ],
   "source": [
    "# 多级索引的访问可以使用如下方法\n",
    "# 这种属于跨级访问，相当于对sheet2['上半年']产生的临时对象赋值\n",
    "sheet2['上半年'].loc['成都','90#'] = 18000"
   ]
  },
  {
   "cell_type": "code",
   "execution_count": 24,
   "metadata": {},
   "outputs": [],
   "source": [
    "# 多级索引赋值还可以采用如下办法\n",
    "sheet2_copy = sheet2['上半年'].copy()\n",
    "sheet2_copy.loc['成都','90#'] = 9700\n",
    "sheet2['上半年'] = sheet2_copy\n",
    "sheet2"
   ]
  },
  {
   "cell_type": "code",
   "execution_count": 28,
   "metadata": {
    "collapsed": true
   },
   "outputs": [
    {
     "data": {
      "text/html": [
       "<div>\n",
       "<style scoped>\n",
       "    .dataframe tbody tr th:only-of-type {\n",
       "        vertical-align: middle;\n",
       "    }\n",
       "\n",
       "    .dataframe tbody tr th {\n",
       "        vertical-align: top;\n",
       "    }\n",
       "\n",
       "    .dataframe thead th {\n",
       "        text-align: right;\n",
       "    }\n",
       "</style>\n",
       "<table border=\"1\" class=\"dataframe\">\n",
       "  <thead>\n",
       "    <tr style=\"text-align: right;\">\n",
       "      <th></th>\n",
       "      <th>90#</th>\n",
       "      <th>93#</th>\n",
       "      <th>97#</th>\n",
       "    </tr>\n",
       "    <tr>\n",
       "      <th>0</th>\n",
       "      <th></th>\n",
       "      <th></th>\n",
       "      <th></th>\n",
       "    </tr>\n",
       "  </thead>\n",
       "  <tbody>\n",
       "    <tr>\n",
       "      <th>成都</th>\n",
       "      <td>9700</td>\n",
       "      <td>9000</td>\n",
       "      <td>3000</td>\n",
       "    </tr>\n",
       "    <tr>\n",
       "      <th>绵阳</th>\n",
       "      <td>5600</td>\n",
       "      <td>7000</td>\n",
       "      <td>1600</td>\n",
       "    </tr>\n",
       "    <tr>\n",
       "      <th>汶川</th>\n",
       "      <td>4000</td>\n",
       "      <td>5000</td>\n",
       "      <td>2000</td>\n",
       "    </tr>\n",
       "    <tr>\n",
       "      <th>攀枝花</th>\n",
       "      <td>3200</td>\n",
       "      <td>4500</td>\n",
       "      <td>1000</td>\n",
       "    </tr>\n",
       "  </tbody>\n",
       "</table>\n",
       "</div>"
      ],
      "text/plain": [
       "      90#   93#   97#\n",
       "0                    \n",
       "成都   9700  9000  3000\n",
       "绵阳   5600  7000  1600\n",
       "汶川   4000  5000  2000\n",
       "攀枝花  3200  4500  1000"
      ]
     },
     "execution_count": 28,
     "metadata": {},
     "output_type": "execute_result"
    }
   ],
   "source": [
    "# 普通一级索引的访问方式回顾\n",
    "sheet2_copy"
   ]
  },
  {
   "cell_type": "code",
   "execution_count": 33,
   "metadata": {},
   "outputs": [
    {
     "data": {
      "text/plain": [
       "1600"
      ]
     },
     "execution_count": 33,
     "metadata": {},
     "output_type": "execute_result"
    }
   ],
   "source": [
    "# 显式访问\n",
    "# 1. 访问元素\n",
    "sheet2_copy.loc['绵阳']['97#']  \n",
    "sheet2_copy['97#'].loc['绵阳']\n",
    "sheet2_copy.loc['绵阳','97#']\n",
    "# 2. 访问行\n",
    "sheet2_copy.loc['行索引']\n",
    "sheet2_copy.loc[index1:index2]\n",
    "# 3. 访问列\n",
    "sheet2_copy['列索引']\n",
    "sheet2_copy.loc[:,column1:column2]"
   ]
  },
  {
   "cell_type": "code",
   "execution_count": 36,
   "metadata": {
    "collapsed": true
   },
   "outputs": [
    {
     "data": {
      "text/html": [
       "<div>\n",
       "<style scoped>\n",
       "    .dataframe tbody tr th:only-of-type {\n",
       "        vertical-align: middle;\n",
       "    }\n",
       "\n",
       "    .dataframe tbody tr th {\n",
       "        vertical-align: top;\n",
       "    }\n",
       "\n",
       "    .dataframe thead th {\n",
       "        text-align: right;\n",
       "    }\n",
       "</style>\n",
       "<table border=\"1\" class=\"dataframe\">\n",
       "  <thead>\n",
       "    <tr style=\"text-align: right;\">\n",
       "      <th></th>\n",
       "      <th>93#</th>\n",
       "      <th>97#</th>\n",
       "    </tr>\n",
       "    <tr>\n",
       "      <th>0</th>\n",
       "      <th></th>\n",
       "      <th></th>\n",
       "    </tr>\n",
       "  </thead>\n",
       "  <tbody>\n",
       "    <tr>\n",
       "      <th>成都</th>\n",
       "      <td>9000</td>\n",
       "      <td>3000</td>\n",
       "    </tr>\n",
       "    <tr>\n",
       "      <th>绵阳</th>\n",
       "      <td>7000</td>\n",
       "      <td>1600</td>\n",
       "    </tr>\n",
       "    <tr>\n",
       "      <th>汶川</th>\n",
       "      <td>5000</td>\n",
       "      <td>2000</td>\n",
       "    </tr>\n",
       "    <tr>\n",
       "      <th>攀枝花</th>\n",
       "      <td>4500</td>\n",
       "      <td>1000</td>\n",
       "    </tr>\n",
       "  </tbody>\n",
       "</table>\n",
       "</div>"
      ],
      "text/plain": [
       "      93#   97#\n",
       "0              \n",
       "成都   9000  3000\n",
       "绵阳   7000  1600\n",
       "汶川   5000  2000\n",
       "攀枝花  4500  1000"
      ]
     },
     "execution_count": 36,
     "metadata": {},
     "output_type": "execute_result"
    }
   ],
   "source": [
    "# dataframe的列切片要从行的方向着手\n",
    "sheet2_copy.loc[:,'93#':'97#']"
   ]
  },
  {
   "cell_type": "code",
   "execution_count": 39,
   "metadata": {
    "collapsed": true
   },
   "outputs": [
    {
     "data": {
      "text/html": [
       "<div>\n",
       "<style scoped>\n",
       "    .dataframe tbody tr th:only-of-type {\n",
       "        vertical-align: middle;\n",
       "    }\n",
       "\n",
       "    .dataframe tbody tr th {\n",
       "        vertical-align: top;\n",
       "    }\n",
       "\n",
       "    .dataframe thead th {\n",
       "        text-align: right;\n",
       "    }\n",
       "</style>\n",
       "<table border=\"1\" class=\"dataframe\">\n",
       "  <thead>\n",
       "    <tr style=\"text-align: right;\">\n",
       "      <th></th>\n",
       "      <th>90#</th>\n",
       "      <th>93#</th>\n",
       "      <th>97#</th>\n",
       "    </tr>\n",
       "    <tr>\n",
       "      <th>0</th>\n",
       "      <th></th>\n",
       "      <th></th>\n",
       "      <th></th>\n",
       "    </tr>\n",
       "  </thead>\n",
       "  <tbody>\n",
       "    <tr>\n",
       "      <th>成都</th>\n",
       "      <td>9700</td>\n",
       "      <td>9000</td>\n",
       "      <td>3000</td>\n",
       "    </tr>\n",
       "    <tr>\n",
       "      <th>绵阳</th>\n",
       "      <td>5600</td>\n",
       "      <td>7000</td>\n",
       "      <td>1600</td>\n",
       "    </tr>\n",
       "    <tr>\n",
       "      <th>汶川</th>\n",
       "      <td>4000</td>\n",
       "      <td>5000</td>\n",
       "      <td>2000</td>\n",
       "    </tr>\n",
       "  </tbody>\n",
       "</table>\n",
       "</div>"
      ],
      "text/plain": [
       "     90#   93#   97#\n",
       "0                   \n",
       "成都  9700  9000  3000\n",
       "绵阳  5600  7000  1600\n",
       "汶川  4000  5000  2000"
      ]
     },
     "execution_count": 39,
     "metadata": {},
     "output_type": "execute_result"
    }
   ],
   "source": [
    "sheet2_copy.loc['成都':'汶川','90#':'97#']"
   ]
  },
  {
   "cell_type": "code",
   "execution_count": 41,
   "metadata": {
    "collapsed": true
   },
   "outputs": [
    {
     "data": {
      "text/plain": [
       "0\n",
       "成都     9700\n",
       "绵阳     5600\n",
       "汶川     4000\n",
       "攀枝花    3200\n",
       "Name: 90#, dtype: int64"
      ]
     },
     "execution_count": 41,
     "metadata": {},
     "output_type": "execute_result"
    }
   ],
   "source": [
    "# 隐式访问\n",
    "# 1.访问元素\n",
    "# sheet2_copy.iloc[indexnumber,columnnumber]\n",
    "# 2.访问行、行切片\n",
    "sheet2_copy.iloc[0]\n",
    "sheet2_copy.iloc[0:2]\n",
    "# 3.访问列、列切片\n",
    "sheet2_copy.iloc[:,0]\n",
    "sheet2_copy.iloc[:,0:2]"
   ]
  }
 ],
 "metadata": {
  "kernelspec": {
   "display_name": "Python 3",
   "language": "python",
   "name": "python3"
  },
  "language_info": {
   "codemirror_mode": {
    "name": "ipython",
    "version": 3
   },
   "file_extension": ".py",
   "mimetype": "text/x-python",
   "name": "python",
   "nbconvert_exporter": "python",
   "pygments_lexer": "ipython3",
   "version": "3.6.2"
  }
 },
 "nbformat": 4,
 "nbformat_minor": 2
}
